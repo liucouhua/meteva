{
 "cells": [
  {
   "cell_type": "code",
   "execution_count": 1,
   "metadata": {
    "scrolled": false
   },
   "outputs": [
    {
     "data": {
      "application/vnd.jupyter.widget-view+json": {
       "model_id": "8cd9dd6c5b50406aace961f0fe2d8e1a",
       "version_major": 2,
       "version_minor": 0
      },
      "text/plain": [
       "interactive(children=(ToggleButtons(description='观测要素:', options=('平均风_2分钟', '温度', '相对湿度', '能见度'), value='平均风_…"
      ]
     },
     "metadata": {},
     "output_type": "display_data"
    }
   ],
   "source": [
    "%matplotlib inline\n",
    "%load_ext autoreload\n",
    "%autoreload 2\n",
    "from ipywidgets import interactive\n",
    "from ipywidgets import widgets,interactive,interact_manual\n",
    "import meteva.product.presentation.wuhan as wh\n",
    "interactive_plot = interact_manual(wh.ob_multi_fo_time,ob_element = wh.tb_ob_element,model_name= wh.tb_model_name,\n",
    "   model_level= wh.tb_model_level,station_id = wh.tb_station_id,max_dh =wh.tb_max_dh)"
   ]
  },
  {
   "cell_type": "code",
   "execution_count": null,
   "metadata": {},
   "outputs": [],
   "source": []
  }
 ],
 "metadata": {
  "kernelspec": {
   "display_name": "Python 3",
   "language": "python",
   "name": "python3"
  },
  "language_info": {
   "codemirror_mode": {
    "name": "ipython",
    "version": 3
   },
   "file_extension": ".py",
   "mimetype": "text/x-python",
   "name": "python",
   "nbconvert_exporter": "python",
   "pygments_lexer": "ipython3",
   "version": "3.7.1"
  }
 },
 "nbformat": 4,
 "nbformat_minor": 2
}
