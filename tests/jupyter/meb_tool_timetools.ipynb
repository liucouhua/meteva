{
 "cells": [
  {
   "cell_type": "code",
   "execution_count": 1,
   "metadata": {},
   "outputs": [],
   "source": [
    "%matplotlib inline\n",
    "%load_ext autoreload\n",
    "%autoreload 2\n",
    "import meteva.base as meb\n",
    "import datetime\n",
    "import numpy as np"
   ]
  },
  {
   "cell_type": "markdown",
   "metadata": {},
   "source": [
    "在python编程中，经常涉及到datetime,numpy.datetime64和字符型的时间之间的转换问题。本程序库对此进行了进一步的封装。"
   ]
  },
  {
   "cell_type": "markdown",
   "metadata": {},
   "source": [
    "# 转换为datetime.datetime类型\n",
    "**all_type_time_to_datetime(time0)**  \n",
    "将任意类型的时间转换为python中detetime.datetime类型\n",
    "\n",
    "\n",
    "**参数说明：**  \n",
    " **time0**: 字符型或datetime.datetime类型或numpy.datetime64类型的时间变量   \n",
    " **return**: datetime.datetime类型变量   \n",
    " \n",
    "   \n",
    " **调用示例：**"
   ]
  },
  {
   "cell_type": "code",
   "execution_count": 2,
   "metadata": {},
   "outputs": [
    {
     "name": "stdout",
     "output_type": "stream",
     "text": [
      "2019-12-31 08:00:00\n"
     ]
    }
   ],
   "source": [
    "time_str0 = \"2019123108\"\n",
    "datetime1 = meb.all_type_time_to_datetime(time_str0)\n",
    "print(datetime1)"
   ]
  },
  {
   "cell_type": "code",
   "execution_count": 3,
   "metadata": {},
   "outputs": [
    {
     "name": "stdout",
     "output_type": "stream",
     "text": [
      "2019-12-31 08:00:00\n"
     ]
    }
   ],
   "source": [
    "datetime0 = datetime.datetime(2019,12,31,8,0)\n",
    "datetime1 = meb.all_type_time_to_datetime(datetime0)\n",
    "print(datetime1)"
   ]
  },
  {
   "cell_type": "code",
   "execution_count": 4,
   "metadata": {},
   "outputs": [
    {
     "name": "stdout",
     "output_type": "stream",
     "text": [
      "2019-12-31 08:00:00\n"
     ]
    }
   ],
   "source": [
    "datetime64_0 = np.datetime64('2019-12-31T08:00:00.000000')\n",
    "datetime1 = meb.all_type_time_to_datetime(datetime0)\n",
    "print(datetime1)"
   ]
  },
  {
   "cell_type": "markdown",
   "metadata": {},
   "source": [
    "# 转换为numpy.datetime64类型\n",
    "**all_type_time_to_datetime(time0)**  \n",
    "将任意类型的时间转换为numpy.datetime64类型\n",
    "\n",
    "\n",
    "**参数说明：**  \n",
    " **time0**: 字符型或datetime.datetime类型或numpy.datetime64类型的时间变量   \n",
    " **return**: numpy.datetime64类型变量   \n",
    " \n",
    "   \n",
    " **调用示例：**"
   ]
  },
  {
   "cell_type": "code",
   "execution_count": 5,
   "metadata": {},
   "outputs": [
    {
     "name": "stdout",
     "output_type": "stream",
     "text": [
      "2019-12-31T08:00:00.000000\n"
     ]
    }
   ],
   "source": [
    "datetime64_1 = meb.all_type_time_to_time64(time_str0)\n",
    "print(datetime64_1)"
   ]
  },
  {
   "cell_type": "code",
   "execution_count": 6,
   "metadata": {},
   "outputs": [
    {
     "name": "stdout",
     "output_type": "stream",
     "text": [
      "2019-12-31T08:00:00.000000\n"
     ]
    }
   ],
   "source": [
    "datetime64_1 = meb.all_type_time_to_time64(datetime0)\n",
    "print(datetime64_1)"
   ]
  },
  {
   "cell_type": "code",
   "execution_count": 7,
   "metadata": {},
   "outputs": [
    {
     "name": "stdout",
     "output_type": "stream",
     "text": [
      "2019-12-31T08:00:00.000000\n"
     ]
    }
   ],
   "source": [
    "datetime64_1 = meb.all_type_time_to_time64(datetime64_0)\n",
    "print(datetime64_1)"
   ]
  },
  {
   "cell_type": "markdown",
   "metadata": {},
   "source": [
    "# 转换为仅包含数字的字符串\n",
    "**all_type_time_to_datetime(time0)**  \n",
    "将任意类型的时间转换为仅包含数字的字符串\n",
    "\n",
    "\n",
    "**参数说明：**  \n",
    " **time0**: 字符型或datetime.datetime类型或numpy.datetime64类型的时间变量   \n",
    " **return**: 字符串      \n",
    " \n",
    "   \n",
    " **调用示例：**"
   ]
  },
  {
   "cell_type": "code",
   "execution_count": 8,
   "metadata": {},
   "outputs": [
    {
     "name": "stdout",
     "output_type": "stream",
     "text": [
      "20191231080000\n"
     ]
    }
   ],
   "source": [
    "time_str1 = meb.all_type_time_to_str(time_str0)\n",
    "print(time_str1)"
   ]
  },
  {
   "cell_type": "code",
   "execution_count": 9,
   "metadata": {},
   "outputs": [
    {
     "name": "stdout",
     "output_type": "stream",
     "text": [
      "20191231080000\n"
     ]
    }
   ],
   "source": [
    "time_str1 = meb.all_type_time_to_str(datetime0)\n",
    "print(time_str1)"
   ]
  },
  {
   "cell_type": "code",
   "execution_count": 10,
   "metadata": {},
   "outputs": [
    {
     "name": "stdout",
     "output_type": "stream",
     "text": [
      "20191231080000\n"
     ]
    }
   ],
   "source": [
    "time_str1 = meb.all_type_time_to_str(datetime64_0)\n",
    "print(time_str1)"
   ]
  },
  {
   "cell_type": "markdown",
   "metadata": {},
   "source": [
    "# 时间差转换为numpy.timedelta64类型\n",
    "**all_type_timedelta_to_datetime(time0)**  \n",
    "将时间差转换为numpy.timedelta64类型\n",
    "\n",
    "\n",
    "**参数说明：**  \n",
    " **time0**: 字符型或datetime.timedelta类型或numpy.timedelta64类型的时间变量   \n",
    " **return**: numpy.timedelta64类型变量   \n",
    " \n",
    "   \n",
    " **调用示例：**"
   ]
  },
  {
   "cell_type": "code",
   "execution_count": 11,
   "metadata": {},
   "outputs": [
    {
     "name": "stdout",
     "output_type": "stream",
     "text": [
      "43200000000 microseconds\n"
     ]
    }
   ],
   "source": [
    "dtime_str0 = \"12h\"\n",
    "timedelta = meb.all_type_timedelta_to_timedelta64(dtime_str0)\n",
    "print(timedelta)"
   ]
  },
  {
   "cell_type": "code",
   "execution_count": 12,
   "metadata": {},
   "outputs": [
    {
     "name": "stdout",
     "output_type": "stream",
     "text": [
      "43200000000 microseconds\n"
     ]
    }
   ],
   "source": [
    "dtime64 = meb.all_type_timedelta_to_timedelta64(timedelta)\n",
    "print(dtime64)"
   ]
  },
  {
   "cell_type": "code",
   "execution_count": 13,
   "metadata": {},
   "outputs": [
    {
     "name": "stdout",
     "output_type": "stream",
     "text": [
      "86400000000 microseconds\n"
     ]
    }
   ],
   "source": [
    "dtime64 = meb.all_type_timedelta_to_timedelta64(datetime.timedelta(hours = 24))\n",
    "print(dtime64)"
   ]
  },
  {
   "cell_type": "markdown",
   "metadata": {},
   "source": [
    "# 时间差转换为datetime.timedelta类型\n",
    "**all_type_timedelta_to_datetime(time0)**  \n",
    "将时间差转换为datetime.timedelta类型\n",
    "\n",
    "\n",
    "**参数说明：**  \n",
    " **time0**: 字符型或datetime.timedelta类型或numpy.timedelta64类型的时间变量   \n",
    " **return**: datetime.timedelta类型变量   \n",
    " \n",
    "   \n",
    " **调用示例：**"
   ]
  },
  {
   "cell_type": "code",
   "execution_count": 17,
   "metadata": {},
   "outputs": [
    {
     "name": "stdout",
     "output_type": "stream",
     "text": [
      "1 day, 0:00:00\n"
     ]
    }
   ],
   "source": [
    "dtime1 = meb.all_type_timedelta_to_timedelta(dtime64)\n",
    "print(dtime1)"
   ]
  },
  {
   "cell_type": "code",
   "execution_count": 19,
   "metadata": {},
   "outputs": [
    {
     "name": "stdout",
     "output_type": "stream",
     "text": [
      "1 day, 0:00:00\n"
     ]
    }
   ],
   "source": [
    "dtime1 = meb.all_type_timedelta_to_timedelta(\"24h\")\n",
    "print(dtime1)"
   ]
  },
  {
   "cell_type": "code",
   "execution_count": 20,
   "metadata": {},
   "outputs": [
    {
     "name": "stdout",
     "output_type": "stream",
     "text": [
      "1 day, 0:00:00\n"
     ]
    }
   ],
   "source": [
    "dtime1 = meb.all_type_timedelta_to_timedelta(datetime.timedelta(hours = 24))\n",
    "print(dtime1)"
   ]
  },
  {
   "cell_type": "code",
   "execution_count": null,
   "metadata": {},
   "outputs": [],
   "source": []
  }
 ],
 "metadata": {
  "kernelspec": {
   "display_name": "Python 3",
   "language": "python",
   "name": "python3"
  },
  "language_info": {
   "codemirror_mode": {
    "name": "ipython",
    "version": 3
   },
   "file_extension": ".py",
   "mimetype": "text/x-python",
   "name": "python",
   "nbconvert_exporter": "python",
   "pygments_lexer": "ipython3",
   "version": "3.7.1"
  }
 },
 "nbformat": 4,
 "nbformat_minor": 2
}
