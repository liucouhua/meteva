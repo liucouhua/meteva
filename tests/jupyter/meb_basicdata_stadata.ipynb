{
 "cells": [
  {
   "cell_type": "code",
   "execution_count": 1,
   "metadata": {},
   "outputs": [],
   "source": [
    "%matplotlib inline\n",
    "%load_ext autoreload\n",
    "%autoreload 2\n",
    "import meteva.base as meb\n",
    "import numpy as np\n",
    "import datetime\n",
    "import pandas as pd"
   ]
  },
  {
   "cell_type": "markdown",
   "metadata": {},
   "source": [
    "<font face=\"黑体\" color=blue size=5>站点数据类</font>  \n",
    "格式为[pandas.DataFrame](https://pandas.pydata.org/pandas-docs/stable/reference/frame.html#dataframe)的数据。本函数库提供了对该网格数据的一序列初始化、读写和转换函数，经过本函数库初始化、读取或转换生成的站点数据统一具备顺序为level，time，dtime，id,lat，lon，alt（层次，时间，预报时效，站点Id，站点经度，站点纬度，站点高度） 共7个表示时空信息的列变量，在第8列开始为数据内容。在预报检业务中，预报时效dtime通常只有小时和分钟两种单位，但是DataFrame并不方便记录时效的单位，因此在本程序库中设定当dtime取值小于10000，则时效 = dtime小时，若取值大10000，则代表 时效 = (dtime - 10000)分钟   \n",
    "\n",
    "### 初始化站点数据\n",
    "**sta_data(df,columns = None)**  \n",
    "将一个普通的DataFrame数据，转换成站点数据，如果输入的数据对应的时间或空间维度缺失，则设置为缺省值    \n",
    "\n",
    "**参数说明：**  \n",
    " **df**: dataframe的站点数据  \n",
    " **clumns**: 长度和df列数相同的列表，其中第i个元素是df第i列的数据将被赋予的列名称，例如若df第i列数据内容是站点号，则clumns[i]若df第i列数据内容是站点号，则clumns[i]应该设置\"id\",若df第i列数据内容是时效，则clumns[i]应该设置\"dtime\"，其它类似。   \n",
    " **return**: 前8列分别为'level', 'time', 'dtime', 'id', 'lon', 'lat', 'alt'  的一个DataFrame  \n",
    "\n",
    "\n",
    "**调用示例**"
   ]
  },
  {
   "cell_type": "code",
   "execution_count": 2,
   "metadata": {},
   "outputs": [
    {
     "name": "stdout",
     "output_type": "stream",
     "text": [
      "       站号     经度    纬度        数据\n",
      "0   54511  100.0  30.0 -1.398486\n",
      "1   54512  100.1  30.1 -0.651728\n",
      "2   54513  100.2  30.2  0.511445\n",
      "3   54514  100.3  30.3  0.888764\n",
      "4   54515  100.4  30.4 -1.349103\n",
      "..    ...    ...   ...       ...\n",
      "95  54606  109.5  39.5 -1.557407\n",
      "96  54607  109.6  39.6 -0.565830\n",
      "97  54608  109.7  39.7  0.396248\n",
      "98  54609  109.8  39.8 -0.937951\n",
      "99  54610  109.9  39.9 -1.682961\n",
      "\n",
      "[100 rows x 4 columns]\n"
     ]
    }
   ],
   "source": [
    "data = {\"站号\":np.arange(54511,54611).tolist(),\n",
    "        \"经度\":np.arange(100,110,0.1).tolist(),\n",
    "        \"纬度\":np.arange(30,40,0.1).tolist(),\n",
    "        \"数据\":np.random.randn(100)}\n",
    "df = pd.DataFrame(data)\n",
    "print(df)"
   ]
  },
  {
   "cell_type": "code",
   "execution_count": 3,
   "metadata": {},
   "outputs": [
    {
     "name": "stdout",
     "output_type": "stream",
     "text": [
      "    level  time  dtime     id   lon    lat     data0\n",
      "0     NaN   NaN    NaN  54511  30.0  100.0 -1.398486\n",
      "1     NaN   NaN    NaN  54512  30.1  100.1 -0.651728\n",
      "2     NaN   NaN    NaN  54513  30.2  100.2  0.511445\n",
      "3     NaN   NaN    NaN  54514  30.3  100.3  0.888764\n",
      "4     NaN   NaN    NaN  54515  30.4  100.4 -1.349103\n",
      "..    ...   ...    ...    ...   ...    ...       ...\n",
      "95    NaN   NaN    NaN  54606  39.5  109.5 -1.557407\n",
      "96    NaN   NaN    NaN  54607  39.6  109.6 -0.565830\n",
      "97    NaN   NaN    NaN  54608  39.7  109.7  0.396248\n",
      "98    NaN   NaN    NaN  54609  39.8  109.8 -0.937951\n",
      "99    NaN   NaN    NaN  54610  39.9  109.9 -1.682961\n",
      "\n",
      "[100 rows x 7 columns]\n"
     ]
    }
   ],
   "source": [
    "sta = meb.sta_data(df,columns = [\"id\",\"lat\",\"lon\",\"data0\"])\n",
    "print(sta)"
   ]
  },
  {
   "cell_type": "markdown",
   "metadata": {},
   "source": [
    "### 设置数据名称\n",
    "**set_stadata_names(sta,data_name_list):**  \n",
    "设置站点数据的内容部分（第7列之后）的列名称    \n",
    "\n",
    "**参数说明：**  \n",
    " **sta**: 站点数据  \n",
    " **data_name_list**: 数据名称列表，其长度等于sta的列数 - 7。   \n",
    " **return**: None\n",
    "\n",
    "\n",
    "**调用示例**"
   ]
  },
  {
   "cell_type": "code",
   "execution_count": 4,
   "metadata": {},
   "outputs": [
    {
     "name": "stdout",
     "output_type": "stream",
     "text": [
      "    level  time  dtime     id   lon    lat  new_name\n",
      "0     NaN   NaN    NaN  54511  30.0  100.0 -1.398486\n",
      "1     NaN   NaN    NaN  54512  30.1  100.1 -0.651728\n",
      "2     NaN   NaN    NaN  54513  30.2  100.2  0.511445\n",
      "3     NaN   NaN    NaN  54514  30.3  100.3  0.888764\n",
      "4     NaN   NaN    NaN  54515  30.4  100.4 -1.349103\n",
      "..    ...   ...    ...    ...   ...    ...       ...\n",
      "95    NaN   NaN    NaN  54606  39.5  109.5 -1.557407\n",
      "96    NaN   NaN    NaN  54607  39.6  109.6 -0.565830\n",
      "97    NaN   NaN    NaN  54608  39.7  109.7  0.396248\n",
      "98    NaN   NaN    NaN  54609  39.8  109.8 -0.937951\n",
      "99    NaN   NaN    NaN  54610  39.9  109.9 -1.682961\n",
      "\n",
      "[100 rows x 7 columns]\n"
     ]
    }
   ],
   "source": [
    "meb.set_stadata_names(sta,[\"new_name\"])\n",
    "print(sta)"
   ]
  },
  {
   "cell_type": "markdown",
   "metadata": {},
   "source": [
    "### 获取数据名称列表\n",
    "**get_stadata_names(sta):**  \n",
    "获取站点数据的内容部分（第6列之后）的列名称    \n",
    "\n",
    "**参数说明：**  \n",
    " **sta**: 站点数据  \n",
    " **return**: 数据名称列表，其长度等于sta的列数 - 7。  \n",
    "\n",
    "\n",
    "**调用示例**"
   ]
  },
  {
   "cell_type": "code",
   "execution_count": 5,
   "metadata": {},
   "outputs": [
    {
     "name": "stdout",
     "output_type": "stream",
     "text": [
      "['new_name']\n"
     ]
    }
   ],
   "source": [
    "names = meb.get_stadata_names(sta)\n",
    "print(names)"
   ]
  },
  {
   "cell_type": "markdown",
   "metadata": {},
   "source": [
    "### 设置数据时空坐标\n",
    "**set_stadata_coords(sta,level = None,time = None,dtime = None,id = None,lat = None,lon = None,alt = None):**  \n",
    "设置站点数据时空坐标部分的取值  \n",
    "\n",
    "**参数说明：**  \n",
    " **sta**: 站点数据  \n",
    " **level**: 层次，如果该参数不为None，则站点数据中level列设置为该参数值    \n",
    " **time**: 时间，如果该参数不为None，则站点数据中time列设置为该参数值      \n",
    " **dtime**: 时效，如果该参数不为None，则站点数据中dtime列设置为该参数值    \n",
    " **id**: 站号，如果该参数不为None，则站点数据中id列设置为该参数值   \n",
    " **lat**: 站点经度，如果该参数不为None，则站点数据中lat列设置为该参数值       \n",
    " **lon**: 站点纬度，如果该参数不为None，则站点数据中lon列设置为该参数值   \n",
    " **alt**: 站点高度，如果该参数不为None，则站点数据中alt列设置为该参数值        \n",
    " **return**: None\n",
    "\n",
    "**调用示例**"
   ]
  },
  {
   "cell_type": "code",
   "execution_count": 6,
   "metadata": {},
   "outputs": [
    {
     "name": "stdout",
     "output_type": "stream",
     "text": [
      "    level                time  dtime     id   lon    lat  new_name\n",
      "0       0 2019-01-01 08:00:00      0  54511  30.0  100.0 -1.398486\n",
      "1       0 2019-01-01 08:00:00      0  54512  30.1  100.1 -0.651728\n",
      "2       0 2019-01-01 08:00:00      0  54513  30.2  100.2  0.511445\n",
      "3       0 2019-01-01 08:00:00      0  54514  30.3  100.3  0.888764\n",
      "4       0 2019-01-01 08:00:00      0  54515  30.4  100.4 -1.349103\n",
      "..    ...                 ...    ...    ...   ...    ...       ...\n",
      "95      0 2019-01-01 08:00:00      0  54606  39.5  109.5 -1.557407\n",
      "96      0 2019-01-01 08:00:00      0  54607  39.6  109.6 -0.565830\n",
      "97      0 2019-01-01 08:00:00      0  54608  39.7  109.7  0.396248\n",
      "98      0 2019-01-01 08:00:00      0  54609  39.8  109.8 -0.937951\n",
      "99      0 2019-01-01 08:00:00      0  54610  39.9  109.9 -1.682961\n",
      "\n",
      "[100 rows x 7 columns]\n"
     ]
    }
   ],
   "source": [
    "meb.set_stadata_coords(sta,level = 0,time = datetime.datetime(2019,1,1,8,0),dtime = 0)\n",
    "print(sta)"
   ]
  },
  {
   "cell_type": "code",
   "execution_count": null,
   "metadata": {},
   "outputs": [],
   "source": []
  }
 ],
 "metadata": {
  "kernelspec": {
   "display_name": "Python 3",
   "language": "python",
   "name": "python3"
  },
  "language_info": {
   "codemirror_mode": {
    "name": "ipython",
    "version": 3
   },
   "file_extension": ".py",
   "mimetype": "text/x-python",
   "name": "python",
   "nbconvert_exporter": "python",
   "pygments_lexer": "ipython3",
   "version": "3.7.1"
  }
 },
 "nbformat": 4,
 "nbformat_minor": 2
}
