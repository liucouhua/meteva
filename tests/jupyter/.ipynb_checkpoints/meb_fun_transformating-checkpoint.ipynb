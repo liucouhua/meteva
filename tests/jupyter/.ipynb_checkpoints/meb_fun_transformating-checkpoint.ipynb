{
 "cells": [
  {
   "cell_type": "code",
   "execution_count": 1,
   "metadata": {},
   "outputs": [],
   "source": [
    "%matplotlib inline\n",
    "%load_ext autoreload\n",
    "%autoreload 2\n",
    "import meteva.base as meb\n",
    "import numpy as np"
   ]
  },
  {
   "cell_type": "markdown",
   "metadata": {},
   "source": [
    "生成示例数据"
   ]
  },
  {
   "cell_type": "code",
   "execution_count": 2,
   "metadata": {},
   "outputs": [
    {
     "name": "stdout",
     "output_type": "stream",
     "text": [
      "<xarray.DataArray 'data0' (member: 2, level: 1, time: 1, dtime: 1, lat: 3, lon: 5)>\n",
      "array([[[[[[0, 1, 2, 3, 4],\n",
      "           [0, 1, 2, 3, 4],\n",
      "           [0, 1, 2, 3, 4]]]]],\n",
      "\n",
      "\n",
      "\n",
      "\n",
      "       [[[[[0, 0, 0, 0, 0],\n",
      "           [1, 1, 1, 1, 1],\n",
      "           [2, 2, 2, 2, 2]]]]]])\n",
      "Coordinates:\n",
      "  * member   (member) <U6 'GRAPES' 'EC'\n",
      "  * level    (level) int32 0\n",
      "  * time     (time) datetime64[ns] 2019-01-30T08:00:00\n",
      "  * dtime    (dtime) int32 24\n",
      "  * lat      (lat) int32 20 21 22\n",
      "  * lon      (lon) int32 100 101 102 103 104\n"
     ]
    }
   ],
   "source": [
    "grid0 = meb.grid([100,104,1],[20,22,1],gtime=[\"2019013008\"],dtime_list = [24],level_list = [0],member_list = [\"GRAPES\",\"EC\"])\n",
    "x= np.arange(5)\n",
    "y= np.arange(3)\n",
    "dat = np.array(np.meshgrid(x,y))\n",
    "grd = meb.grid_data(grid0,dat)   #根据网格信息和numpy数组生成网格数\n",
    "print(grd)"
   ]
  },
  {
   "cell_type": "markdown",
   "metadata": {},
   "source": [
    "# 网格数据转站点数据\n",
    "**trans_grd_to_sta(grd)**\n",
    "将网格数据转换为站点数据，    \n",
    "\n",
    "**参数说明：**  \n",
    " **grd**: 网格数据   \n",
    " **return**: 站点数据,每一行数据的levl,time,dtime lon,lat等列属性由对应网格点的level,time,dtime,lon,lat等维度的坐标来赋值，id列为顺序生成的整数赋值，第6列之后的数据列赋值为网格数据中相同时空坐标的不同member的值        \n",
    "\n",
    "\n",
    "**调用示例**"
   ]
  },
  {
   "cell_type": "code",
   "execution_count": 3,
   "metadata": {},
   "outputs": [
    {
     "name": "stdout",
     "output_type": "stream",
     "text": [
      "    level                time  dtime  id    lon   lat  GRAPES   EC\n",
      "0       0 2019-01-30 08:00:00     24   0  100.0  20.0     0.0  0.0\n",
      "1       0 2019-01-30 08:00:00     24   1  101.0  20.0     1.0  0.0\n",
      "2       0 2019-01-30 08:00:00     24   2  102.0  20.0     2.0  0.0\n",
      "3       0 2019-01-30 08:00:00     24   3  103.0  20.0     3.0  0.0\n",
      "4       0 2019-01-30 08:00:00     24   4  104.0  20.0     4.0  0.0\n",
      "5       0 2019-01-30 08:00:00     24   5  100.0  21.0     0.0  1.0\n",
      "6       0 2019-01-30 08:00:00     24   6  101.0  21.0     1.0  1.0\n",
      "7       0 2019-01-30 08:00:00     24   7  102.0  21.0     2.0  1.0\n",
      "8       0 2019-01-30 08:00:00     24   8  103.0  21.0     3.0  1.0\n",
      "9       0 2019-01-30 08:00:00     24   9  104.0  21.0     4.0  1.0\n",
      "10      0 2019-01-30 08:00:00     24  10  100.0  22.0     0.0  2.0\n",
      "11      0 2019-01-30 08:00:00     24  11  101.0  22.0     1.0  2.0\n",
      "12      0 2019-01-30 08:00:00     24  12  102.0  22.0     2.0  2.0\n",
      "13      0 2019-01-30 08:00:00     24  13  103.0  22.0     3.0  2.0\n",
      "14      0 2019-01-30 08:00:00     24  14  104.0  22.0     4.0  2.0\n"
     ]
    }
   ],
   "source": [
    "sta = meb.fun.trans_grd_to_sta(grd)\n",
    "print(sta)"
   ]
  },
  {
   "cell_type": "markdown",
   "metadata": {},
   "source": [
    "# 规则站点数据转网格数据\n",
    "**trans_sta_to_grd(grd)**\n",
    "将规则的站点数据转换为网格数据，    \n",
    "\n",
    "**参数说明：**  \n",
    " **sta**: 站点数据，其中站点的经度、纬度、时间等维度size = 1 或者为等间距的   \n",
    " **return**: 网格数据,其中网格范围是能够包含sta所涉及到的时空范围的最小网格，网格间距或列表有sta中的数据的时空信息列计算得出，member 维对应站点的第6列之后的列名称。网格中的每个格点数据根据时空坐标信息在站点数据中找到对应的行进行赋值，如果找不到对应的行，则赋值为缺省值0.        \n",
    "\n",
    "\n",
    "**调用示例**"
   ]
  },
  {
   "cell_type": "code",
   "execution_count": 4,
   "metadata": {},
   "outputs": [
    {
     "name": "stdout",
     "output_type": "stream",
     "text": [
      "<xarray.DataArray 'data0' (member: 2, level: 1, time: 1, dtime: 1, lat: 3, lon: 5)>\n",
      "array([[[[[[0., 1., 2., 3., 4.],\n",
      "           [0., 1., 2., 3., 4.],\n",
      "           [0., 1., 2., 3., 4.]]]]],\n",
      "\n",
      "\n",
      "\n",
      "\n",
      "       [[[[[0., 0., 0., 0., 0.],\n",
      "           [1., 1., 1., 1., 1.],\n",
      "           [2., 2., 2., 2., 2.]]]]]])\n",
      "Coordinates:\n",
      "  * member   (member) <U6 'GRAPES' 'EC'\n",
      "  * level    (level) int32 0\n",
      "  * time     (time) datetime64[ns] 2019-01-30T08:00:00\n",
      "  * dtime    (dtime) int32 24\n",
      "  * lat      (lat) float64 20.0 21.0 22.0\n",
      "  * lon      (lon) float64 100.0 101.0 102.0 103.0 104.0\n"
     ]
    }
   ],
   "source": [
    "grd1 = meb.trans_sta_to_grd(sta)\n",
    "print(grd1)"
   ]
  },
  {
   "cell_type": "code",
   "execution_count": null,
   "metadata": {},
   "outputs": [],
   "source": []
  }
 ],
 "metadata": {
  "kernelspec": {
   "display_name": "Python 3",
   "language": "python",
   "name": "python3"
  },
  "language_info": {
   "codemirror_mode": {
    "name": "ipython",
    "version": 3
   },
   "file_extension": ".py",
   "mimetype": "text/x-python",
   "name": "python",
   "nbconvert_exporter": "python",
   "pygments_lexer": "ipython3",
   "version": "3.7.1"
  }
 },
 "nbformat": 4,
 "nbformat_minor": 2
}
