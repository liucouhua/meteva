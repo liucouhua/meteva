{
 "cells": [
  {
   "cell_type": "code",
   "execution_count": 1,
   "metadata": {},
   "outputs": [],
   "source": [
    "%matplotlib inline\n",
    "%load_ext autoreload\n",
    "%autoreload 2\n",
    "from meteva.method.probability import *\n",
    "import numpy as np"
   ]
  },
  {
   "cell_type": "markdown",
   "metadata": {},
   "source": [
    "***通过随机函数生成测试数据，用于后续检验函数调用示例***"
   ]
  },
  {
   "cell_type": "code",
   "execution_count": 2,
   "metadata": {},
   "outputs": [],
   "source": [
    "fo = np.random.rand(1000,10)\n",
    "error = np.random.rand(1000,10)-0.5\n",
    "ob = fo + error\n",
    "ob[ob>0.5] = 1\n",
    "ob[ob<=0.5] = 0"
   ]
  },
  {
   "cell_type": "markdown",
   "metadata": {},
   "source": [
    "### bs评分   \n",
    "**bs(Ob, Fo)**  \n",
    "计算brier_score 评分\n",
    "  \n",
    "**参数说明：**  \n",
    " Ob:实况数据, 任意维numpy数组，元素取值必须为0或者1   \n",
    " Fo:预测数据, 任意维numpy数组,Fo.shape 和Ob.shape一致，元素取值必须在区间[0,1]内    \n",
    " return: 0到1的实数，完美值为0  \n",
    " **调用示例：** "
   ]
  },
  {
   "cell_type": "code",
   "execution_count": 3,
   "metadata": {},
   "outputs": [
    {
     "data": {
      "text/plain": [
       "0.16602494861012843"
      ]
     },
     "execution_count": 3,
     "metadata": {},
     "output_type": "execute_result"
    }
   ],
   "source": [
    "bs(ob,fo)"
   ]
  },
  {
   "cell_type": "markdown",
   "metadata": {},
   "source": [
    "### bss评分   \n",
    "**bss(Ob, Fo)**  \n",
    "计算Brier skill score  评分, 它是实际预报bs相对预报随机预报bs评分的技巧。\n",
    "  \n",
    "**参数说明：**  \n",
    " Ob:实况数据, 任意维numpy数组，元素取值必须为0或者1   \n",
    " Fo:预测数据, 任意维numpy数组,Fo.shape 和Ob.shape一致，元素取值必须在区间[0,1]内    \n",
    " return: 负无穷到1的实数，完美值为1  \n",
    " **调用示例：** "
   ]
  },
  {
   "cell_type": "code",
   "execution_count": 4,
   "metadata": {},
   "outputs": [
    {
     "data": {
      "text/plain": [
       "0.3358925284771156"
      ]
     },
     "execution_count": 4,
     "metadata": {},
     "output_type": "execute_result"
    }
   ],
   "source": [
    "bss(ob,fo)"
   ]
  },
  {
   "cell_type": "markdown",
   "metadata": {},
   "source": [
    "### roc面积   \n",
    "**roc_auc(Ob, Fo)**  \n",
    "计算roc图中 roc曲线以下部分的面积。\n",
    "  \n",
    "**参数说明：**  \n",
    " Ob:实况数据, 任意维numpy数组，元素取值必须为0或者1   \n",
    " Fo:预测数据, 任意维numpy数组,Fo.shape 和Ob.shape一致，元素取值必须在区间[0,1]内    \n",
    " return: 0 到 1的实数，完美值为1，小于或等于0.5代表没有预报技巧。  \n",
    " **调用示例：** "
   ]
  },
  {
   "cell_type": "code",
   "execution_count": 5,
   "metadata": {},
   "outputs": [
    {
     "data": {
      "text/plain": [
       "0.8349709629786117"
      ]
     },
     "execution_count": 5,
     "metadata": {},
     "output_type": "execute_result"
    }
   ],
   "source": [
    "roc_auc(ob,fo)"
   ]
  },
  {
   "cell_type": "markdown",
   "metadata": {},
   "source": [
    "   在以上示例中，观测和预报的数据都直接输入到评分函数中进行计算，然而有些情况下待检验的数据太大不能整体存入一个numpy数组中，或者不方便整体存入一个numpy数组中，此时就不能调用上面的方式调用评分函数。为此本程序库设计了一套可分块计算的检验程序。\n",
    "其检验步骤如下：\n",
    "步骤1：根据需要将分块数据逐一输入到中间结果计算函数\n",
    "步骤2：将中间结果进行累加或合并\n",
    "步骤3：根据累加或合并的中间结果计算检验指标\n",
    "通常上述计算中步骤1是最耗费计算资源，为了提高效率步骤1也可以采用并行的方式执行。此外，步骤1执行的结果也可输出到文件中，在后续的检验可以从中读入部分中间结果执行后续步骤，从而可以实现各种方式的分组检验，大大提高检验计算效率。  \n",
    "   另外，在预报检验经常需要进行分组检验，获得不同类别预报的评分指标并进行对比。此时可以应用上述基于中间结果的检验函数对多维中间统计量的整体计算能力来简化代码的复杂度。"
   ]
  },
  {
   "cell_type": "markdown",
   "metadata": {},
   "source": [
    "### 总样本数、误差总和、观测平均、观测方差   \n",
    "**tems(Ob,Fo)**  \n",
    "用来计算bs,bss等检验指标的中间量   \n",
    "   \n",
    "**参数说明：**  \n",
    " Ob:实况数据，任意维numpy数组  \n",
    " Fo:预测数据，任意维numpy数组,Fo.shape 和Ob.shape一致  \n",
    " return: 长度为4的一维numpy数组，其内容依次为总样本数、误差总和、观测的平均值、观测的方差  \n",
    "   \n",
    "\n",
    "### tems合并函数\n",
    "**tems_merge(tems0,tems1)**  \n",
    "用来将tems计算得到的分块中间统计量进行合并，得到两块数据并集对应的统计量  \n",
    "**参数说明：**  \n",
    " tems0: 长度4的一维数组，分别记录了（总样本数、误差总和、观测的平均值、观测的方差）  \n",
    " tems1: 长度4的一维数组，分别记录了（总样本数、误差总和、观测的平均值、观测的方差）  \n",
    " return: 长度4的一维数组，分别记录了（总样本数、误差总和、观测的平均值、观测的方差）  \n",
    "   \n",
    "**调用示例**  "
   ]
  },
  {
   "cell_type": "code",
   "execution_count": 6,
   "metadata": {},
   "outputs": [],
   "source": [
    "model_count = 5\n",
    "day_count = 100\n",
    "tems_array = np.zeros((model_count,4))  \n",
    "grade_count = 10\n",
    "hnh_array = np.zeros((model_count,grade_count,2))\n",
    "for i in range(day_count):\n",
    "    ob = np.random.rand(1000)\n",
    "    ob[ob>0.5] = 1\n",
    "    ob[ob<=0.5] = 0\n",
    "    for j in range(model_count):\n",
    "        fo = np.random.rand(1000)\n",
    "        hnh_array[j,:,:] += hnh(ob,fo,grade_count) #计算并累加区分能力表，函数见probablility.plot.hnh模块\n",
    "        tems1 = tems(ob,fo)\n",
    "        tems_array[j,:] = tems_merge(tems_array[j,:],tems1)"
   ]
  },
  {
   "cell_type": "markdown",
   "metadata": {},
   "source": [
    "### bs评分   \n",
    "**bs_tems(tems_array)**  \n",
    "计算brier_score 评分\n",
    "  \n",
    "**参数说明：**  \n",
    " tems_array:多维numpy数组,其最后一维长度为4，其内容依次为总样本数、误差总和、观测的平均值、观测的方差    \n",
    " return: numpy数组，其中每个元素为 0到1的实数，完美值为0  \n",
    " **调用示例：** "
   ]
  },
  {
   "cell_type": "code",
   "execution_count": 7,
   "metadata": {},
   "outputs": [
    {
     "data": {
      "text/plain": [
       "array([0.33462064, 0.33410698, 0.3332362 , 0.33348588, 0.33193294])"
      ]
     },
     "execution_count": 7,
     "metadata": {},
     "output_type": "execute_result"
    }
   ],
   "source": [
    "bs_tems(tems_array)"
   ]
  },
  {
   "cell_type": "markdown",
   "metadata": {},
   "source": [
    "### bss评分   \n",
    "**bss_tems(tems_array)**  \n",
    "计算Brier skill score  评分, 它是实际预报bs相对预报随机预报bs评分的技巧。\n",
    "  \n",
    "**参数说明：**  \n",
    " tems_array:多维numpy数组,其最后一维长度为4，其内容依次为总样本数、误差总和、观测的平均值、观测的方差   \n",
    " return: numpy数组，其中每个元素为负无穷到1的实数，完美值为1  \n",
    " **调用示例：** "
   ]
  },
  {
   "cell_type": "code",
   "execution_count": 8,
   "metadata": {},
   "outputs": [
    {
     "data": {
      "text/plain": [
       "array([-0.3384849 , -0.33643026, -0.33294713, -0.33394584, -0.32773408])"
      ]
     },
     "execution_count": 8,
     "metadata": {},
     "output_type": "execute_result"
    }
   ],
   "source": [
    "bss_tems(tems_array)"
   ]
  },
  {
   "cell_type": "markdown",
   "metadata": {},
   "source": [
    "### roc面积   \n",
    "**roc_auc_hnh(hnh_array)**  \n",
    "计算roc图中 roc曲线以下部分的面积。\n",
    "  \n",
    "**参数说明：**  \n",
    " hnh_array: grade_count × 2 的numpy数组，其中元素[i,0]和[i,1]分别为预报概率在第i个区间，观测发生和不发生的样本数     \n",
    " Fo:预测数据 预测数据 任意维numpy数组,Fo.shape 和Ob.shape一致，元素取值必须在区间[0,1]内    \n",
    " return: numpy数组，其中每个元素为0 到 1的实数，完美值为1，小于或等于0.5代表没有预报技巧。  \n",
    " **调用示例：** "
   ]
  },
  {
   "cell_type": "code",
   "execution_count": 9,
   "metadata": {},
   "outputs": [
    {
     "data": {
      "text/plain": [
       "array([0.49708748, 0.49856482, 0.50049423, 0.49952291, 0.50322587])"
      ]
     },
     "execution_count": 9,
     "metadata": {},
     "output_type": "execute_result"
    }
   ],
   "source": [
    "roc_auc_hnh(hnh_array)"
   ]
  },
  {
   "cell_type": "markdown",
   "metadata": {},
   "source": [
    "以上只是展示了分类检验的维度为1的情况，实际上上述思路可以扩展至任意高维的情况。熟练使用中间统计量计算和合并方法，基于中间统计量整体计算分类问题下的检验指标数组，是提高代码编写效果的关键。上述检验函数的内部也都采用了numpy的整体计算方式实现，在计算效率上进行了最大程度的优化。"
   ]
  }
 ],
 "metadata": {
  "kernelspec": {
   "display_name": "Python 3",
   "language": "python",
   "name": "python3"
  },
  "language_info": {
   "codemirror_mode": {
    "name": "ipython",
    "version": 3
   },
   "file_extension": ".py",
   "mimetype": "text/x-python",
   "name": "python",
   "nbconvert_exporter": "python",
   "pygments_lexer": "ipython3",
   "version": "3.7.1"
  }
 },
 "nbformat": 4,
 "nbformat_minor": 2
}
