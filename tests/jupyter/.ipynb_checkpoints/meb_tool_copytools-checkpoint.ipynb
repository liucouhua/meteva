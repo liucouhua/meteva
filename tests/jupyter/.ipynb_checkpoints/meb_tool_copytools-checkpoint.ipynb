{
 "cells": [
  {
   "cell_type": "code",
   "execution_count": 1,
   "metadata": {},
   "outputs": [],
   "source": [
    "%matplotlib inline\n",
    "%load_ext autoreload\n",
    "%autoreload 2\n",
    "import meteva.base as meb"
   ]
  },
  {
   "cell_type": "markdown",
   "metadata": {},
   "source": [
    "#  批量文件格式转换  micaps4  -> Netcdf  \n",
    "**copy_m4_to_nc(input_root_dir,output_root_dir,effectiveNum = 3,recover= False,grid = None)**  \n",
    "批量拷贝micaps4类文件成Netcdf格式   \n",
    "\n",
    "**参数说明：**  \n",
    " **input_root_dir**: micaps4格式数据文件的根目录\n",
    " **output_root_dir**: 输出nc文件的根目录    \n",
    " **effectivNum**: 保留的小数点后位数   \n",
    " **recover**: 是否覆盖已经存在的文件   \n",
    " **grid**: grid不为None时，裁剪部分网格数据内容后转为nc格式文件           \n",
    " **return**: None\n",
    "**调用示例**"
   ]
  },
  {
   "cell_type": "code",
   "execution_count": 3,
   "metadata": {},
   "outputs": [
    {
     "name": "stdout",
     "output_type": "stream",
     "text": [
      "Create [H:/test_data/output/meb/copy_test/19120108.000.nc] success\n",
      "剩余1分钟\n",
      "Create [H:/test_data/output/meb/copy_test/19120108.003.nc] success\n",
      "剩余1分钟\n",
      "Create [H:/test_data/output/meb/copy_test/19120108.006.nc] success\n",
      "剩余1分钟\n",
      "Create [H:/test_data/output/meb/copy_test/19120108.009.nc] success\n",
      "剩余1分钟\n",
      "Create [H:/test_data/output/meb/copy_test/19120108.012.nc] success\n",
      "剩余1分钟\n",
      "Create [H:/test_data/output/meb/copy_test/19120108.015.nc] success\n",
      "剩余1分钟\n",
      "Create [H:/test_data/output/meb/copy_test/19120108.018.nc] success\n",
      "剩余1分钟\n",
      "Create [H:/test_data/output/meb/copy_test/19120108.021.nc] success\n",
      "剩余1分钟\n",
      "Create [H:/test_data/output/meb/copy_test/19120108.024.nc] success\n",
      "剩余1分钟\n",
      "Create [H:/test_data/output/meb/copy_test/19120108.027.nc] success\n",
      "剩余1分钟\n",
      "Create [H:/test_data/output/meb/copy_test/19120108.030.nc] success\n",
      "剩余1分钟\n",
      "Create [H:/test_data/output/meb/copy_test/19120108.033.nc] success\n",
      "剩余1分钟\n",
      "Create [H:/test_data/output/meb/copy_test/19120108.036.nc] success\n",
      "剩余1分钟\n",
      "Create [H:/test_data/output/meb/copy_test/19120108.039.nc] success\n",
      "剩余1分钟\n",
      "Create [H:/test_data/output/meb/copy_test/19120108.042.nc] success\n",
      "剩余1分钟\n",
      "Create [H:/test_data/output/meb/copy_test/19120108.045.nc] success\n",
      "剩余1分钟\n",
      "Create [H:/test_data/output/meb/copy_test/19120108.048.nc] success\n",
      "剩余1分钟\n",
      "Create [H:/test_data/output/meb/copy_test/19120108.051.nc] success\n",
      "剩余1分钟\n",
      "Create [H:/test_data/output/meb/copy_test/19120108.054.nc] success\n",
      "剩余1分钟\n",
      "Create [H:/test_data/output/meb/copy_test/19120108.057.nc] success\n",
      "剩余1分钟\n",
      "Create [H:/test_data/output/meb/copy_test/19120108.060.nc] success\n",
      "剩余1分钟\n",
      "Create [H:/test_data/output/meb/copy_test/19120108.063.nc] success\n",
      "剩余1分钟\n",
      "Create [H:/test_data/output/meb/copy_test/19120108.066.nc] success\n",
      "剩余1分钟\n",
      "Create [H:/test_data/output/meb/copy_test/19120108.069.nc] success\n",
      "剩余1分钟\n",
      "Create [H:/test_data/output/meb/copy_test/19120108.072.nc] success\n",
      "剩余1分钟\n"
     ]
    }
   ],
   "source": [
    "input_root_dir = r\"H:\\test_data\\input\\meb\\copy_test\"\n",
    "output_root_dir = r\"H:\\test_data\\output\\meb\\copy_test\"\n",
    "meb.copy_m4_to_nc(input_root_dir,output_root_dir,recover= True)"
   ]
  },
  {
   "cell_type": "code",
   "execution_count": null,
   "metadata": {},
   "outputs": [],
   "source": []
  }
 ],
 "metadata": {
  "kernelspec": {
   "display_name": "Python 3",
   "language": "python",
   "name": "python3"
  },
  "language_info": {
   "codemirror_mode": {
    "name": "ipython",
    "version": 3
   },
   "file_extension": ".py",
   "mimetype": "text/x-python",
   "name": "python",
   "nbconvert_exporter": "python",
   "pygments_lexer": "ipython3",
   "version": "3.7.1"
  }
 },
 "nbformat": 4,
 "nbformat_minor": 2
}
