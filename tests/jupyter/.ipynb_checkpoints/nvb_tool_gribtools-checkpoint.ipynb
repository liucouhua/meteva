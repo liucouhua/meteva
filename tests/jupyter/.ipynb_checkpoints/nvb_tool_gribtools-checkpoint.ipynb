{
 "cells": [
  {
   "cell_type": "code",
   "execution_count": 8,
   "metadata": {},
   "outputs": [
    {
     "name": "stdout",
     "output_type": "stream",
     "text": [
      "The autoreload extension is already loaded. To reload it, use:\n",
      "  %reload_ext autoreload\n"
     ]
    }
   ],
   "source": [
    "%matplotlib inline\n",
    "%load_ext autoreload\n",
    "%autoreload 2\n",
    "import meteva.base as meb\n"
   ]
  },
  {
   "cell_type": "markdown",
   "metadata": {},
   "source": [
    "考虑到pygrib在window下安装麻烦，本程序库中并没有集成从grib中读取数据的功能。但是可以将grib转换成netcdf格式数据后再进行读取。这个转换过程需要用到[grib_api](https://confluence.ecmwf.int/display/GRIB/Home)。本程序库的资源中已经集成了grib_api，但在还需对环境变量进行一些设置。设置的方式和meteva的安装路径有关。  \n",
    "例如 安装路径为：  \n",
    " S:\\ProgramData\\Anaconda3\\Lib\\site-packages\\mem_verification  \n",
    "  则需在环境变量中新建两个变量：  \n",
    " **GRIB_HOME**  /cygdrive/s/ProgramData/Anaconda3/Lib/site-packages/mem_verification/resources/grib_api   \n",
    " **GRIB_DEFINITION_PATH** %GRIB_HOME%/share/grib_api/definitions   \n",
    " \n",
    "另外在**PATH**变量中追加  \n",
    " S:\\ProgramData\\Anaconda3\\Lib\\site-packages\\mem_verification\\resources\\grib_api  "
   ]
  },
  {
   "cell_type": "markdown",
   "metadata": {},
   "source": [
    "### 将grib数据转换成netcdf数据\n",
    "**grib_to_nc(grib_filename,output_dir = None)**  \n",
    "将grib数据转换成nc格式数据，其中grib文件中grib1格式部分会转换成文件名以 _surface1.nc结尾的文件。其中grib文件中grib2格式部分会转换成文件名以 _surface2.nc和_isobaric结尾的文件，分别代表地面和高空的物理量。  \n",
    "\n",
    "\n",
    "**参数说明：**  \n",
    " **grib_filename**: grib数据的文件路径  \n",
    " **output_dir**: 输出的目标文件夹  \n",
    " **return**: 返回生成的文件列表   \n",
    " **调用示例：**"
   ]
  },
  {
   "cell_type": "code",
   "execution_count": 14,
   "metadata": {},
   "outputs": [
    {
     "name": "stdout",
     "output_type": "stream",
     "text": [
      "转换生成如下文件：\n",
      "H:/test_data/input/meb/nc/test_surface2.nc\n",
      "H:/test_data/input/meb/nc/test_isobaric.nc\n"
     ]
    }
   ],
   "source": [
    "path = r\"H:\\test_data\\input\\meb\\test.grb\"\n",
    "file_list = meb.tool.grib_tools.grib_to_nc(path,\"H:/test_data/input/meb/nc\")"
   ]
  },
  {
   "cell_type": "code",
   "execution_count": 4,
   "metadata": {},
   "outputs": [
    {
     "name": "stdout",
     "output_type": "stream",
     "text": [
      "<xarray.DataArray 'data0' (member: 1, level: 1, time: 1, dtime: 1, lat: 601, lon: 851)>\n",
      "array([[[[[[293.7026 , ..., 307.9025 ],\n",
      "           ...,\n",
      "           [296.80295, ..., 312.10248]]]]]], dtype=float32)\n",
      "Coordinates:\n",
      "  * member   (member) int32 0\n",
      "  * level    (level) int32 0\n",
      "  * time     (time) datetime64[ns] 2019-06-16T06:00:00\n",
      "  * dtime    (dtime) int32 0\n",
      "  * lat      (lat) float32 28.0 28.01 28.02 28.03 ... 33.97 33.98 33.99 34.0\n",
      "  * lon      (lon) float32 108.0 108.01 108.02 108.03 ... 116.48 116.49 116.5\n",
      "Attributes:\n",
      "    units:          K\n",
      "    long_name:      Temperature\n",
      "    standard_name:  air_temperature\n"
     ]
    }
   ],
   "source": [
    "grd =meb.io.read_griddata_from_nc(file_list[0],value_name = \"t\")  #从转换后的nc文件读取数据\n",
    "print(grd)"
   ]
  },
  {
   "cell_type": "code",
   "execution_count": null,
   "metadata": {},
   "outputs": [],
   "source": []
  }
 ],
 "metadata": {
  "kernelspec": {
   "display_name": "Python 3",
   "language": "python",
   "name": "python3"
  },
  "language_info": {
   "codemirror_mode": {
    "name": "ipython",
    "version": 3
   },
   "file_extension": ".py",
   "mimetype": "text/x-python",
   "name": "python",
   "nbconvert_exporter": "python",
   "pygments_lexer": "ipython3",
   "version": "3.7.1"
  }
 },
 "nbformat": 4,
 "nbformat_minor": 2
}
