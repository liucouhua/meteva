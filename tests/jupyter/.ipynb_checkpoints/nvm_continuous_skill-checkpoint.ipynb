{
 "cells": [
  {
   "cell_type": "code",
   "execution_count": 1,
   "metadata": {},
   "outputs": [],
   "source": [
    "%matplotlib inline\n",
    "%load_ext autoreload\n",
    "%autoreload 2\n",
    "from meteva.method.continuous import *\n",
    "import numpy as np"
   ]
  },
  {
   "cell_type": "markdown",
   "metadata": {},
   "source": [
    "### 相对误差技巧   \n",
    "**mre_skill(mre, mre_base)**  \n",
    "精细化网格预报竞赛检验办法中的水量定量相对误差的相对误差 = (mre_base - mre) / mre_base  \n",
    "  \n",
    "**参数说明：**  \n",
    " mre: 相对误差值\n",
    " mre_base:相对误差值，技巧评价的参考基准  \n",
    " return: 负无穷到正无穷的实数，取值越大代表技巧越高  \n",
    " **调用示例：**"
   ]
  },
  {
   "cell_type": "code",
   "execution_count": 14,
   "metadata": {},
   "outputs": [],
   "source": [
    "ob = np.random.rand(100)             #观测\n",
    "fo_nmc = np.random.rand(100)         #中央台预报\n",
    "fo_province = np.random.rand(100)    #省台预报\n",
    "mre_nmc = mre(ob,fo_nmc)             #中央台定量降水相对误差\n",
    "mre_province = mre(ob,fo_province)   #省台定量降水相对误差\n",
    "mre_skill(mre_province,mre_nmc)      #省台相对于中央台的相对误差技巧值"
   ]
  },
  {
   "cell_type": "code",
   "execution_count": 15,
   "metadata": {},
   "outputs": [
    {
     "data": {
      "text/plain": [
       "-0.06775872831501815"
      ]
     },
     "execution_count": 15,
     "metadata": {},
     "output_type": "execute_result"
    }
   ],
   "source": []
  },
  {
   "cell_type": "code",
   "execution_count": null,
   "metadata": {},
   "outputs": [],
   "source": []
  }
 ],
 "metadata": {
  "kernelspec": {
   "display_name": "Python 3",
   "language": "python",
   "name": "python3"
  },
  "language_info": {
   "codemirror_mode": {
    "name": "ipython",
    "version": 3
   },
   "file_extension": ".py",
   "mimetype": "text/x-python",
   "name": "python",
   "nbconvert_exporter": "python",
   "pygments_lexer": "ipython3",
   "version": "3.7.1"
  }
 },
 "nbformat": 4,
 "nbformat_minor": 2
}
