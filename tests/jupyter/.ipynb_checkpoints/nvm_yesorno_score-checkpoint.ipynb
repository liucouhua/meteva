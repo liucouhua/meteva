{
 "cells": [
  {
   "cell_type": "code",
   "execution_count": 1,
   "metadata": {},
   "outputs": [],
   "source": [
    "%matplotlib inline\n",
    "%load_ext autoreload\n",
    "%autoreload 2\n",
    "from meteva.method.yes_or_no.score import *\n",
    "import numpy as np"
   ]
  },
  {
   "attachments": {
    "image.png": {
     "image/png": "[encoded data removed]"
    }
   },
   "cell_type": "markdown",
   "metadata": {},
   "source": [
    "一分为二的预测说：“是的，将会发生一个事件”，或者“否，该事件不会发生”。雨雾预报是是/否预报的常见示例。对于某些应用，可以指定阈值以分隔“是”和“否”，例如，风速大于50节。\n",
    "\n",
    "为了验证这种类型的预测，我们从列联表开始，该表显示“是”和“否”的预测和出现的频率（样本数）。预测（是或否）和观测值（是或否）的四种组合称为联合分布：\n",
    "\n",
    "     命中-事件预测发生，并且确实发生了\n",
    "     漏报-事件预测未发生，但确实发生了\n",
    "     空报-发生事件预测，但未发生\n",
    "     正确的否定-事件预测不会发生，也不会发生\n",
    "\n",
    "列联表的左下方给出了观测和预测的发生与未发生的总数，称为边际分布。  \n",
    "![image.png](attachment:image.png)  \n",
    "以下结合随机生成的测试数据，说明基于上述列联表计算的各种检验指标 "
   ]
  },
  {
   "cell_type": "code",
   "execution_count": 2,
   "metadata": {},
   "outputs": [],
   "source": [
    "ob = np.random.randn(2,10)\n",
    "fo = np.random.randn(2,10)\n",
    "ob[ob < 0] = 0\n",
    "fo[fo < 0] = 0\n",
    "grade_list = [0.1,1]"
   ]
  },
  {
   "cell_type": "code",
   "execution_count": 3,
   "metadata": {},
   "outputs": [
    {
     "data": {
      "text/plain": [
       "array([[0.        , 0.        , 1.12785396, 0.4764419 , 0.99140337,\n",
       "        1.71282072, 1.30268093, 0.58536052, 1.12740997, 0.        ],\n",
       "       [1.01922281, 1.04144545, 0.43101551, 0.        , 0.        ,\n",
       "        0.09423674, 0.20597962, 0.        , 0.74065733, 0.        ]])"
      ]
     },
     "execution_count": 3,
     "metadata": {},
     "output_type": "execute_result"
    }
   ],
   "source": [
    "ob"
   ]
  },
  {
   "cell_type": "code",
   "execution_count": 4,
   "metadata": {
    "scrolled": true
   },
   "outputs": [
    {
     "data": {
      "text/plain": [
       "array([[0.        , 0.        , 0.        , 0.        , 0.        ,\n",
       "        0.        , 0.09470099, 0.        , 0.        , 0.04288582],\n",
       "       [0.14773866, 0.        , 1.34357222, 0.        , 0.24433659,\n",
       "        0.        , 1.60384383, 0.        , 0.54598289, 0.30147663]])"
      ]
     },
     "execution_count": 4,
     "metadata": {},
     "output_type": "execute_result"
    }
   ],
   "source": [
    "fo"
   ]
  },
  {
   "cell_type": "markdown",
   "metadata": {},
   "source": [
    "### 命中、空报、漏报、正确否定     \n",
    "**hfmc(ob, fo, grade_list=None)**  \n",
    "用来计算常用二分类预报检验指标的中间统计量    \n",
    "\n",
    "**参数说明：**  \n",
    " Ob:实况数据，任意维numpy数组   \n",
    " Fo:预测数据，任意维numpy数组,Fo.shape 和Ob.shape一致  \n",
    " grade_list:  该参数用于对连续变量做多种等级阈值的二分类检验，其中包含多个事件是否记录为发生的判断阈值，记其中一个阈值为g，则判断为事件发生的条件是要素值 >= g。该参数缺省时列表中只包含一个取值为1e-30的阈值，由于气象要素精度通常比该缺省值大，因此它相当于将 >0 作为事件发生的判据   \n",
    " return: 长度为4的一维numpy数组，其内容依次为命中、空报、漏报、正确否定的样本数  \n",
    "**调用示例：**  "
   ]
  },
  {
   "cell_type": "code",
   "execution_count": 5,
   "metadata": {},
   "outputs": [
    {
     "data": {
      "text/plain": [
       "array([[ 4.,  2.,  8.,  6.],\n",
       "       [ 0.,  2.,  6., 12.]])"
      ]
     },
     "execution_count": 5,
     "metadata": {},
     "output_type": "execute_result"
    }
   ],
   "source": [
    "hfmc_array = hfmc(ob,fo,grade_list)\n",
    "hfmc_array"
   ]
  },
  {
   "cell_type": "markdown",
   "metadata": {},
   "source": [
    "在上述示例中，hfmc返回结果是一个二维数组，最后一维长度为4，倒数第2维长度为2，和grade_list对应。返回结果hfmc_array将在后续示例中被应用。"
   ]
  },
  {
   "cell_type": "markdown",
   "metadata": {},
   "source": [
    "###  观测发生率  \n",
    "**s(ob, fo,grade_list=[1e-30])**  \n",
    "基于原始数据计算 base rate： Observed yes/Total\n",
    "\n",
    "**参数说明：**  \n",
    " Ob:实况数据，任意维numpy数组   \n",
    " Fo:预测数据，任意维numpy数组,Fo.shape 和Ob.shape一致  \n",
    " grade_list: 该参数用于对连续变量做多种等级阈值的二分类检验，其中包含多个事件是否记录为发生的判断阈值，记其中一个阈值为g，则判断为事件发生的条件是要素值 >= g。该参数缺省时列表中只包含一个取值为1e-30的阈值，由于气象要素精度通常比该缺省值大，因此它相当于将 >0 作为事件发生的判据     \n",
    " return: 返回一个一维numpy数组,其包含的检验指标和grade_list中的阈值一一对应。    \n",
    "\n",
    "\n",
    "###  观测发生率  \n",
    "**s_hfmc(hfmc_array)**  \n",
    "基于中间结果计算 base rate： Observed yes/Total，\n",
    "\n",
    "**参数说明：**  \n",
    " hfmc_array:包含总样本数和正确样本数的多维数组，其中最后一维长度为4,分别包含命中、空报、漏报、正确否定的样本数，倒数第二维长度为阈值个数      \n",
    " return: 返回一个多维numpy数组,其shape 和hfmc_array去掉最后一维之后的shape一致。最后一维长度为阈值个数        \n",
    "**调用示例：**  "
   ]
  },
  {
   "cell_type": "code",
   "execution_count": 6,
   "metadata": {},
   "outputs": [
    {
     "data": {
      "text/plain": [
       "array([0.65])"
      ]
     },
     "execution_count": 6,
     "metadata": {},
     "output_type": "execute_result"
    }
   ],
   "source": [
    "s(ob,fo)    #grade_list缺省"
   ]
  },
  {
   "cell_type": "code",
   "execution_count": 7,
   "metadata": {},
   "outputs": [
    {
     "data": {
      "text/plain": [
       "array([0.6, 0.3])"
      ]
     },
     "execution_count": 7,
     "metadata": {},
     "output_type": "execute_result"
    }
   ],
   "source": [
    "s(ob,fo,grade_list)  #包含grade_list阈值参数，可以同时用于多个阈值的检验"
   ]
  },
  {
   "cell_type": "code",
   "execution_count": 8,
   "metadata": {},
   "outputs": [
    {
     "data": {
      "text/plain": [
       "array([0.6, 0.3])"
      ]
     },
     "execution_count": 8,
     "metadata": {},
     "output_type": "execute_result"
    }
   ],
   "source": [
    "s_hfmc(hfmc_array)"
   ]
  },
  {
   "cell_type": "markdown",
   "metadata": {},
   "source": [
    "###  预报发生率  \n",
    "**r(ob, fo,grade_list=[1e-30])**  \n",
    "基于原始数据计算 forecast rate： Forecast yes/Total\n",
    "\n",
    "**参数说明：**  \n",
    " Ob:实况数据，任意维numpy数组   \n",
    " Fo:预测数据，任意维numpy数组,Fo.shape 和Ob.shape一致  \n",
    " grade_list: 该参数用于对连续变量做多种等级阈值的二分类检验，其中包含多个事件是否记录为发生的判断阈值，记其中一个阈值为g，则判断为事件发生的条件是要素值 >= g。该参数缺省时列表中只包含一个取值为1e-30的阈值，由于气象要素精度通常比该缺省值大，因此它相当于将 >0 作为事件发生的判据     \n",
    " return: 返回一个一维numpy数组,其包含的检验指标和grade_list中的阈值一一对应。    \n",
    "\n",
    "\n",
    "###  预报发生率  \n",
    "**s_hfmc(hfmc_array)**  \n",
    "基于中间结果计算 forecast rate： Torecast yes/Total\n",
    "\n",
    "**参数说明：**  \n",
    " hfmc_array:包含总样本数和正确样本数的多维数组，其中最后一维长度为4,分别包含命中、空报、漏报、正确否定的样本数，倒数第二维长度为阈值个数      \n",
    " return: 返回一个多维numpy数组,其shape 和hfmc_array去掉最后一维之后的shape一致。最后一维长度为阈值个数      \n",
    "**调用示例：**   "
   ]
  },
  {
   "cell_type": "code",
   "execution_count": 9,
   "metadata": {},
   "outputs": [
    {
     "data": {
      "text/plain": [
       "array([0.4])"
      ]
     },
     "execution_count": 9,
     "metadata": {},
     "output_type": "execute_result"
    }
   ],
   "source": [
    "r(ob,fo)"
   ]
  },
  {
   "cell_type": "code",
   "execution_count": 10,
   "metadata": {
    "scrolled": true
   },
   "outputs": [
    {
     "data": {
      "text/plain": [
       "array([0.3, 0.1])"
      ]
     },
     "execution_count": 10,
     "metadata": {},
     "output_type": "execute_result"
    }
   ],
   "source": [
    "r(ob,fo,grade_list)"
   ]
  },
  {
   "cell_type": "code",
   "execution_count": 11,
   "metadata": {},
   "outputs": [
    {
     "data": {
      "text/plain": [
       "array([0.3, 0.1])"
      ]
     },
     "execution_count": 11,
     "metadata": {},
     "output_type": "execute_result"
    }
   ],
   "source": [
    "r_hfmc(hfmc_array)"
   ]
  },
  {
   "cell_type": "markdown",
   "metadata": {},
   "source": [
    "###  准确率  \n",
    "**pc(ob, fo,grade_list=[1e-30])**  \n",
    "基于原始数据计算accuracy： （Hits+ Correct negatives）/Total，反映被正确预报的样本占比\n",
    "\n",
    "**参数说明：**  \n",
    " Ob:实况数据，任意维numpy数组   \n",
    " Fo:预测数据，任意维numpy数组,Fo.shape 和Ob.shape一致  \n",
    " grade_list: 该参数用于对连续变量做多种等级阈值的二分类检验，其中包含多个事件是否记录为发生的判断阈值，记其中一个阈值为g，则判断为事件发生的条件是要素值 >= g。该参数缺省时列表中只包含一个取值为1e-30的阈值，由于气象要素精度通常比该缺省值大，因此它相当于将 >0 作为事件发生的判据   \n",
    " return: 返回一个一维numpy数组,其包含的检验指标和grade_list中的阈值一一对应。每个元素值为0到1的实数，完美预报对应值为1      \n",
    "\n",
    "###  准确率  \n",
    "**pc_hfmc(hfmc_array)**  \n",
    "基于中间结果计算 accuracy： （Hits+ Correct negatives）/Total，反映被正确预报的样本占比\n",
    "\n",
    "**参数说明：**  \n",
    " hfmc_array:包含总样本数和正确样本数的多维数组，其中最后一维长度为4,分别包含命中、空报、漏报、正确否定的样本数，倒数第二维长度为阈值个数      \n",
    " return: 返回一个多维numpy数组,其shape 和hfmc_array去掉最后一维之后的shape一致。最后一维长度为阈值个数。其中每个元素为0到1的实数，完美预报对应值为1        \n",
    "**调用示例：** "
   ]
  },
  {
   "cell_type": "code",
   "execution_count": 12,
   "metadata": {},
   "outputs": [
    {
     "data": {
      "text/plain": [
       "array([0.45])"
      ]
     },
     "execution_count": 12,
     "metadata": {},
     "output_type": "execute_result"
    }
   ],
   "source": [
    "pc(ob,fo)"
   ]
  },
  {
   "cell_type": "code",
   "execution_count": 13,
   "metadata": {},
   "outputs": [
    {
     "data": {
      "text/plain": [
       "array([0.5, 0.6])"
      ]
     },
     "execution_count": 13,
     "metadata": {},
     "output_type": "execute_result"
    }
   ],
   "source": [
    "pc(ob,fo,grade_list)"
   ]
  },
  {
   "cell_type": "code",
   "execution_count": 14,
   "metadata": {},
   "outputs": [
    {
     "data": {
      "text/plain": [
       "array([0.5, 0.6])"
      ]
     },
     "execution_count": 14,
     "metadata": {},
     "output_type": "execute_result"
    }
   ],
   "source": [
    "pc_hfmc(hfmc_array)"
   ]
  },
  {
   "cell_type": "markdown",
   "metadata": {},
   "source": [
    "###  命中率  \n",
    "**pod(ob, fo,grade_list=[1e-30])**  \n",
    "基于原始数据计算hit rate： Hits/(Hits + Misses)，反映观测的正样本中多少被预报  \n",
    "\n",
    "**参数说明：**  \n",
    " Ob:实况数据，任意维numpy数组   \n",
    " Fo:预测数据，任意维numpy数组,Fo.shape 和Ob.shape一致  \n",
    " grade_list: 该参数用于对连续变量做多种等级阈值的二分类检验，其中包含多个事件是否记录为发生的判断阈值，记其中一个阈值为g，则判断为事件发生的条件是要素值 >= g。该参数缺省时列表中只包含一个取值为1e-30的阈值，由于气象要素精度通常比该缺省值大，因此它相当于将 >0 作为事件发生的判据   \n",
    " return: 返回一个一维numpy数组,其包含的检验指标和grade_list中的阈值一一对应。每个元素值为0到1的实数，完美预报对应值为1       \n",
    "\n",
    "###  命中率 \n",
    "**pod_hfmc(hfmc_array)**  \n",
    "基于中间结果计算hit rate：Hits/(Hits + Misses)，反映观测的正样本中多少被预报  \n",
    "\n",
    "**参数说明：**  \n",
    " hfmc_array:包含总样本数和正确样本数的多维数组，其中最后一维长度为4,分别包含命中、空报、漏报、正确否定的样本数，倒数第二维长度为阈值个数      \n",
    " return: 返回一个多维numpy数组,其shape 和hfmc_array去掉最后一维之后的shape一致。最后一维长度为阈值个数。其中每个元素为0到1的实数，完美预报对应值为1        \n",
    "**调用示例：** "
   ]
  },
  {
   "cell_type": "code",
   "execution_count": 15,
   "metadata": {},
   "outputs": [
    {
     "data": {
      "text/plain": [
       "array([0.38461538])"
      ]
     },
     "execution_count": 15,
     "metadata": {},
     "output_type": "execute_result"
    }
   ],
   "source": [
    "pod(ob,fo)"
   ]
  },
  {
   "cell_type": "code",
   "execution_count": 16,
   "metadata": {
    "scrolled": true
   },
   "outputs": [
    {
     "data": {
      "text/plain": [
       "array([0.33333333, 0.        ])"
      ]
     },
     "execution_count": 16,
     "metadata": {},
     "output_type": "execute_result"
    }
   ],
   "source": [
    "pod(ob,fo,grade_list)"
   ]
  },
  {
   "cell_type": "code",
   "execution_count": 17,
   "metadata": {},
   "outputs": [
    {
     "data": {
      "text/plain": [
       "array([0.33333333, 0.        ])"
      ]
     },
     "execution_count": 17,
     "metadata": {},
     "output_type": "execute_result"
    }
   ],
   "source": [
    "pod_hfmc(hfmc_array)"
   ]
  },
  {
   "cell_type": "markdown",
   "metadata": {},
   "source": [
    "###  成功率  \n",
    "**sr(ob, fo,grade_list=[1e-30])**  \n",
    "基于原始数据计算Success ratio ： Hits/(Hits + False alarms)，反映预报的正样本中实际发生的比例  \n",
    "\n",
    "**参数说明：**  \n",
    " Ob:实况数据，任意维numpy数组   \n",
    " Fo:预测数据，任意维numpy数组,Fo.shape 和Ob.shape一致  \n",
    " grade_list: 该参数用于对连续变量做多种等级阈值的二分类检验，其中包含多个事件是否记录为发生的判断阈值，记其中一个阈值为g，则判断为事件发生的条件是要素值 >= g。该参数缺省时列表中只包含一个取值为1e-30的阈值，由于气象要素精度通常比该缺省值大，因此它相当于将 >0 作为事件发生的判据   \n",
    " return: 返回一个一维numpy数组,其包含的检验指标和grade_list中的阈值一一对应。每个元素值为0到1的实数，完美预报对应值为1       \n",
    "\n",
    "###  成功率 \n",
    "**sr_hfmc(hfmc_array)**  \n",
    "基于中间结果计算Success ratio ： Hits/(Hits + False alarms)，反映预报的正样本中实际发生的比例  \n",
    "\n",
    "**参数说明：**  \n",
    " hfmc_array:包含总样本数和正确样本数的多维数组，其中最后一维长度为4,分别包含命中、空报、漏报、正确否定的样本数，倒数第二维长度为阈值个数      \n",
    " return: 返回一个多维numpy数组,其shape 和hfmc_array去掉最后一维之后的shape一致。最后一维长度为阈值个数。其中每个元素为0到1的实数，完美预报对应值为1        \n",
    "**调用示例：** "
   ]
  },
  {
   "cell_type": "code",
   "execution_count": 18,
   "metadata": {
    "scrolled": true
   },
   "outputs": [
    {
     "data": {
      "text/plain": [
       "array([0.625])"
      ]
     },
     "execution_count": 18,
     "metadata": {},
     "output_type": "execute_result"
    }
   ],
   "source": [
    "sr(ob,fo)"
   ]
  },
  {
   "cell_type": "code",
   "execution_count": 19,
   "metadata": {},
   "outputs": [
    {
     "data": {
      "text/plain": [
       "array([0.66666667, 0.        ])"
      ]
     },
     "execution_count": 19,
     "metadata": {},
     "output_type": "execute_result"
    }
   ],
   "source": [
    "sr(ob,fo,grade_list)"
   ]
  },
  {
   "cell_type": "code",
   "execution_count": 20,
   "metadata": {},
   "outputs": [
    {
     "data": {
      "text/plain": [
       "array([0.66666667, 0.        ])"
      ]
     },
     "execution_count": 20,
     "metadata": {},
     "output_type": "execute_result"
    }
   ],
   "source": [
    "sr_hfmc(hfmc_array)"
   ]
  },
  {
   "cell_type": "markdown",
   "metadata": {},
   "source": [
    "###  报空率  \n",
    "**pofd(ob, fo,grade_list=[1e-30])**  \n",
    "基于原始数据计算Probability of false detection： False alarms/(False alarms + Correct negatives)，反映观测负样本被预报为正样本的比例  \n",
    "\n",
    "**参数说明：**  \n",
    " Ob:实况数据，任意维numpy数组   \n",
    " Fo:预测数据，任意维numpy数组,Fo.shape 和Ob.shape一致  \n",
    " grade_list: 该参数用于对连续变量做多种等级阈值的二分类检验，其中包含多个事件是否记录为发生的判断阈值，记其中一个阈值为g，则判断为事件发生的条件是要素值 >= g。该参数缺省时列表中只包含一个取值为1e-30的阈值，由于气象要素精度通常比该缺省值大，因此它相当于将 >0 作为事件发生的判据   \n",
    " return: 返回一个一维numpy数组,其包含的检验指标和grade_list中的阈值一一对应。每个元素值为0到1的实数，完美预报对应值为0       \n",
    "\n",
    "###  报空率 \n",
    "**pofd_hfmc(hfmc_array)**  \n",
    "基于中间结果计算Probability of false detection： False alarms/(False alarms + Correct negatives)，反映观测负样本被预报为正样本的比例    \n",
    "\n",
    "**参数说明：**  \n",
    " hfmc_array:包含总样本数和正确样本数的多维数组，其中最后一维长度为4,分别包含命中、空报、漏报、正确否定的样本数，倒数第二维长度为阈值个数      \n",
    " return: 返回一个多维numpy数组,其shape 和hfmc_array去掉最后一维之后的shape一致。最后一维长度为阈值个数。其中每个元素为0到1的实数，完美预报对应值为0       \n",
    "**调用示例：** "
   ]
  },
  {
   "cell_type": "code",
   "execution_count": 21,
   "metadata": {},
   "outputs": [
    {
     "data": {
      "text/plain": [
       "array([0.42857143])"
      ]
     },
     "execution_count": 21,
     "metadata": {},
     "output_type": "execute_result"
    }
   ],
   "source": [
    "pofd(ob,fo)"
   ]
  },
  {
   "cell_type": "code",
   "execution_count": 22,
   "metadata": {
    "scrolled": true
   },
   "outputs": [
    {
     "data": {
      "text/plain": [
       "array([0.25      , 0.14285714])"
      ]
     },
     "execution_count": 22,
     "metadata": {},
     "output_type": "execute_result"
    }
   ],
   "source": [
    "pofd(ob,fo,grade_list)"
   ]
  },
  {
   "cell_type": "code",
   "execution_count": 23,
   "metadata": {},
   "outputs": [
    {
     "data": {
      "text/plain": [
       "array([0.25      , 0.14285714])"
      ]
     },
     "execution_count": 23,
     "metadata": {},
     "output_type": "execute_result"
    }
   ],
   "source": [
    "pofd_hfmc(hfmc_array)"
   ]
  },
  {
   "cell_type": "markdown",
   "metadata": {},
   "source": [
    "###  空报率  \n",
    "**far(ob, fo,grade_list=[1e-30])**  \n",
    "基于原始数据计算False alarm ratio： False alarms/(Hit + False alarms)，反映预报的正样本中实际未发生的比例   \n",
    "\n",
    "**参数说明：**  \n",
    " Ob:实况数据，任意维numpy数组   \n",
    " Fo:预测数据，任意维numpy数组,Fo.shape 和Ob.shape一致  \n",
    " grade_list: 该参数用于对连续变量做多种等级阈值的二分类检验，其中包含多个事件是否记录为发生的判断阈值，记其中一个阈值为g，则判断为事件发生的条件是要素值 >= g。该参数缺省时列表中只包含一个取值为1e-30的阈值，由于气象要素精度通常比该缺省值大，因此它相当于将 >0 作为事件发生的判据   \n",
    " return: 返回一个一维numpy数组,其包含的检验指标和grade_list中的阈值一一对应。每个元素值为0到1的实数，完美预报对应值为0       \n",
    "\n",
    "###  空报率 \n",
    "**far_hfmc(hfmc_array)**  \n",
    "基于中间结果计算False alarm ratio： False alarms/(Hit + False alarms)，反映预报的正样本中实际未发生的比例      \n",
    "\n",
    "**参数说明：**  \n",
    " hfmc_array:包含总样本数和正确样本数的多维数组，其中最后一维长度为4,分别包含命中、空报、漏报、正确否定的样本数，倒数第二维长度为阈值个数      \n",
    " return: 返回一个多维numpy数组,其shape 和hfmc_array去掉最后一维之后的shape一致。最后一维长度为阈值个数。其中每个元素为0到1的实数，完美预报对应值为0       \n",
    "**调用示例：** "
   ]
  },
  {
   "cell_type": "code",
   "execution_count": 24,
   "metadata": {},
   "outputs": [
    {
     "data": {
      "text/plain": [
       "array([0.375])"
      ]
     },
     "execution_count": 24,
     "metadata": {},
     "output_type": "execute_result"
    }
   ],
   "source": [
    "far(ob,fo)"
   ]
  },
  {
   "cell_type": "code",
   "execution_count": 25,
   "metadata": {},
   "outputs": [
    {
     "data": {
      "text/plain": [
       "array([0.33333333, 1.        ])"
      ]
     },
     "execution_count": 25,
     "metadata": {},
     "output_type": "execute_result"
    }
   ],
   "source": [
    "far(ob,fo,grade_list)"
   ]
  },
  {
   "cell_type": "code",
   "execution_count": 26,
   "metadata": {},
   "outputs": [
    {
     "data": {
      "text/plain": [
       "array([0.33333333, 1.        ])"
      ]
     },
     "execution_count": 26,
     "metadata": {},
     "output_type": "execute_result"
    }
   ],
   "source": [
    "far_hfmc(hfmc_array)"
   ]
  },
  {
   "cell_type": "markdown",
   "metadata": {},
   "source": [
    "###  漏报率  \n",
    "**mr(ob, fo,grade_list=[1e-30])**  \n",
    "基于原始数据计算Miss ratio： Misses/(Hit + Misses)，反映观测正样本被预报为负样本的比例    \n",
    "\n",
    "**参数说明：**  \n",
    " Ob:实况数据，任意维numpy数组   \n",
    " Fo:预测数据，任意维numpy数组,Fo.shape 和Ob.shape一致  \n",
    " grade_list: 该参数用于对连续变量做多种等级阈值的二分类检验，其中包含多个事件是否记录为发生的判断阈值，记其中一个阈值为g，则判断为事件发生的条件是要素值 >= g。该参数缺省时列表中只包含一个取值为1e-30的阈值，由于气象要素精度通常比该缺省值大，因此它相当于将 >0 作为事件发生的判据   \n",
    " return: 返回一个一维numpy数组,其包含的检验指标和grade_list中的阈值一一对应。每个元素值为0到1的实数，完美预报对应值为0       \n",
    "\n",
    "### 漏报率   \n",
    "**mr_hfmc(hfmc_array)**  \n",
    "基于中间结果计算Miss ratio： Misses/(Hit + Misses)，反映观测正样本被预报为负样本的比例       \n",
    "\n",
    "**参数说明：**  \n",
    " hfmc_array:包含总样本数和正确样本数的多维数组，其中最后一维长度为4,分别包含命中、空报、漏报、正确否定的样本数，倒数第二维长度为阈值个数      \n",
    " return: 返回一个多维numpy数组,其shape 和hfmc_array去掉最后一维之后的shape一致。最后一维长度为阈值个数。其中每个元素为0到1的实数，完美预报对应值为0       \n",
    "**调用示例：** "
   ]
  },
  {
   "cell_type": "code",
   "execution_count": 27,
   "metadata": {},
   "outputs": [
    {
     "data": {
      "text/plain": [
       "array([0.61538462])"
      ]
     },
     "execution_count": 27,
     "metadata": {},
     "output_type": "execute_result"
    }
   ],
   "source": [
    "mr(ob,fo)"
   ]
  },
  {
   "cell_type": "code",
   "execution_count": 28,
   "metadata": {},
   "outputs": [
    {
     "data": {
      "text/plain": [
       "array([0.66666667, 1.        ])"
      ]
     },
     "execution_count": 28,
     "metadata": {},
     "output_type": "execute_result"
    }
   ],
   "source": [
    "mr(ob,fo,grade_list)"
   ]
  },
  {
   "cell_type": "code",
   "execution_count": 29,
   "metadata": {
    "scrolled": true
   },
   "outputs": [
    {
     "data": {
      "text/plain": [
       "array([0.66666667, 1.        ])"
      ]
     },
     "execution_count": 29,
     "metadata": {},
     "output_type": "execute_result"
    }
   ],
   "source": [
    "mr_hfmc(hfmc_array)"
   ]
  },
  {
   "cell_type": "markdown",
   "metadata": {},
   "source": [
    "###  偏差  \n",
    "**bias(ob, fo,grade_list=[1e-30])**  \n",
    "基于原始数据计算bias：(Hit + False alarms)/(Hit + Misses)，反映预报的正样本数 和 观测的正样本数的比值    \n",
    "\n",
    "**参数说明：**  \n",
    " Ob:实况数据，任意维numpy数组   \n",
    " Fo:预测数据，任意维numpy数组,Fo.shape 和Ob.shape一致  \n",
    " grade_list: 该参数用于对连续变量做多种等级阈值的二分类检验，其中包含多个事件是否记录为发生的判断阈值，记其中一个阈值为g，则判断为事件发生的条件是要素值 >= g。该参数缺省时列表中只包含一个取值为1e-30的阈值，由于气象要素精度通常比该缺省值大，因此它相当于将 >0 作为事件发生的判据   \n",
    " return: 返回一个一维numpy数组,其包含的检验指标和grade_list中的阈值一一对应。每个元素值为0到正无穷的实数，完美预报对应值为1       \n",
    "\n",
    "### 偏差   \n",
    "**bias_hfmc(hfmc_array)**  \n",
    "基于中间结果计算bias：(Hit + False alarms)/(Hit + Misses)，反映预报的正样本数 和 观测的正样本数的比值         \n",
    "\n",
    "**参数说明：**  \n",
    " hfmc_array:包含总样本数和正确样本数的多维数组，其中最后一维长度为4,分别包含命中、空报、漏报、正确否定的样本数，倒数第二维长度为阈值个数      \n",
    " return: 返回一个多维numpy数组,其shape 和hfmc_array去掉最后一维之后的shape一致。最后一维长度为阈值个数。其中每个元素值为0到正无穷的实数，完美预报对应值为1       \n",
    "**调用示例：** "
   ]
  },
  {
   "cell_type": "code",
   "execution_count": 30,
   "metadata": {
    "scrolled": true
   },
   "outputs": [
    {
     "data": {
      "text/plain": [
       "array([0.61538462])"
      ]
     },
     "execution_count": 30,
     "metadata": {},
     "output_type": "execute_result"
    }
   ],
   "source": [
    "bias(ob,fo)"
   ]
  },
  {
   "cell_type": "code",
   "execution_count": 31,
   "metadata": {},
   "outputs": [
    {
     "data": {
      "text/plain": [
       "array([0.5       , 0.33333333])"
      ]
     },
     "execution_count": 31,
     "metadata": {},
     "output_type": "execute_result"
    }
   ],
   "source": [
    "bias(ob,fo,grade_list)"
   ]
  },
  {
   "cell_type": "code",
   "execution_count": 32,
   "metadata": {},
   "outputs": [
    {
     "data": {
      "text/plain": [
       "array([0.5       , 0.33333333])"
      ]
     },
     "execution_count": 32,
     "metadata": {},
     "output_type": "execute_result"
    }
   ],
   "source": [
    "bias_hfmc(hfmc_array)"
   ]
  },
  {
   "cell_type": "markdown",
   "metadata": {},
   "source": [
    "###  偏差幅度  \n",
    "**bias_extend_linear(bias_array)**  \n",
    "计算bias偏离1的幅度，采用 (bias - 1）的绝对值表示   \n",
    "\n",
    "**参数说明：**  \n",
    " bias_array:任意维numpy数组,其中每个元素是bias值。     \n",
    " return: 返回一个和bias_array的shape一致的numpy数组       \n",
    "\n",
    "### 偏差幅度   \n",
    "**bias_extend_log(bias_array)**  \n",
    "计算bias偏离1的幅度，采用 log(bias)的绝对值表示         \n",
    "\n",
    "**参数说明：**  \n",
    " bias_array:任意维numpy数组,其中每个元素是bias值。     \n",
    " return: 返回一个和bias_array的shape一致的numpy数组         \n",
    "**调用示例：** "
   ]
  },
  {
   "cell_type": "code",
   "execution_count": 33,
   "metadata": {
    "scrolled": true
   },
   "outputs": [
    {
     "data": {
      "text/plain": [
       "array([0.5       , 0.66666667])"
      ]
     },
     "execution_count": 33,
     "metadata": {},
     "output_type": "execute_result"
    }
   ],
   "source": [
    "bias_array = bias(ob,fo,grade_list)\n",
    "bias_extend_linear(bias_array)"
   ]
  },
  {
   "cell_type": "code",
   "execution_count": 34,
   "metadata": {},
   "outputs": [
    {
     "data": {
      "text/plain": [
       "array([0.69314718, 1.09861229])"
      ]
     },
     "execution_count": 34,
     "metadata": {},
     "output_type": "execute_result"
    }
   ],
   "source": [
    "bias_extend_log(bias_array)"
   ]
  },
  {
   "cell_type": "markdown",
   "metadata": {},
   "source": [
    "###  TS评分   \n",
    "**ts(ob, fo,grade_list=[1e-30])**  \n",
    "基于原始数据计算ts： Hit /(Hit + Misses+ False alarms)，反映预测的正样本与观察到的正样本对应的程度如何    \n",
    "\n",
    "**参数说明：**  \n",
    " Ob:实况数据，任意维numpy数组   \n",
    " Fo:预测数据，任意维numpy数组,Fo.shape 和Ob.shape一致  \n",
    " grade_list: 该参数用于对连续变量做多种等级阈值的二分类检验，其中包含多个事件是否记录为发生的判断阈值，记其中一个阈值为g，则判断为事件发生的条件是要素值 >= g。该参数缺省时列表中只包含一个取值为1e-30的阈值，由于气象要素精度通常比该缺省值大，因此它相当于将 >0 作为事件发生的判据   \n",
    " return: 返回一个一维numpy数组,其包含的检验指标和grade_list中的阈值一一对应。每个元素值为0到1的实数，完美预报对应值为1       \n",
    "\n",
    "### TS评分     \n",
    "**ts_hfmc(hfmc_array)**  \n",
    "基于中间结果计算ts： Hit /(Hit + Misses+ False alarms)，反映预测的正样本与观察到的正样本对应的程度如何          \n",
    "\n",
    "**参数说明：**  \n",
    " hfmc_array:包含总样本数和正确样本数的多维数组，其中最后一维长度为4,分别包含命中、空报、漏报、正确否定的样本数，倒数第二维长度为阈值个数      \n",
    " return: 返回一个多维numpy数组,其shape 和hfmc_array去掉最后一维之后的shape一致。最后一维长度为阈值个数。每个元素值为0到1的实数，完美预报对应值为1           \n",
    "**调用示例：** "
   ]
  },
  {
   "cell_type": "code",
   "execution_count": 35,
   "metadata": {},
   "outputs": [
    {
     "data": {
      "text/plain": [
       "array([0.3125])"
      ]
     },
     "execution_count": 35,
     "metadata": {},
     "output_type": "execute_result"
    }
   ],
   "source": [
    "ts(ob,fo)"
   ]
  },
  {
   "cell_type": "code",
   "execution_count": 36,
   "metadata": {
    "scrolled": true
   },
   "outputs": [
    {
     "data": {
      "text/plain": [
       "array([0.28571429, 0.        ])"
      ]
     },
     "execution_count": 36,
     "metadata": {},
     "output_type": "execute_result"
    }
   ],
   "source": [
    "ts(ob,fo,grade_list)"
   ]
  },
  {
   "cell_type": "code",
   "execution_count": 37,
   "metadata": {},
   "outputs": [
    {
     "data": {
      "text/plain": [
       "array([0.28571429, 0.        ])"
      ]
     },
     "execution_count": 37,
     "metadata": {},
     "output_type": "execute_result"
    }
   ],
   "source": [
    "ts_hfmc(hfmc_array)"
   ]
  },
  {
   "cell_type": "markdown",
   "metadata": {},
   "source": [
    "###  ETS评分   \n",
    "**ets(ob, fo,grade_list=[1e-30])**  \n",
    "基于原始数据计算ets： (Hit-Hit_random) /(Hit + Misses+ False alarms - Hit_random)，反映预测的正样本与观察到的正样本对应的程度如何, 其中扣除了随机预报产生的命中数量，Hit_randwom = Forecast yes × Observed yes / Total   \n",
    "\n",
    "**参数说明：**  \n",
    " Ob:实况数据，任意维numpy数组   \n",
    " Fo:预测数据，任意维numpy数组,Fo.shape 和Ob.shape一致  \n",
    " grade_list: 该参数用于对连续变量做多种等级阈值的二分类检验，其中包含多个事件是否记录为发生的判断阈值，记其中一个阈值为g，则判断为事件发生的条件是要素值 >= g。该参数缺省时列表中只包含一个取值为1e-30的阈值，由于气象要素精度通常比该缺省值大，因此它相当于将 >0 作为事件发生的判据   \n",
    " return: 返回一个一维numpy数组,其包含的检验指标和grade_list中的阈值一一对应。每个元素值为0到1的实数，完美预报对应值为1       \n",
    "\n",
    "### ETS评分     \n",
    "**ets_hfmc(hfmc_array)**  \n",
    "基于中间结果计算ets： Hit /(Hit + Misses+ False alarms)，反映预测的正样本与观察到的正样本对应的程度如何          \n",
    "\n",
    "**参数说明：**  \n",
    " hfmc_array:包含总样本数和正确样本数的多维数组，其中最后一维长度为4,分别包含命中、空报、漏报、正确否定的样本数，倒数第二维长度为阈值个数      \n",
    " return: 返回一个多维numpy数组,其shape 和hfmc_array去掉最后一维之后的shape一致。最后一维长度为阈值个数。每个元素值为0到1的实数，完美预报对应值为1           \n",
    "**调用示例：** "
   ]
  },
  {
   "cell_type": "code",
   "execution_count": 38,
   "metadata": {},
   "outputs": [
    {
     "data": {
      "text/plain": [
       "array([-0.01851852])"
      ]
     },
     "execution_count": 38,
     "metadata": {},
     "output_type": "execute_result"
    }
   ],
   "source": [
    "ets(ob,fo)"
   ]
  },
  {
   "cell_type": "code",
   "execution_count": 39,
   "metadata": {},
   "outputs": [
    {
     "data": {
      "text/plain": [
       "array([ 0.03846154, -0.08108108])"
      ]
     },
     "execution_count": 39,
     "metadata": {},
     "output_type": "execute_result"
    }
   ],
   "source": [
    "ets(ob,fo,grade_list)"
   ]
  },
  {
   "cell_type": "code",
   "execution_count": 40,
   "metadata": {},
   "outputs": [
    {
     "data": {
      "text/plain": [
       "array([ 0.03846154, -0.08108108])"
      ]
     },
     "execution_count": 40,
     "metadata": {},
     "output_type": "execute_result"
    }
   ],
   "source": [
    "ets_hfmc(hfmc_array)"
   ]
  },
  {
   "attachments": {
    "image.png": {
     "image/png": "[encoded data removed]"
    }
   },
   "cell_type": "markdown",
   "metadata": {},
   "source": [
    "晴雨预报也是二分类预报，但由于降水观测存在T量概念，在业务检验中对T量降水样本的处理和普通的二分类预报有所不同。具体的检验列联表可以用下图表示：  \n",
    "![image.png](attachment:image.png)\n",
    "据此，晴雨预报的准确率计算公式也和普通的二分类检验的准确率有所差别，在本函数库中有针对性的增加概率晴雨准确率的计算模块，它包括直接计算函数和中间统计量计算函数。"
   ]
  },
  {
   "cell_type": "markdown",
   "metadata": {},
   "source": [
    "### 晴雨预报的命中、空报、漏报、正确否定     \n",
    "**hfmc_of_sun_rain((ob, fo)**  \n",
    "用来计算常用晴雨预报检验指标的中间统计量    \n",
    "\n",
    "**参数说明：**  \n",
    " Ob:实况数据，任意维numpy数组   \n",
    " Fo:预测数据，任意维numpy数组,Fo.shape 和Ob.shape一致  \n",
    " return: 长度为4的一维numpy数组，其内容依次为根据晴雨（雪）检验评定表计算出的命中、空报、漏报、正确否定的样本数  \n",
    " \n",
    "  \n",
    " ###  晴雨准确率  \n",
    "**pc_of_sun_rain(ob, fo)**  \n",
    "基于原始数据计算accuracy： （Hits+ Correct negatives）/Total，反映被正确预报的样本占比\n",
    "\n",
    "**参数说明：**  \n",
    " Ob:实况数据，任意维numpy数组   \n",
    " Fo:预测数据，任意维numpy数组,Fo.shape 和Ob.shape一致   \n",
    " return: 0到1的实数，完美预报对应值为1      \n",
    "\n",
    "###  晴雨准确率  \n",
    "**pc_of_sun_rain_hfmc(hfmc_array)**  \n",
    "基于中间结果计算 accuracy： （Hits+ Correct negatives）/Total，反映被正确预报的样本占比\n",
    "\n",
    "**参数说明：**  \n",
    " hfmc_array:包含总样本数和正确样本数的多维数组，其中最后一维长度为4,分别包含命中、空报、漏报、正确否定的样本数，倒数第二维长度为阈值个数      \n",
    " return: 返回一个多维numpy数组,其shape 和hfmc_array去掉最后一维之后的shape一致。最后一维长度为阈值个数。其中每个元素为0到1的实数，完美预报对应值为1   \n",
    "**调用示例：**   \n",
    "\n"
   ]
  },
  {
   "cell_type": "code",
   "execution_count": 41,
   "metadata": {},
   "outputs": [
    {
     "data": {
      "text/plain": [
       "0.5"
      ]
     },
     "execution_count": 41,
     "metadata": {},
     "output_type": "execute_result"
    }
   ],
   "source": [
    "pc_of_sun_rain(ob,fo)"
   ]
  },
  {
   "cell_type": "code",
   "execution_count": 42,
   "metadata": {},
   "outputs": [
    {
     "data": {
      "text/plain": [
       "0.5"
      ]
     },
     "execution_count": 42,
     "metadata": {},
     "output_type": "execute_result"
    }
   ],
   "source": [
    "hfmc_sr = hfmc_of_sun_rain(ob,fo)\n",
    "pc_of_sun_rain_hfmc(hfmc_sr)"
   ]
  },
  {
   "cell_type": "markdown",
   "metadata": {},
   "source": [
    "在以上示例中，观测和预报的数据规模较小，可以直接调用评分函数计算相应评分，然而有些情况下待检验的数据太大不能整体存入一个numpy数组中，或者不方便整体存入一个numpy数组中，就不能调用上面的方式调用评分函数， 此时可以采用本函数库中中间结果统计函数来实现分块计算或并行计算的方式来实现计算。其检验步骤如下：  \n",
    "***步骤1：根据需要将分块数据逐一输入到中间结果计算函数***  \n",
    "***步骤2：将中间结果进行累加或合并***  \n",
    "***步骤3：根据累加或合并的中间结果计算检验指标***  \n",
    "通常上述计算中步骤1是最耗费计算资源，为了提高效率步骤1也可以采用**并行**的方式执行。此外，步骤1执行的结果也可**输出到文件**中，在后续的检验可以从中读入部分中间结果执行后续步骤，从而可以实现各种方式的分组检验，大大提高检验计算效率。\n",
    "同时，在预报检验经常需要进行分组检验，获得不同类别预报的评分指标并进行对比。此时可以应用上述基于中间结果的检验函数对多维中间统计量的整体计算能力来简化代码的复杂度。  \n",
    "**示例如下：**"
   ]
  },
  {
   "cell_type": "code",
   "execution_count": 43,
   "metadata": {},
   "outputs": [],
   "source": [
    "day_count = 100\n",
    "model_count = 3\n",
    "grade_list = [0.1,1]\n",
    "ob = np.random.randn(day_count,1000)\n",
    "fo = np.random.randn(model_count,day_count,1000)\n",
    "ob[ob < 0] = 0\n",
    "fo[fo < 0] = 0\n",
    "hfmc_array = np.zeros((model_count,len(grade_list),4))\n",
    "hfmc_sr = np.zeros((model_count,4))\n",
    "\n",
    "for i in range(day_count):\n",
    "    ob1 = ob[i,:]\n",
    "    for j in range(model_count):\n",
    "        fo1 = fo[j,i,:]\n",
    "        hfmc_array[j,:,:] += hfmc(ob1,fo1,grade_list)\n",
    "        hfmc_sr[j,:] += hfmc_of_sun_rain(ob1,fo1)"
   ]
  },
  {
   "cell_type": "code",
   "execution_count": 44,
   "metadata": {},
   "outputs": [
    {
     "data": {
      "text/plain": [
       "array([0.51828, 0.52397, 0.52228])"
      ]
     },
     "execution_count": 44,
     "metadata": {},
     "output_type": "execute_result"
    }
   ],
   "source": [
    "pc_of_sun_rain_hfmc(hfmc_sr)"
   ]
  },
  {
   "cell_type": "code",
   "execution_count": 45,
   "metadata": {},
   "outputs": [
    {
     "data": {
      "text/plain": [
       "array([[0.49984, 0.73292],\n",
       "       [0.50598, 0.7338 ],\n",
       "       [0.50426, 0.73435]])"
      ]
     },
     "execution_count": 45,
     "metadata": {},
     "output_type": "execute_result"
    }
   ],
   "source": [
    "pc_hfmc(hfmc_array)"
   ]
  },
  {
   "cell_type": "code",
   "execution_count": 46,
   "metadata": {},
   "outputs": [
    {
     "data": {
      "text/plain": [
       "array([[0.29469498, 0.08477829],\n",
       "       [0.29987812, 0.08503472],\n",
       "       [0.29842487, 0.08613987]])"
      ]
     },
     "execution_count": 46,
     "metadata": {},
     "output_type": "execute_result"
    }
   ],
   "source": [
    "ts_hfmc(hfmc_array)"
   ]
  },
  {
   "cell_type": "code",
   "execution_count": 47,
   "metadata": {},
   "outputs": [
    {
     "data": {
      "text/plain": [
       "array([[1.00218074, 0.98969202],\n",
       "       [1.00021807, 0.98416091],\n",
       "       [1.00078507, 0.98447517]])"
      ]
     },
     "execution_count": 47,
     "metadata": {},
     "output_type": "execute_result"
    }
   ],
   "source": [
    "bias_hfmc(hfmc_array)"
   ]
  },
  {
   "cell_type": "markdown",
   "metadata": {},
   "source": [
    "以上只是展示了分类检验的维度为1的情况，实际上上述思路可以扩展至任意高维的情况。熟练使用中间统计量计算和合并方法，基于中间统计量整体计算分类问题下的检验指标数组，是提高代码编写效果的关键。上述检验函数的内部也都采用了numpy的整体计算方式实现，在计算效率上进行了最大程度的优化。"
   ]
  }
 ],
 "metadata": {
  "kernelspec": {
   "display_name": "Python 3",
   "language": "python",
   "name": "python3"
  },
  "language_info": {
   "codemirror_mode": {
    "name": "ipython",
    "version": 3
   },
   "file_extension": ".py",
   "mimetype": "text/x-python",
   "name": "python",
   "nbconvert_exporter": "python",
   "pygments_lexer": "ipython3",
   "version": "3.7.1"
  }
 },
 "nbformat": 4,
 "nbformat_minor": 2
}
