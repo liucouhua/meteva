{
 "cells": [
  {
   "cell_type": "code",
   "execution_count": 40,
   "metadata": {},
   "outputs": [
    {
     "name": "stdout",
     "output_type": "stream",
     "text": [
      "The autoreload extension is already loaded. To reload it, use:\n",
      "  %reload_ext autoreload\n"
     ]
    }
   ],
   "source": [
    "%matplotlib inline\n",
    "%load_ext autoreload\n",
    "%autoreload 2\n",
    "import meteva.method as mem\n",
    "import numpy as np"
   ]
  },
  {
   "cell_type": "markdown",
   "metadata": {},
   "source": [
    "***通过随机函数生成测试数据，用于后续检验函数调用示例***"
   ]
  },
  {
   "cell_type": "code",
   "execution_count": 25,
   "metadata": {},
   "outputs": [],
   "source": [
    "ob = np.random.rand(2,10) * 10\n",
    "fo = np.random.rand(2,10) * 10\n",
    "ob_int = ob.astype(np.int8)\n",
    "fo_int = fo.astype(np.int8)\n",
    "grade_list = [3,5]"
   ]
  },
  {
   "cell_type": "code",
   "execution_count": 3,
   "metadata": {
    "scrolled": true
   },
   "outputs": [
    {
     "data": {
      "text/plain": [
       "array([[1, 6, 3, 6, 5, 0, 1, 2, 4, 1],\n",
       "       [1, 4, 3, 4, 4, 5, 0, 0, 3, 2]], dtype=int8)"
      ]
     },
     "execution_count": 3,
     "metadata": {},
     "output_type": "execute_result"
    }
   ],
   "source": [
    "ob_int"
   ]
  },
  {
   "cell_type": "code",
   "execution_count": 4,
   "metadata": {},
   "outputs": [
    {
     "data": {
      "text/plain": [
       "array([[3, 3, 0, 0, 2, 8, 6, 1, 0, 8],\n",
       "       [8, 6, 1, 0, 2, 9, 4, 9, 0, 7]], dtype=int8)"
      ]
     },
     "execution_count": 4,
     "metadata": {},
     "output_type": "execute_result"
    }
   ],
   "source": [
    "fo_int"
   ]
  },
  {
   "cell_type": "markdown",
   "metadata": {},
   "source": [
    "###  准确率  \n",
    "**accuracy(ob, fo, grade_list=None)**  \n",
    "统计观测和预报分类一致的样本数占比  \n",
    "\n",
    "**参数说明：**  \n",
    " Ob:实况数据，任意维numpy数组   \n",
    " Fo:预测数据，任意维numpy数组,Fo.shape 和Ob.shape一致  \n",
    " grade_list: 如果该参数为None，观测或预报值出现过的值都作为分类标记，如果该参数不为None，它必须是一个从小到大排列的实数，以其中列出的数值划分出的多个区间作为分类标签。对比预报和观测值不为整数的情况，grade_list 不能设置为None。  \n",
    " return:  0-1的实数，0代表无技巧，最优预报为1  \n",
    "**调用示例：**  "
   ]
  },
  {
   "cell_type": "code",
   "execution_count": 5,
   "metadata": {},
   "outputs": [
    {
     "data": {
      "text/plain": [
       "0.0"
      ]
     },
     "execution_count": 5,
     "metadata": {},
     "output_type": "execute_result"
    }
   ],
   "source": [
    "mem.accuracy(ob_int,fo_int)"
   ]
  },
  {
   "cell_type": "code",
   "execution_count": 6,
   "metadata": {},
   "outputs": [
    {
     "data": {
      "text/plain": [
       "0.1"
      ]
     },
     "execution_count": 6,
     "metadata": {},
     "output_type": "execute_result"
    }
   ],
   "source": [
    "mem.accuracy(ob_int,fo_int,grade_list)"
   ]
  },
  {
   "cell_type": "markdown",
   "metadata": {},
   "source": [
    "###  hss评分   \n",
    "**hss(ob,fo,grade_list = None)**  \n",
    "Heidke skill score，统计准确率相对于随机预报的技巧\n",
    "\n",
    "**参数说明：**  \n",
    " Ob:实况数据，任意维numpy数组   \n",
    " Fo:预测数据，任意维numpy数组,Fo.shape 和Ob.shape一致  \n",
    " grade_list: 如果该参数为None，观测或预报值出现过的值都作为分类标记，如果该参数不为None，它必须是一个从小到大排列的实数，以其中列出的数值划分出的多个区间作为分类标签。对比预报和观测值不为整数的情况，grade_list 不能设置为None。  \n",
    " return:  负无穷到1的实数，0代表无技巧，最优预报为1  \n",
    "**调用示例：**  "
   ]
  },
  {
   "cell_type": "code",
   "execution_count": 9,
   "metadata": {},
   "outputs": [
    {
     "data": {
      "text/plain": [
       "-0.11420612813370473"
      ]
     },
     "execution_count": 9,
     "metadata": {},
     "output_type": "execute_result"
    }
   ],
   "source": [
    "mem.hss(ob_int,fo_int)"
   ]
  },
  {
   "cell_type": "code",
   "execution_count": 10,
   "metadata": {},
   "outputs": [
    {
     "data": {
      "text/plain": [
       "-0.3533834586466165"
      ]
     },
     "execution_count": 10,
     "metadata": {},
     "output_type": "execute_result"
    }
   ],
   "source": [
    "mem.hss(ob_int,fo_int,grade_list)"
   ]
  },
  {
   "cell_type": "markdown",
   "metadata": {},
   "source": [
    "###  hk评分   \n",
    "**hk(ob,fo,grade_list = None)**  \n",
    "Hanssen and Kuipers discriminant，统计准确率相对于随机预报的技巧\n",
    "\n",
    "**参数说明：**  \n",
    " Ob:实况数据，任意维numpy数组   \n",
    " Fo:预测数据，任意维numpy数组,Fo.shape 和Ob.shape一致  \n",
    " grade_list: 如果该参数为None，观测或预报值出现过的值都作为分类标记，如果该参数不为None，它必须是一个从小到大排列的实数，以其中列出的数值划分出的多个区间作为分类标签。对比预报和观测值不为整数的情况，grade_list 不能设置为None。  \n",
    " return:  负无穷到1的实数，0代表无技巧，最优预报为1  \n",
    "**调用示例：**  "
   ]
  },
  {
   "cell_type": "code",
   "execution_count": 26,
   "metadata": {},
   "outputs": [
    {
     "data": {
      "text/plain": [
       "0.15384615384615385"
      ]
     },
     "execution_count": 26,
     "metadata": {},
     "output_type": "execute_result"
    }
   ],
   "source": [
    "mem.hk(ob_int,fo_int)"
   ]
  },
  {
   "cell_type": "code",
   "execution_count": 13,
   "metadata": {},
   "outputs": [
    {
     "data": {
      "text/plain": [
       "-0.3700787401574803"
      ]
     },
     "execution_count": 13,
     "metadata": {},
     "output_type": "execute_result"
    }
   ],
   "source": [
    "mem.hk(ob_int,fo_int,grade_list)"
   ]
  },
  {
   "cell_type": "code",
   "execution_count": 33,
   "metadata": {},
   "outputs": [
    {
     "data": {
      "text/plain": [
       "0.13917525773195877"
      ]
     },
     "execution_count": 33,
     "metadata": {},
     "output_type": "execute_result"
    }
   ],
   "source": [
    "mem.hk(ob_int,fo_int,grade_list = [1.5,3.5])"
   ]
  },
  {
   "cell_type": "code",
   "execution_count": 34,
   "metadata": {},
   "outputs": [
    {
     "data": {
      "text/plain": [
       "array([0.11904762, 0.1978022 ])"
      ]
     },
     "execution_count": 34,
     "metadata": {},
     "output_type": "execute_result"
    }
   ],
   "source": [
    "mem.hk_yesorno(ob_int,fo_int,grade_list = [1.5,3.5])"
   ]
  },
  {
   "cell_type": "code",
   "execution_count": 38,
   "metadata": {
    "scrolled": true
   },
   "outputs": [
    {
     "data": {
      "text/plain": [
       "0.1250000000000001"
      ]
     },
     "execution_count": 38,
     "metadata": {},
     "output_type": "execute_result"
    }
   ],
   "source": [
    "mem.hss(ob_int,fo_int,grade_list = [1.5])"
   ]
  },
  {
   "cell_type": "code",
   "execution_count": 41,
   "metadata": {},
   "outputs": [
    {
     "data": {
      "text/plain": [
       "array([0.125])"
      ]
     },
     "execution_count": 41,
     "metadata": {},
     "output_type": "execute_result"
    }
   ],
   "source": [
    "mem.hss_yesorno(ob_int,fo_int,grade_list = [1.5])"
   ]
  },
  {
   "cell_type": "markdown",
   "metadata": {},
   "source": [
    "在以上示例中，观测和预报的数据都直接输入到评分函数中进行计算，然而有些情况下待检验的数据太大不能整体存入一个numpy数组中，或者不方便整体存入一个numpy数组中，此时就不能调用上面的方式调用评分函数。为此本程序库设计了一套可分块计算的检验程序。  \n",
    "其检验步骤如下：  \n",
    "***步骤1：根据需要将分块数据逐一输入到中间结果计算函数***  \n",
    "***步骤2：将中间结果进行累加或合并***  \n",
    "***步骤3：根据累加或合并的中间结果计算检验指标***  \n",
    "通常上述计算中步骤1是最耗费计算资源，为了提高效率步骤1也可以采用**并行**的方式执行。此外，步骤1执行的结果也可**输出到文件**中，在后续的检验可以从中读入部分中间结果执行后续步骤，从而可以实现各种方式的分组检验，大大提高检验计算效率。"
   ]
  },
  {
   "cell_type": "markdown",
   "metadata": {},
   "source": [
    "### 总样本数、正确样本数     \n",
    "**tc(ob, fo, grade_list=None)**  \n",
    "用来计算accuracy等检验指标的中间量  \n",
    "\n",
    "**参数说明：**  \n",
    " Ob:实况数据，任意维numpy数组   \n",
    " Fo:预测数据，任意维numpy数组,Fo.shape 和Ob.shape一致  \n",
    " grade_list: 如果该参数为None，观测或预报值出现过的值都作为分类标记，如果该参数不为None，它必须是一个从小到大排列的实数，以其中列出的数值划分出的多个区间作为分类标签。对比预报和观测值不为整数的情况，grade_list 不能设置为None。  \n",
    " return: 长度为2的一维numpy数组，其内容依次为总样本数、正确分类的样本数  \n",
    "    \n",
    "   \n",
    "   \n",
    "  \n",
    "  \n",
    "### 总样本数、正确样本数、 预报观测频率表    \n",
    "**tcof(ob,fo,grade_list)**  \n",
    "用来计算accuracy等检验指标的中间量  \n",
    "\n",
    "**参数说明：**  \n",
    " Ob:实况数据，任意维numpy数组   \n",
    " Fo:预测数据，任意维numpy数组,Fo.shape 和Ob.shape一致  \n",
    " grade_list: 一个从小到大排列的实数列表，以其中列出的数值划分出的多个区间作为分类标签，该参数不能设置为None。 \n",
    " return: shape为(len(grade_list)+2,2)的二维numpy数组,记为返回值为re，其中re[0,0] 为总样本数，re[0,1]为正确样本数据、re[1:,0]为观测频率表，re[1:,1]为预报频率表。  \n",
    "   \n",
    " **调用示例：**  "
   ]
  },
  {
   "cell_type": "code",
   "execution_count": 14,
   "metadata": {},
   "outputs": [],
   "source": [
    "tc_array = np.zeros((2))\n",
    "tcof_array = np.zeros((len(grade_list)+2,2))\n",
    "for i in range(2):\n",
    "    ob1 = ob_int[i,:]\n",
    "    fo1 = fo_int[i,:]\n",
    "    tc_array += mem.tc(ob,fo,grade_list)\n",
    "    tcof_array += mem.tcof(ob,fo,grade_list)\n",
    "    "
   ]
  },
  {
   "cell_type": "markdown",
   "metadata": {},
   "source": [
    " **以下为根据合并后的中间统计量计算最终检验指标的函数：**\n",
    "###  准确率  \n",
    "**accuracy_tc(tc_array)**  \n",
    "统计观测和预报分类一致的样本数占比  \n",
    "\n",
    "**参数说明：**  \n",
    " tc_array:包含总样本数和正确样本数的多维数组，其中最后一维长度为2，分别记录了总样本数、正确样本数     \n",
    " return:  numpy数组，其中每个元素为0-1的实数，0代表无技巧，最优预报为1  \n",
    "**调用示例：**  "
   ]
  },
  {
   "cell_type": "code",
   "execution_count": 15,
   "metadata": {},
   "outputs": [
    {
     "data": {
      "text/plain": [
       "0.1"
      ]
     },
     "execution_count": 15,
     "metadata": {},
     "output_type": "execute_result"
    }
   ],
   "source": [
    "mem.accuracy_tc(tc_array)"
   ]
  },
  {
   "cell_type": "markdown",
   "metadata": {},
   "source": [
    "### 准确率   \n",
    "**accuracy_tcof(tcof_array)**  \n",
    "统计观测和预报分类一致的样本数占比\n",
    "\n",
    "**参数说明：**   \n",
    " tcof_array:包含总样本数和正确样本数的多维数组，其中最后一维长度为2，其中tcof_array[...,0,0]记录了总样本数矩阵，其中tcof_array[...,0,1]记录了正确本数矩阵，tcof_array[...,1:,0]记录了观测频率表，tcof_array[...,1:,1]记录了预报频率表   \n",
    " return: numpy数组，其中每个元素为0-1的实数，0代表无技巧，最优预报为1  \n",
    "**调用示例：**  "
   ]
  },
  {
   "cell_type": "code",
   "execution_count": 16,
   "metadata": {},
   "outputs": [
    {
     "data": {
      "text/plain": [
       "0.1"
      ]
     },
     "execution_count": 16,
     "metadata": {},
     "output_type": "execute_result"
    }
   ],
   "source": [
    "mem.accuracy_tcof(tcof_array)"
   ]
  },
  {
   "cell_type": "markdown",
   "metadata": {},
   "source": [
    "### hss评分   \n",
    "**hss_tcof(tcof_array)**  \n",
    "Heidke skill score，统计准确率相对于随机预报的技巧\n",
    "\n",
    "**参数说明：**   \n",
    " tcof_array:包含总样本数和正确样本数的多维数组，其中最后一维长度为2，其中tcof_array[...,0,0]记录了总样本数矩阵，其中tcof_array[...,0,1]记录了正确本数矩阵，tcof_array[...,1:,0]记录了观测频率表，tcof_array[...,1:,1]记录了预报频率表   \n",
    " return: numpy数组，其中每个元素为负无穷到1的实数，0代表无技巧，最优预报为1  \n",
    "**调用示例：**  "
   ]
  },
  {
   "cell_type": "code",
   "execution_count": 17,
   "metadata": {
    "scrolled": true
   },
   "outputs": [
    {
     "data": {
      "text/plain": [
       "-0.3533834586466165"
      ]
     },
     "execution_count": 17,
     "metadata": {},
     "output_type": "execute_result"
    }
   ],
   "source": [
    "mem.hss_tcof(tcof_array)"
   ]
  },
  {
   "cell_type": "markdown",
   "metadata": {},
   "source": [
    "### hk评分   \n",
    "**hk_tcof(tcof_array)**  \n",
    "Hanssen and Kuipers discriminant，统计准确率相对于随机预报的技巧\n",
    "\n",
    "**参数说明：**   \n",
    " tcof_array:包含总样本数和正确样本数的多维数组，其中最后一维长度为2，其中tcof_array[...,0,0]记录了总样本数矩阵，其中tcof_array[...,0,1]记录了正确本数矩阵，tcof_array[...,1:,0]记录了观测频率表，tcof_array[...,1:,1]记录了预报频率表   \n",
    " return: numpy数组，其中每个元素为负无穷到1的实数，0代表无技巧，最优预报为1   \n",
    "**调用示例：**  "
   ]
  },
  {
   "cell_type": "code",
   "execution_count": 18,
   "metadata": {},
   "outputs": [
    {
     "data": {
      "text/plain": [
       "-0.3700787401574803"
      ]
     },
     "execution_count": 18,
     "metadata": {},
     "output_type": "execute_result"
    }
   ],
   "source": [
    "mem.hk_tcof(tcof_array)"
   ]
  },
  {
   "cell_type": "markdown",
   "metadata": {},
   "source": [
    "在预报检验经常需要进行分组检验，获得不同类别预报的评分指标并进行对比。此时可以应用上述基于中间结果的检验函数对多维中间统计量的整体计算能力来简化代码的复杂度。  \n",
    "**示例如下：**"
   ]
  },
  {
   "cell_type": "code",
   "execution_count": 19,
   "metadata": {},
   "outputs": [],
   "source": [
    "day_count = 100\n",
    "model_count = 3\n",
    "ob = np.random.rand(day_count,10) * 10\n",
    "fo = np.random.rand(model_count,day_count,10) * 10\n",
    "ob_int = ob.astype(np.int8)\n",
    "fo_int = fo.astype(np.int8)\n",
    "tcof_array = np.zeros((model_count,len(grade_list)+2,2))\n",
    "for i in range(day_count):\n",
    "    ob1 = ob_int[i,:]\n",
    "    for j in range(model_count):\n",
    "        fo1 = fo_int[j,i,:]\n",
    "        tcof_array[j,:,:] += mem.tcof(ob1,fo1,grade_list)"
   ]
  },
  {
   "cell_type": "code",
   "execution_count": 20,
   "metadata": {},
   "outputs": [
    {
     "data": {
      "text/plain": [
       "array([0.367, 0.377, 0.377])"
      ]
     },
     "execution_count": 20,
     "metadata": {},
     "output_type": "execute_result"
    }
   ],
   "source": [
    "mem.accuracy_tcof(tcof_array)"
   ]
  },
  {
   "cell_type": "code",
   "execution_count": 21,
   "metadata": {},
   "outputs": [
    {
     "data": {
      "text/plain": [
       "array([-0.02499498, -0.00799275, -0.00239416])"
      ]
     },
     "execution_count": 21,
     "metadata": {},
     "output_type": "execute_result"
    }
   ],
   "source": [
    "mem.hss_tcof(tcof_array)"
   ]
  },
  {
   "cell_type": "code",
   "execution_count": 22,
   "metadata": {
    "scrolled": true
   },
   "outputs": [
    {
     "data": {
      "text/plain": [
       "array([-0.02518017, -0.00805844, -0.00242732])"
      ]
     },
     "execution_count": 22,
     "metadata": {},
     "output_type": "execute_result"
    }
   ],
   "source": [
    "mem.hk_tcof(tcof_array)"
   ]
  },
  {
   "cell_type": "markdown",
   "metadata": {},
   "source": [
    "以上只是展示了分类检验的维度为1的情况，实际上上述思路可以扩展至任意高维的情况。熟练使用中间统计量计算和合并方法，基于中间统计量整体计算分类问题下的检验指标数组，是提高代码编写效果的关键。上述检验函数的内部也都采用了numpy的整体计算方式实现，在计算效率上进行了最大程度的优化。"
   ]
  }
 ],
 "metadata": {
  "kernelspec": {
   "display_name": "Python 3",
   "language": "python",
   "name": "python3"
  },
  "language_info": {
   "codemirror_mode": {
    "name": "ipython",
    "version": 3
   },
   "file_extension": ".py",
   "mimetype": "text/x-python",
   "name": "python",
   "nbconvert_exporter": "python",
   "pygments_lexer": "ipython3",
   "version": "3.7.1"
  }
 },
 "nbformat": 4,
 "nbformat_minor": 2
}
