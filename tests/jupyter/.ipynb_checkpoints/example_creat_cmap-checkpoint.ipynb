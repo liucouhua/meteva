{
 "cells": [
  {
   "cell_type": "code",
   "execution_count": 2,
   "metadata": {},
   "outputs": [
    {
     "name": "stdout",
     "output_type": "stream",
     "text": [
      "37\n"
     ]
    },
    {
     "data": {
      "image/png": "[encoded data removed]",
      "text/plain": [
       "<Figure size 576x72 with 1 Axes>"
      ]
     },
     "metadata": {},
     "output_type": "display_data"
    },
    {
     "data": {
      "image/png": "[encoded data removed]",
      "text/plain": [
       "<Figure size 576x72 with 1 Axes>"
      ]
     },
     "metadata": {},
     "output_type": "display_data"
    }
   ],
   "source": [
    "import meteva.base as meb\n",
    "import matplotlib.colors as colors\n",
    "import numpy as np\n",
    "import matplotlib.pyplot as plt\n",
    "cmap = np.array([[255,255,255],\n",
    "                 [0,255,0],\n",
    "                 [0,128,0],\n",
    "                 [0,200,200],\n",
    "                 [0,0,255],\n",
    "                 [0,0,128],\n",
    "                 [200,0,200],\n",
    "                 [255,0,0],\n",
    "                 [128,0,0],\n",
    "                 [255,150,0]])\n",
    "cmap = cmap/256\n",
    "cmap = cmap.tolist()\n",
    "cmap = colors.ListedColormap(cmap, 'indexed')\n",
    "meb.color_tools.show_cmap_clev(cmap)\n",
    "cmap = meb.color_tools.get_denser_cmap(cmap,4)\n",
    "meb.color_tools.show_cmap_clev(cmap)\n",
    "print(len(cmap.colors))\n",
    "clev = np.arange(37)*5\n",
    "#meb.color_tools.write_clev_and_cmap(clev,cmap,r\"color_example.txt\")"
   ]
  },
  {
   "cell_type": "code",
   "execution_count": null,
   "metadata": {},
   "outputs": [],
   "source": []
  }
 ],
 "metadata": {
  "kernelspec": {
   "display_name": "Python 3",
   "language": "python",
   "name": "python3"
  },
  "language_info": {
   "codemirror_mode": {
    "name": "ipython",
    "version": 3
   },
   "file_extension": ".py",
   "mimetype": "text/x-python",
   "name": "python",
   "nbconvert_exporter": "python",
   "pygments_lexer": "ipython3",
   "version": "3.7.1"
  }
 },
 "nbformat": 4,
 "nbformat_minor": 2
}
