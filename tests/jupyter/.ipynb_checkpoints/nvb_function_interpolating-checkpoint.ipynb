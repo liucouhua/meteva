{
 "cells": [
  {
   "cell_type": "code",
   "execution_count": 1,
   "metadata": {},
   "outputs": [],
   "source": [
    "%matplotlib inline\n",
    "%load_ext autoreload\n",
    "%autoreload 2\n",
    "import meteva.base as meb\n",
    "import numpy as np"
   ]
  },
  {
   "cell_type": "markdown",
   "metadata": {},
   "source": [
    "# 双线性插值\n",
    "**interp_gs_nearest(grd,sta,used_coords = [\"lon\",\"lat\"])**\n",
    "将水平网格数据插值到另一个网格上，对于新网格上的格点，其取值利用周围四个原网格点进行双线性插值获得      \n",
    "\n",
    "**参数说明：**  \n",
    " **grd**: 原网格数据(水平方向size不为1，其它维度size=1)   \n",
    " **grd**: 新网格信息变量，插值过程中       \n",
    " **other_info**: 该参数取缺省值left时返回的格点数据中，level,time,dtime,member维度的坐标值都采用原网格数据grd里的坐标信息， 否则和新网格保持一致  \n",
    " **return**: 站点数据，返回结果中站点数据的id,lat,lon,alt四列的数据会和sta里的一致，且sta中超出grd网格范围的站点会被删除。       \n",
    "\n",
    "\n",
    "**调用示例**"
   ]
  },
  {
   "cell_type": "code",
   "execution_count": null,
   "metadata": {},
   "outputs": [],
   "source": []
  }
 ],
 "metadata": {
  "kernelspec": {
   "display_name": "Python 3",
   "language": "python",
   "name": "python3"
  },
  "language_info": {
   "codemirror_mode": {
    "name": "ipython",
    "version": 3
   },
   "file_extension": ".py",
   "mimetype": "text/x-python",
   "name": "python",
   "nbconvert_exporter": "python",
   "pygments_lexer": "ipython3",
   "version": "3.7.1"
  }
 },
 "nbformat": 4,
 "nbformat_minor": 2
}
