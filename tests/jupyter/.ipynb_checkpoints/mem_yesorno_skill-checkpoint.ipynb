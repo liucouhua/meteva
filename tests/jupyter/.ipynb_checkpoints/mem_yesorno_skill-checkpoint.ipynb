{
 "cells": [
  {
   "cell_type": "code",
   "execution_count": 1,
   "metadata": {},
   "outputs": [],
   "source": [
    "%matplotlib inline\n",
    "%load_ext autoreload\n",
    "%autoreload 2\n",
    "import meteva.method as mem  \n",
    "import numpy as np"
   ]
  },
  {
   "cell_type": "markdown",
   "metadata": {},
   "source": [
    "在检验业务实践中常常要计算一种预报的准确率相对于一种基准预报的技巧，以诊断该预报的价值贡献，此类相对技巧的计算方法并不复杂，但会包含一些特殊情况的处理规则，本程序库将此类平均规则进行集成，促进不同的检验部门在计算规则上达成更强的一致性。"
   ]
  },
  {
   "cell_type": "code",
   "execution_count": 2,
   "metadata": {},
   "outputs": [],
   "source": [
    "ob = np.random.randn(100)\n",
    "ob[ob < 0] = 0                #观测\n",
    "fo_nmc = np.random.randn(100)\n",
    "fo_nmc[fo_nmc < 0] = 0        #中央台预报\n",
    "fo_pro = np.random.randn(100)\n",
    "fo_pro[fo_pro < 0] = 0       #s省台预报"
   ]
  },
  {
   "cell_type": "markdown",
   "metadata": {},
   "source": [
    "### 晴雨预报相对技巧     \n",
    "**pc_skill(pc, pc_base)**  \n",
    "对比计算晴雨准确率的相对技巧  pc_skill = (pc - pc_base) / (1 - pc_base)，当pc_base 和pc 同为1 时返回0，当只有pc_base=1 时，返回缺省值。  \n",
    "  \n",
    "**参数说明：**  \n",
    " pc: 晴雨准确率\n",
    " pc_base:晴雨准确率，技巧评价的参考基准  \n",
    " return: 和pc的shape一致的数值或数组，其中元素为负无穷到正无穷的实数，取值越大代表技巧越高  \n",
    " **调用示例：**"
   ]
  },
  {
   "cell_type": "code",
   "execution_count": 3,
   "metadata": {},
   "outputs": [
    {
     "data": {
      "text/plain": [
       "0.06000000000000005"
      ]
     },
     "execution_count": 3,
     "metadata": {},
     "output_type": "execute_result"
    }
   ],
   "source": [
    "pc_nmc = mem.pc_of_sun_rain(ob,fo_nmc)\n",
    "pc_pro = mem.pc_of_sun_rain(ob,fo_pro)\n",
    "mem.pc_skill(pc_pro,pc_nmc)"
   ]
  },
  {
   "cell_type": "markdown",
   "metadata": {},
   "source": [
    "### Ts评分相对技巧     \n",
    "**ts_skill(ts, ts_base)**  \n",
    "对比计算Ts评分的相对技巧 ts_skill = (ts - ts_base) / (1 - ts_base)，当ts_base和ts 同为1 时返回0，当只有ts_base=1 时，返回缺省值。   \n",
    "  \n",
    "**参数说明：**  \n",
    " ts: ts评分\n",
    " ts_base: ts评分，技巧评价的参考基准  \n",
    " return: 和ts的shape一致的数值或数组，其中元素为负无穷到正无穷的实数，取值越大代表技巧越高  \n",
    " **调用示例：**"
   ]
  },
  {
   "cell_type": "code",
   "execution_count": 4,
   "metadata": {},
   "outputs": [
    {
     "data": {
      "text/plain": [
       "array([0.05882353])"
      ]
     },
     "execution_count": 4,
     "metadata": {},
     "output_type": "execute_result"
    }
   ],
   "source": [
    "ts_nmc = mem.ts(ob,fo_nmc)\n",
    "ts_pro = mem.ts(ob,fo_pro)\n",
    "mem.ts_skill(ts_pro,ts_nmc)"
   ]
  },
  {
   "cell_type": "markdown",
   "metadata": {},
   "source": [
    "### 偏差幅度相对技巧     \n",
    "**bias_extend_skill(be,be_base)**  \n",
    "对比计算偏差幅度的相对技巧 bias_extend_skill = (bias_extend - bias_extend_base) / bias_extend_base，当bias_extend和bias_extend_base 同为0 时返回0，当只有bias_extend_base=0 时，返回缺省值。   \n",
    "  \n",
    "**参数说明：**  \n",
    " be: bias_extend评分\n",
    " be_base: bias_extend评分，技巧评价的参考基准  \n",
    " return: 和be的shape一致的数值或数组，其中元素为负无穷到正无穷的实数，取值越大代表技巧越高  \n",
    " **调用示例：**"
   ]
  },
  {
   "cell_type": "code",
   "execution_count": 7,
   "metadata": {},
   "outputs": [
    {
     "data": {
      "text/plain": [
       "array([-1.])"
      ]
     },
     "execution_count": 7,
     "metadata": {},
     "output_type": "execute_result"
    }
   ],
   "source": [
    "be_nmc = mem.bias_extend_linear(mem.bias(ob,fo_nmc))    # 根据ob,fo计算bias,在计算线性的偏差幅度\n",
    "be_pro = mem.bias_extend_linear(mem.bias(ob,fo_pro))\n",
    "mem.bias_extend_skill(be_pro,be_nmc)                #计算偏差幅度的相对技巧"
   ]
  },
  {
   "cell_type": "code",
   "execution_count": 9,
   "metadata": {},
   "outputs": [
    {
     "data": {
      "text/plain": [
       "array([-0.94687699])"
      ]
     },
     "execution_count": 9,
     "metadata": {},
     "output_type": "execute_result"
    }
   ],
   "source": [
    "be_nmc = mem.bias_extend_log(mem.bias(ob,fo_nmc))      # 根据ob,fo计算bias,在计算对数的偏差幅度\n",
    "be_pro = mem.bias_extend_log(mem.bias(ob,fo_pro))\n",
    "mem.bias_extend_skill(be_pro,be_nmc)               # 计算偏差幅度的相对技巧"
   ]
  },
  {
   "cell_type": "code",
   "execution_count": null,
   "metadata": {},
   "outputs": [],
   "source": []
  }
 ],
 "metadata": {
  "kernelspec": {
   "display_name": "Python 3",
   "language": "python",
   "name": "python3"
  },
  "language_info": {
   "codemirror_mode": {
    "name": "ipython",
    "version": 3
   },
   "file_extension": ".py",
   "mimetype": "text/x-python",
   "name": "python",
   "nbconvert_exporter": "python",
   "pygments_lexer": "ipython3",
   "version": "3.7.1"
  }
 },
 "nbformat": 4,
 "nbformat_minor": 2
}
