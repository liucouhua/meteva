{
 "cells": [
  {
   "cell_type": "code",
   "execution_count": 1,
   "metadata": {},
   "outputs": [],
   "source": [
    "%matplotlib inline\n",
    "%load_ext autoreload\n",
    "%autoreload 2\n",
    "import meteva.base as meb\n",
    "import datetime"
   ]
  },
  {
   "cell_type": "markdown",
   "metadata": {},
   "source": [
    "# 生成文件路径\n",
    "**get_path(dir,time,dt = None)**  \n",
    "通过路径的通配模型和时间、预报时效等参数自动生成文件路径  \n",
    "\n",
    "**参数说明：**  \n",
    " **dir**: 文件名的通配模式，通配模式中YYYY，YY，MM，DD，HH,FF，TTT会分别对应成四位数年份，两位数年份，两位数的月、日、时，分和三位数的预报时效。*号可以通配任意长度的字符串。 如果原文件名中已经包含了MM，DD等字样，则需要在通配模式中写成M>M,D>D等形式，避免被转换成时间字符。\n",
    " **起报时间**: 站点数据，其中time,dtime,level属性为设置的缺省值，数据内容都设置为0   \n",
    " **预报时效**: 整数\n",
    " **return**: 字符串形式的路径，当采用*号进行通配时，未匹配到相应的文件则会返回None\n",
    "**调用示例**"
   ]
  },
  {
   "cell_type": "markdown",
   "metadata": {},
   "source": [
    "例如在H:\\test_data\\input\\meb\\文件夹下有4个文件：   \n",
    "  2020011200.000.nc   \n",
    "  2020011200.003.nc   \n",
    "  globalECMWF_IT_2020011200_VT_2020011203_FH_003_AT_003.nc   \n",
    "  globalECMWF_IT_2020011200_VT_2020011203_FH_003_DD_003.nc   "
   ]
  },
  {
   "cell_type": "code",
   "execution_count": 2,
   "metadata": {},
   "outputs": [
    {
     "name": "stdout",
     "output_type": "stream",
     "text": [
      "H:\\test_data\\input\\meb\\2020011200.000.nc\n"
     ]
    }
   ],
   "source": [
    "time0 = datetime.datetime(2020,1,12,0,0)\n",
    "dir = r\"H:\\test_data\\input\\meb\\YYYYMMDDHH.TTT.nc\"   \n",
    "path = meb.get_path(dir,time0)\n",
    "print(path)"
   ]
  },
  {
   "cell_type": "code",
   "execution_count": 3,
   "metadata": {},
   "outputs": [
    {
     "name": "stdout",
     "output_type": "stream",
     "text": [
      "H:\\test_data\\input\\meb\\2020011200.003.nc\n"
     ]
    }
   ],
   "source": [
    "path = meb.get_path(dir,time0,3)\n",
    "print(path)"
   ]
  },
  {
   "cell_type": "code",
   "execution_count": 12,
   "metadata": {},
   "outputs": [
    {
     "name": "stdout",
     "output_type": "stream",
     "text": [
      "H:/test_data/input/meb/globalECMWF_IT_2020011200_VT_2020011203_FH_003_AT_003.nc\n"
     ]
    }
   ],
   "source": [
    "dir = r\"H:\\test_data\\input\\meb\\*YYYYMMDDHH*TTT*AT*\"\n",
    "path = meb.get_path(dir,time0,3)\n",
    "print(path)"
   ]
  },
  {
   "cell_type": "code",
   "execution_count": 14,
   "metadata": {},
   "outputs": [
    {
     "name": "stdout",
     "output_type": "stream",
     "text": [
      "H:/test_data/input/meb/globalECMWF_IT_2020011200_VT_2020011203_FH_003_DD_003.nc\n"
     ]
    }
   ],
   "source": [
    "dir = r\"H:\\test_data\\input\\meb\\*YYYYMMDDHH*TTT*D>D*\"\n",
    "path = meb.get_path(dir,time0,3)\n",
    "print(path)"
   ]
  },
  {
   "cell_type": "code",
   "execution_count": 15,
   "metadata": {},
   "outputs": [
    {
     "name": "stdout",
     "output_type": "stream",
     "text": [
      "None\n"
     ]
    }
   ],
   "source": [
    "dir = r\"H:\\test_data\\input\\meb\\*YYYYMMDDHH*TTT*DD*\"\n",
    "path = meb.get_path(dir,time0,3)\n",
    "print(path)"
   ]
  },
  {
   "cell_type": "markdown",
   "metadata": {},
   "source": [
    "# 根据文件路径创建文件夹   \n",
    "**creat_path(path)**   \n",
    "根据文件名，判断相应的文件夹是否存在，如果不存在则生成逐级文件夹  \n",
    "\n",
    "**参数说明：**  \n",
    " **path**: 文件名   \n",
    " **return**: None  \n",
    "**调用示例**   "
   ]
  },
  {
   "cell_type": "code",
   "execution_count": 16,
   "metadata": {},
   "outputs": [],
   "source": [
    "path = r\"H:\\test_data\\output\\meb\\path_tools\\a.txt\"\n",
    "meb.creat_path(path)"
   ]
  }
 ],
 "metadata": {
  "kernelspec": {
   "display_name": "Python 3",
   "language": "python",
   "name": "python3"
  },
  "language_info": {
   "codemirror_mode": {
    "name": "ipython",
    "version": 3
   },
   "file_extension": ".py",
   "mimetype": "text/x-python",
   "name": "python",
   "nbconvert_exporter": "python",
   "pygments_lexer": "ipython3",
   "version": "3.7.1"
  }
 },
 "nbformat": 4,
 "nbformat_minor": 2
}
