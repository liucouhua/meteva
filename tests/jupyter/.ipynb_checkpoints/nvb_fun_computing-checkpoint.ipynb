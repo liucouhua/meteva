{
 "cells": [
  {
   "cell_type": "code",
   "execution_count": 1,
   "metadata": {},
   "outputs": [],
   "source": [
    "%matplotlib inline\n",
    "%load_ext autoreload\n",
    "%autoreload 2\n",
    "import meteva.base as meb\n",
    "import pandas as pd\n",
    "import numpy as np\n",
    "import datetime\n",
    "import copy"
   ]
  },
  {
   "cell_type": "code",
   "execution_count": 2,
   "metadata": {},
   "outputs": [
    {
     "name": "stdout",
     "output_type": "stream",
     "text": [
      "      level                time  dtime     id     lon    lat  data0\n",
      "0         0 2099-01-01 08:00:00      0  56790  104.25  25.68      0\n",
      "1         0 2099-01-01 08:00:00      0  51369   87.65  43.97      0\n",
      "2         0 2099-01-01 08:00:00      0  56097  104.25  33.27      0\n",
      "3         0 2099-01-01 08:00:00      0  57413  106.97  30.85      0\n",
      "4         0 2099-01-01 08:00:00      0  54871  122.48  36.93      0\n",
      "...     ...                 ...    ...    ...     ...    ...    ...\n",
      "2412      0 2099-01-01 08:00:00      0  53768  111.75  37.15      0\n",
      "2413      0 2099-01-01 08:00:00      0  58645  119.49  28.46      0\n",
      "2414      0 2099-01-01 08:00:00      0  58444  120.29  30.42      0\n",
      "2415      0 2099-01-01 08:00:00      0  58755  120.39  27.50      0\n",
      "2416      0 2099-01-01 08:00:00      0  48520   99.08  10.32      0\n",
      "\n",
      "[2417 rows x 7 columns]\n"
     ]
    }
   ],
   "source": [
    "#meb.station_国家站是程序库中内置的micaps3类文件的路径名\n",
    "station = meb.read_station(meb.station_国家站)  #读取micaps3类文件获取站点，print(meb.station_国家站)\n",
    "print(station)"
   ]
  },
  {
   "cell_type": "code",
   "execution_count": 3,
   "metadata": {},
   "outputs": [
    {
     "name": "stdout",
     "output_type": "stream",
     "text": [
      "     level                time  dtime     id     lon    lat  data0\n",
      "0        0 2020-01-03 20:00:00      0  57671  112.37  28.85     37\n",
      "1        0 2020-01-03 20:00:00      0  57845  109.78  26.17    397\n",
      "2        0 2020-01-03 20:00:00      0  57466  111.75  30.46     66\n",
      "3        0 2020-01-03 20:00:00      0  57842  109.72  26.88    281\n",
      "4        0 2020-01-03 20:00:00      0  57584  113.09  29.38     53\n",
      "..     ...                 ...    ...    ...     ...    ...    ...\n",
      "561      0 2020-01-03 20:00:00      0  57589  113.88  29.27    146\n",
      "562      0 2020-01-03 20:00:00      0  57583  113.97  29.92     61\n",
      "563      0 2020-01-03 20:00:00      0  55690   91.95  27.98   4280\n",
      "564      0 2020-01-03 20:00:00      0  55597   91.68  29.03   3740\n",
      "565      0 2020-01-03 20:00:00      0  56434   97.47  28.67   2366\n",
      "\n",
      "[566 rows x 7 columns]\n"
     ]
    }
   ],
   "source": [
    "filename = r\"H:\\test_data\\input\\meb\\m3.txt\"\n",
    "sta = meb.read_stadata_from_micaps3(filename)  #在其他参数缺省的情况下，站点列表、时间和层次信息均根据文件内容设置,时效设置为0\n",
    "print(sta)"
   ]
  },
  {
   "cell_type": "markdown",
   "metadata": {},
   "source": [
    "### 将站点数据的内容统一至指定的站点表上  \n",
    "**put_stadata_on_station(sta,station)**   \n",
    "在检验中经常需要采用统一的站点表，而实时读入的站点数据在站点的数量和排列顺序上可能每次有有所不同。本函数的功能就是将站点数据规范成具有相同站点列表和排列顺序的数据。\n",
    "\n",
    "\n",
    "**参数说明：**  \n",
    " **sta**: 站点数据  \n",
    " **station**: 站点数据,其中id，lon,lat列被采用         \n",
    " **return**:站点数据，id,lon,lat和station中一致，且排列顺序一致。level,time,dtime则采用sta中相同id对应的值，数据列中如果某个id在sta中有对应行，则采用sta的数值，否则采用station中的数值。       \n",
    "\n",
    "**调用示例**"
   ]
  },
  {
   "cell_type": "code",
   "execution_count": 4,
   "metadata": {},
   "outputs": [
    {
     "name": "stdout",
     "output_type": "stream",
     "text": [
      "['data0_x', 'level_y', 'time_y', 'dtime_y', 'lon_y', 'lat_y']\n",
      "      level                time  dtime     id     lon    lat  data0\n",
      "0         0 2020-01-03 20:00:00      0  56790  104.25  25.68    0.0\n",
      "1         0 2020-01-03 20:00:00      0  51369   87.65  43.97    0.0\n",
      "2         0 2020-01-03 20:00:00      0  56097  104.25  33.27    0.0\n",
      "3         0 2020-01-03 20:00:00      0  57413  106.97  30.85    0.0\n",
      "4         0 2020-01-03 20:00:00      0  54871  122.48  36.93    0.0\n",
      "...     ...                 ...    ...    ...     ...    ...    ...\n",
      "2412      0 2020-01-03 20:00:00      0  53768  111.75  37.15    0.0\n",
      "2413      0 2020-01-03 20:00:00      0  58645  119.49  28.46  152.0\n",
      "2414      0 2020-01-03 20:00:00      0  58444  120.29  30.42  101.0\n",
      "2415      0 2020-01-03 20:00:00      0  58755  120.39  27.50    0.0\n",
      "2416      0 2020-01-03 20:00:00      0  48520   99.08  10.32    0.0\n",
      "\n",
      "[2417 rows x 7 columns]\n"
     ]
    }
   ],
   "source": [
    "sta1 = meb.comp.put_stadata_on_station(sta,station)\n",
    "print(sta1)"
   ]
  },
  {
   "cell_type": "markdown",
   "metadata": {},
   "source": [
    "### 网格数据平滑  \n",
    "**smooth(grd,times = 1,used_coords = [\"lon\",\"lat\"])**   \n",
    "对网格数据进行平滑\n",
    "\n",
    "\n",
    "**参数说明：**  \n",
    " **grd**: 网格数据  \n",
    " **smooth_times**: 平滑的次数,缺省值为1   \n",
    " **used_coords**: 平滑操作使用的维度，缺省情况下平滑操作只在水平方向实现，平滑的方法为9点平滑    \n",
    " **return**:网格数据，平滑后的网格数据       \n",
    "\n",
    "**调用示例**"
   ]
  },
  {
   "cell_type": "code",
   "execution_count": 5,
   "metadata": {},
   "outputs": [
    {
     "name": "stdout",
     "output_type": "stream",
     "text": [
      "<xarray.DataArray 'data0' (member: 1, level: 1, time: 1, dtime: 1, lat: 5, lon: 5)>\n",
      "array([[[[[[0.5, 0.5, 0.5, 0.5, 0.5],\n",
      "           [1.5, 1.5, 1.5, 1.5, 1.5],\n",
      "           [2.5, 2.5, 2.5, 2.5, 2.5],\n",
      "           [3.5, 3.5, 3.5, 3.5, 3.5],\n",
      "           [4.5, 4.5, 4.5, 4.5, 4.5]]]]]])\n",
      "Coordinates:\n",
      "  * member   (member) <U6 'GRAPES'\n",
      "  * level    (level) int32 0\n",
      "  * time     (time) datetime64[ns] 2019-01-31T08:00:00\n",
      "  * dtime    (dtime) int32 24\n",
      "  * lat      (lat) int32 20 21 22 23 24\n",
      "  * lon      (lon) int32 100 101 102 103 104\n"
     ]
    }
   ],
   "source": [
    "grid0 = meb.grid([100,104,1],[20,24,1],gtime=[\"2019013108\"],dtime_list = [24],level_list = [0],member_list = [\"GRAPES\"])\n",
    "x= np.arange(0.5,5,1)\n",
    "y= np.arange(0.5,5,1)\n",
    "_,yy = np.meshgrid(x,y)\n",
    "grd = meb.grid_data(grid0,yy)   #根据网格信息和numpy数组生成网格数\n",
    "print(grd)"
   ]
  },
  {
   "cell_type": "code",
   "execution_count": 6,
   "metadata": {},
   "outputs": [
    {
     "name": "stdout",
     "output_type": "stream",
     "text": [
      "<xarray.DataArray 'data0' (member: 1, level: 1, time: 1, dtime: 1, lat: 5, lon: 5)>\n",
      "array([[[[[[1.09375 , 1.09375 , 1.09375 , 1.09375 , 1.09375 ],\n",
      "           [1.640625, 1.640625, 1.640625, 1.640625, 1.640625],\n",
      "           [2.5     , 2.5     , 2.5     , 2.5     , 2.5     ],\n",
      "           [3.359375, 3.359375, 3.359375, 3.359375, 3.359375],\n",
      "           [3.90625 , 3.90625 , 3.90625 , 3.90625 , 3.90625 ]]]]]])\n",
      "Coordinates:\n",
      "  * member   (member) <U6 'GRAPES'\n",
      "  * level    (level) int32 0\n",
      "  * time     (time) datetime64[ns] 2019-01-31T08:00:00\n",
      "  * dtime    (dtime) int32 24\n",
      "  * lat      (lat) int32 20 21 22 23 24\n",
      "  * lon      (lon) int32 100 101 102 103 104\n"
     ]
    }
   ],
   "source": [
    "grd_sm = meb.comp.smooth(grd,3)\n",
    "print(grd_sm)"
   ]
  },
  {
   "cell_type": "code",
   "execution_count": null,
   "metadata": {},
   "outputs": [],
   "source": []
  }
 ],
 "metadata": {
  "kernelspec": {
   "display_name": "Python 3",
   "language": "python",
   "name": "python3"
  },
  "language_info": {
   "codemirror_mode": {
    "name": "ipython",
    "version": 3
   },
   "file_extension": ".py",
   "mimetype": "text/x-python",
   "name": "python",
   "nbconvert_exporter": "python",
   "pygments_lexer": "ipython3",
   "version": "3.7.1"
  }
 },
 "nbformat": 4,
 "nbformat_minor": 2
}
