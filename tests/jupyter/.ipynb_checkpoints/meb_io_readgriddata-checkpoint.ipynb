{
 "cells": [
  {
   "cell_type": "code",
   "execution_count": 1,
   "metadata": {},
   "outputs": [],
   "source": [
    "%matplotlib inline\n",
    "%load_ext autoreload\n",
    "%autoreload 2\n",
    "import meteva.base as meb\n",
    "import numpy as np\n",
    "import datetime\n",
    "import xarray as xr"
   ]
  },
  {
   "cell_type": "markdown",
   "metadata": {},
   "source": [
    "### 读取micaps4数据\n",
    "**read_griddata_from_micaps4(filename, grid = None)**  \n",
    "从micaps第3类数据文件中读取网格数据  \n",
    "\n",
    "**参数说明：**  \n",
    " **filename**: Micaps4格式的文件  路径和文件名   \n",
    " **grid**:  格点的经纬度信息，默认为：None,如果有传入grid信息，需要使用双线性插值进行提取。     \n",
    " **return**: 网格数据类变量    \n",
    "\n",
    "\n",
    "**调用示例**"
   ]
  },
  {
   "cell_type": "code",
   "execution_count": 2,
   "metadata": {},
   "outputs": [
    {
     "name": "stdout",
     "output_type": "stream",
     "text": [
      "<xarray.DataArray 'data0' (member: 1, level: 1, time: 1, dtime: 1, lat: 281, lon: 361)>\n",
      "array([[[[[[26.99, ..., 26.96],\n",
      "           ...,\n",
      "           [ 1.02, ...,  7.08]]]]]])\n",
      "Coordinates:\n",
      "  * member   (member) <U5 'data0'\n",
      "  * level    (level) float64 0.0\n",
      "  * time     (time) datetime64[ns] 2019-05-17\n",
      "  * dtime    (dtime) int32 24\n",
      "  * lat      (lat) float64 -10.0 -9.75 -9.5 -9.25 -9.0 ... 59.25 59.5 59.75 60.0\n",
      "  * lon      (lon) float64 60.0 60.25 60.5 60.75 ... 149.2 149.5 149.8 150.0\n",
      "Attributes:\n",
      "    dtime_type:  hour\n"
     ]
    }
   ],
   "source": [
    "filename = r\"H:\\test_data\\input\\meb\\m4.txt\"\n",
    "grd = meb.read_griddata_from_micaps4(filename)\n",
    "print(grd)"
   ]
  },
  {
   "cell_type": "code",
   "execution_count": 3,
   "metadata": {},
   "outputs": [
    {
     "name": "stdout",
     "output_type": "stream",
     "text": [
      "members:['data0']\n",
      "levels:[0]\n",
      "gtime:['20990101000000', '20990101000000', '1h']\n",
      "dtimes:[0]\n",
      "glon:[70, 140.0, 0.25]\n",
      "glat:[20, 50.0, 0.25]\n",
      "\n",
      "<xarray.DataArray 'data0' (member: 1, level: 1, time: 1, dtime: 1, lat: 121, lon: 281)>\n",
      "array([[[[[[27.99, ..., 27.77],\n",
      "           ...,\n",
      "           [ 9.27, ..., 14.74]]]]]])\n",
      "Coordinates:\n",
      "  * member   (member) <U5 'data0'\n",
      "  * level    (level) float64 0.0\n",
      "  * time     (time) datetime64[ns] 2019-05-17\n",
      "  * dtime    (dtime) int32 24\n",
      "  * lat      (lat) float64 20.0 20.25 20.5 20.75 21.0 ... 49.25 49.5 49.75 50.0\n",
      "  * lon      (lon) float64 70.0 70.25 70.5 70.75 ... 139.2 139.5 139.8 140.0\n"
     ]
    }
   ],
   "source": [
    "grid = meb.grid([70,140,0.25],[20,50,0.25])\n",
    "print(grid)\n",
    "grd = meb.read_griddata_from_micaps4(filename,grid)\n",
    "print(grd)"
   ]
  },
  {
   "cell_type": "markdown",
   "metadata": {},
   "source": [
    "### 读取netcdf数据\n",
    "**read_griddata_from_nc(filename,grid = None,value_name = None,member = None,level = None,time = None,dt = None,lat = None,lon = None)**  \n",
    "从netdf类数据文件中读取网格数据,但并非将nc文件中所有的内容都同时读入，而是仅只读取其中一个物理量，将其内容放置在本程序库支持的包含6维网格的网格数据内。  \n",
    "\n",
    "**参数说明：**  \n",
    " **filename**: netcdf格式的文件  路径和文件名   \n",
    " **grid**:  格点的经纬度信息，默认为：None,如果有传入grid信息，需要使用双线性插值进行提取。  \n",
    " **value_name**: 在nc文件中，要读取的要素名称，如果value_name是None，就通过程序自动判断所要读取的要素名称，方法是排除time，latitude，longitude等时空坐标信息量之后的物理量   \n",
    " **member**: 在nc文件中，代表集合成员维度的坐标量的名称， nc文件中没有集合维度，该参数可缺省。  \n",
    " **level**:  在nc文件中，代表垂直层次维度的坐标量的名称， 该参数缺省时，自动以文件中名称为\"level\"的变量作为层次坐标。  \n",
    " **time**:  在nc文件中，代表时间维度的坐标量的名称，该参数缺省时，会自动以文件中名称为\"time\"的变量作为时间坐标。  \n",
    " **dt**:  在nc文件中，代表时效维度的坐标量的名称， nc文件中没有时效维度，该参数可缺省。  \n",
    " **lat**: 在nc文件中，代表经向维度的坐标量的名称，该参数缺省时，会自动以文件中名称为\"lat\"或\"latitude\"的变量作为东西向坐标。  \n",
    " **lon**: 在nc文件中，代表纬向维度的坐标量的名称，该参数缺省时，会自动以文件中名称为\"lon\"或\"longtitue\"的变量作为南北向坐标。  \n",
    " **return**: 网格数据类变量     \n",
    "\n",
    "\n",
    "**调用示例**"
   ]
  },
  {
   "cell_type": "code",
   "execution_count": 4,
   "metadata": {},
   "outputs": [
    {
     "name": "stdout",
     "output_type": "stream",
     "text": [
      "<xarray.Dataset>\n",
      "Dimensions:    (latitude: 721, level: 1, longitude: 1441, time: 1)\n",
      "Coordinates:\n",
      "  * time       (time) datetime64[ns] 2001-03-01\n",
      "  * level      (level) int32 -2147483647\n",
      "  * latitude   (latitude) float32 -9.999992 -9.874992 ... 79.87501 80.00001\n",
      "  * longitude  (longitude) float32 0.0 0.125 0.25 0.375 ... 179.75 179.875 180.0\n",
      "Data variables:\n",
      "    data       (time, level, longitude, latitude) float32 ...\n",
      "Attributes:\n",
      "    Conventions:   COARDS\n",
      "    institution:   National Meteorological Center OF CMA\n",
      "    Product:       ECMWF细网格产品\n",
      "    ForecastHour:  024\n",
      "    RunTime:       19111608\n"
     ]
    }
   ],
   "source": [
    "filename = r\"H:\\test_data\\input\\meb\\test.nc\"\n",
    "dataarray = xr.open_dataset(filename)  #通过xarray程序库读取nc文件中的所有内容\n",
    "print(dataarray)"
   ]
  },
  {
   "cell_type": "code",
   "execution_count": 5,
   "metadata": {},
   "outputs": [
    {
     "name": "stdout",
     "output_type": "stream",
     "text": [
      "<xarray.DataArray 'data0' (member: 1, level: 1, time: 1, dtime: 1, lat: 721, lon: 1441)>\n",
      "array([[[[[[ 22.3125, ...,  26.9375],\n",
      "           ...,\n",
      "           [ -4.    , ..., -12.75  ]]]]]], dtype=float32)\n",
      "Coordinates:\n",
      "  * member   (member) int32 0\n",
      "  * level    (level) int32 -2147483647\n",
      "  * time     (time) datetime64[ns] 2001-03-01\n",
      "  * dtime    (dtime) int32 0\n",
      "  * lat      (lat) float32 -9.999992 -9.874992 -9.749992 ... 79.87501 80.00001\n",
      "  * lon      (lon) float32 0.0 0.125 0.25 0.375 ... 179.625 179.75 179.875 180.0\n",
      "Attributes:\n",
      "    units:         ℃\n",
      "    effectiveNum:  1\n",
      "    long_name:     2m温度\n"
     ]
    }
   ],
   "source": [
    "grd = meb.read_griddata_from_nc(filename)\n",
    "print(grd) #读取后自动以time,level,latitude,longitude作为坐标变量，并增加了member和dtime的维度（size=1), 返回结果中数据名称设置为data0"
   ]
  },
  {
   "cell_type": "code",
   "execution_count": 6,
   "metadata": {},
   "outputs": [
    {
     "name": "stdout",
     "output_type": "stream",
     "text": [
      "<xarray.DataArray 'data0' (member: 1, level: 1, time: 1, dtime: 1, lat: 721, lon: 1441)>\n",
      "array([[[[[[ 22.3125, ...,  26.9375],\n",
      "           ...,\n",
      "           [ -4.    , ..., -12.75  ]]]]]], dtype=float32)\n",
      "Coordinates:\n",
      "  * member   (member) <U5 'ECMWF'\n",
      "  * level    (level) int32 0\n",
      "  * time     (time) datetime64[ns] 2001-03-01\n",
      "  * dtime    (dtime) int32 24\n",
      "  * lat      (lat) float32 -9.999992 -9.874992 -9.749992 ... 79.87501 80.00001\n",
      "  * lon      (lon) float32 0.0 0.125 0.25 0.375 ... 179.625 179.75 179.875 180.0\n",
      "Attributes:\n",
      "    units:         ℃\n",
      "    effectiveNum:  1\n",
      "    long_name:     2m温度\n"
     ]
    }
   ],
   "source": [
    "meb.set_griddata_coords(grd,member_list = [\"ECMWF\"],level_list = [0],dtime_list = [24]) \n",
    "print(grd)  #通过set_coords可以重置每个坐标维度的信息"
   ]
  },
  {
   "cell_type": "markdown",
   "metadata": {},
   "source": [
    "### 读取GDS服务器中的网格数据\n",
    "**read_griddata_from_gds(ip,port,filename,grid = None)**  \n",
    "从GDS服务器中读取网格数据，将其内容放置在本程序库支持的包含6维网格的网格数据内。  \n",
    "\n",
    "**参数说明：**  \n",
    " **ip** : 服务器地址   \n",
    " **port**:服务器端口  \n",
    " **filename**: 数据在服务器中的文件路径     \n",
    " **grid**:  格点的经纬度信息，默认为：None,如果有传入grid信息，需要使用双线性插值进行提取。  \n",
    " **return**: 网格数据类变量    \n",
    "\n",
    "\n",
    "**调用示例**"
   ]
  },
  {
   "cell_type": "code",
   "execution_count": 7,
   "metadata": {},
   "outputs": [
    {
     "name": "stdout",
     "output_type": "stream",
     "text": [
      "ECMWF_HR/TMP_2M/20022308.024超出可读时间\n",
      "None\n"
     ]
    }
   ],
   "source": [
    "ip,port = meb.io.read_gds_ip_port( r\"H:\\test_data\\input\\meb\\ip_port.txt\")\n",
    "grd = meb.read_griddata_from_gds(ip,port,r\"ECMWF_HR/TMP_2M/20022308.024\")\n",
    "#meb.set_griddata_coords(grd,member_list = [\"ECMWF_HR\"],gtime = [datetime.datetime(2020,2,23,8,0)],dtime_list = [24])\n",
    "print(grd)"
   ]
  },
  {
   "cell_type": "markdown",
   "metadata": {},
   "source": [
    "### 读取GDS导出的网格数据文件\n",
    "**read_griddata_from_gds_file(filename,grid = None)**  \n",
    "从GDS服务器中读取网格数据，将其内容放置在本程序库支持的包含6维网格的网格数据内。  \n",
    "\n",
    "**参数说明：**  \n",
    " **filename**: 文件路径     \n",
    " **grid**:  格点的经纬度信息，默认为：None,如果有传入grid信息，需要使用双线性插值进行提取。  \n",
    " **return**: 网格数据类变量    \n",
    "\n",
    "\n",
    "**调用示例**"
   ]
  },
  {
   "cell_type": "code",
   "execution_count": 8,
   "metadata": {},
   "outputs": [
    {
     "name": "stdout",
     "output_type": "stream",
     "text": [
      "<xarray.DataArray 'data0' (member: 1, level: 1, time: 1, dtime: 1, lat: 721, lon: 1441)>\n",
      "array([[[[[[ 24.443943, ...,  28.006443],\n",
      "           ...,\n",
      "           [-23.181057, ..., -24.712307]]]]]], dtype=float32)\n",
      "Coordinates:\n",
      "  * member   (member) <U8 'ECMWF_HR'\n",
      "  * level    (level) float64 0.0\n",
      "  * time     (time) datetime64[ns] 2019-12-31T08:00:00\n",
      "  * dtime    (dtime) int32 24\n",
      "  * lat      (lat) float64 -10.0 -9.875 -9.75 -9.625 ... 79.63 79.75 79.88 80.0\n",
      "  * lon      (lon) float64 0.0 0.125 0.25 0.375 0.5 ... 179.6 179.8 179.9 180.0\n",
      "Attributes:\n",
      "    dtime_type:  hour\n"
     ]
    }
   ],
   "source": [
    "grd = meb.read_griddata_from_gds_file(r\"H:/test_data/input/meb/test.gds\")\n",
    "meb.set_griddata_coords(grd,member_list = [\"ECMWF_HR\"],gtime = [datetime.datetime(2019,12,31,8,0)],dtime_list = [24])\n",
    "print(grd)"
   ]
  },
  {
   "cell_type": "markdown",
   "metadata": {},
   "source": [
    "# 从GDS中读取AWX云图数据\n",
    "**read_AWX_from_gds(ip,port,filename,grid = None)**  \n",
    "从GDS服务器中读取网格云图数据，将其内容放置在本程序库支持的包含6维网格的网格数据内。  \n",
    "\n",
    "**参数说明：**  \n",
    " **ip** : 服务器地址   \n",
    " **port**:服务器端口 \n",
    " **filename**: 文件路径     \n",
    " **grid**:  格点的经纬度信息，默认为：None,如果有传入grid信息，需要使用双线性插值进行提取。  \n",
    " **return**: 网格数据类变量    \n",
    "\n",
    "\n",
    "**调用示例**"
   ]
  },
  {
   "cell_type": "code",
   "execution_count": 16,
   "metadata": {},
   "outputs": [
    {
     "name": "stdout",
     "output_type": "stream",
     "text": [
      "<xarray.DataArray 'data0' (member: 1, level: 1, time: 1, dtime: 1, lat: 1001, lon: 1751)>\n",
      "array([[[[[[247., ..., 261.],\n",
      "           ...,\n",
      "           [222., ..., 234.]]]]]], dtype=float32)\n",
      "Coordinates:\n",
      "  * member   (member) <U5 'data0'\n",
      "  * level    (level) int32 0\n",
      "  * time     (time) datetime64[ns] 2099-01-01\n",
      "  * dtime    (dtime) int32 0\n",
      "  * lat      (lat) float64 15.0 15.04 15.08 15.12 ... 54.88 54.92 54.96 55.0\n",
      "  * lon      (lon) float64 70.0 70.04 70.08 70.12 ... 139.9 139.9 140.0 140.0\n",
      "Attributes:\n",
      "    dtime_type:  hour\n"
     ]
    }
   ],
   "source": [
    "grd = meb.read_AWX_from_gds(ip,port,r\"SATELLITE/FY4A/L1/CHINA/C014/C014_20200301193836_FY4A.AWX\")\n",
    "print(grd)"
   ]
  },
  {
   "cell_type": "markdown",
   "metadata": {},
   "source": [
    "# 读取AWX云图数据¶\n",
    "read_griddata_from_AWX_file(filename,grid = None)\n",
    "从AWX格式文件中读取云图数据，将其内容放置在本程序库支持的包含6维网格的网格数据内。   \n",
    "（目前部分AWX格式文件解析仍有问题，功能待完善） \n",
    "  \n",
    "参数说明：  \n",
    " filename: 文件路径  \n",
    " grid: 格点的经纬度信息，默认为：None,如果有传入grid信息，需要使用双线性插值进行提取。  \n",
    " return: 网格数据类变量  \n",
    "\n",
    "调用示例  "
   ]
  },
  {
   "cell_type": "code",
   "execution_count": 17,
   "metadata": {},
   "outputs": [
    {
     "name": "stdout",
     "output_type": "stream",
     "text": [
      "<xarray.DataArray 'data0' (member: 1, level: 1, time: 1, dtime: 1, lat: 2001, lon: 3501)>\n",
      "array([[[[[[288.13, ..., 285.33],\n",
      "           ...,\n",
      "           [209.35, ..., 252.54]]]]]], dtype=float32)\n",
      "Coordinates:\n",
      "  * member   (member) <U5 'data0'\n",
      "  * level    (level) int32 0\n",
      "  * time     (time) datetime64[ns] 2099-01-01\n",
      "  * dtime    (dtime) int32 0\n",
      "  * lat      (lat) float64 15.0 15.02 15.04 15.06 ... 54.94 54.96 54.98 55.0\n",
      "  * lon      (lon) float64 70.0 70.02 70.04 70.06 ... 139.9 140.0 140.0 140.0\n",
      "Attributes:\n",
      "    dtime_type:  hour\n"
     ]
    }
   ],
   "source": [
    "grd = meb.read_griddata_from_AWX_file(r\"H:\\test_data\\input\\meb\\B13_20200229_2100_HMW8.AWX\")\n",
    "print(grd)"
   ]
  },
  {
   "cell_type": "markdown",
   "metadata": {},
   "source": [
    "### 从micaps11文件读取风场\n",
    "**read_gridwind_from_micap11(filename,grid = None)**  \n",
    "从micaps11类文件中读取风场，将其内容放置在本程序库支持的包含6维网格的网格数据内，u和v分量放在在member维度。  \n",
    "\n",
    "**参数说明：**  \n",
    " **filename**: 文件路径     \n",
    " **grid**:  格点的经纬度信息，默认为：None,如果有传入grid信息，需要使用双线性插值进行提取。  \n",
    " **return**: 网格数据类变量    \n",
    "\n",
    "\n",
    "**调用示例**"
   ]
  },
  {
   "cell_type": "code",
   "execution_count": 11,
   "metadata": {},
   "outputs": [
    {
     "name": "stdout",
     "output_type": "stream",
     "text": [
      "<xarray.DataArray 'wind' (member: 2, level: 1, time: 1, dtime: 1, lat: 281, lon: 361)>\n",
      "array([[[[[[ 7.32, ...,  0.6 ],\n",
      "           ...,\n",
      "           [-1.83, ..., -6.01]]]]],\n",
      "\n",
      "\n",
      "\n",
      "\n",
      "       [[[[[-9.29, ...,  2.68],\n",
      "           ...,\n",
      "           [-1.01, ...,  1.36]]]]]])\n",
      "Coordinates:\n",
      "  * member   (member) <U1 'u' 'v'\n",
      "  * level    (level) int32 0\n",
      "  * time     (time) datetime64[ns] 2099-01-01\n",
      "  * dtime    (dtime) int32 0\n",
      "  * lat      (lat) float64 -10.0 -9.75 -9.5 -9.25 -9.0 ... 59.25 59.5 59.75 60.0\n",
      "  * lon      (lon) float64 60.0 60.25 60.5 60.75 ... 149.2 149.5 149.8 150.0\n"
     ]
    }
   ],
   "source": [
    "grd = meb.read_gridwind_from_micaps11(r\"H:/test_data/input/meb/m11.024\")\n",
    "print(grd)"
   ]
  },
  {
   "cell_type": "markdown",
   "metadata": {},
   "source": [
    "# 从micaps2文件读取风场\n",
    "**read_gridwind_from_micap2(filename,grid = None)**  \n",
    "从micaps2类文件中读取风场，将其内容放置在本程序库支持的包含6维网格的网格数据内，u和v分量放在在member维度。  \n",
    "\n",
    "**参数说明：**  \n",
    " **filename**: 文件路径     \n",
    " **grid**:  格点的经纬度信息，默认为：None,如果有传入grid信息，需要使用双线性插值进行提取。  \n",
    " **return**: 网格数据类变量    \n",
    "\n",
    "\n",
    "**调用示例**"
   ]
  },
  {
   "cell_type": "code",
   "execution_count": 12,
   "metadata": {},
   "outputs": [
    {
     "name": "stdout",
     "output_type": "stream",
     "text": [
      "<xarray.DataArray 'wind' (member: 2, level: 1, time: 1, dtime: 1, lat: 141, lon: 181)>\n",
      "array([[[[[[ -8.249577, ...,  -0.669819],\n",
      "           ...,\n",
      "           [  8.437695, ..., -14.480957]]]]],\n",
      "\n",
      "\n",
      "\n",
      "\n",
      "       [[[[[  1.080219, ...,  -3.200663],\n",
      "           ...,\n",
      "           [ 14.109533, ..., -16.402324]]]]]])\n",
      "Coordinates:\n",
      "  * member   (member) <U1 'u' 'v'\n",
      "  * level    (level) int32 0\n",
      "  * time     (time) datetime64[ns] 2019-12-01\n",
      "  * dtime    (dtime) int32 0\n",
      "  * lat      (lat) float64 -10.0 -9.5 -9.0 -8.5 -8.0 ... 58.5 59.0 59.5 60.0\n",
      "  * lon      (lon) float64 60.0 60.5 61.0 61.5 62.0 ... 148.5 149.0 149.5 150.0\n"
     ]
    }
   ],
   "source": [
    "grd = meb.read_gridwind_from_micaps2(r\"H:/test_data/input/meb/m2.024\")\n",
    "print(grd)"
   ]
  },
  {
   "cell_type": "markdown",
   "metadata": {},
   "source": [
    "# 从GDS文件读取风场\n",
    "**read_gridwind_from_gds_file(filename,grid = None)**  \n",
    "从gds类文件中读取风场，将其内容放置在本程序库支持的包含6维网格的网格数据内，u和v分量放在在member维度。  \n",
    "\n",
    "**参数说明：**  \n",
    " **filename**: 文件路径     \n",
    " **grid**:  格点的经纬度信息，默认为：None,如果有传入grid信息，需要使用双线性插值进行提取。  \n",
    " **return**: 网格数据类变量    \n",
    "\n",
    "\n",
    "**调用示例**"
   ]
  },
  {
   "cell_type": "code",
   "execution_count": 13,
   "metadata": {},
   "outputs": [
    {
     "name": "stdout",
     "output_type": "stream",
     "text": [
      "<xarray.DataArray 'wind' (member: 2, level: 1, time: 1, dtime: 1, lat: 361, lon: 720)>\n",
      "array([[[[[[-0.644787, ..., -0.644787],\n",
      "           ...,\n",
      "           [ 5.955214, ...,  5.955214]]]]],\n",
      "\n",
      "\n",
      "\n",
      "\n",
      "       [[[[[ 3.969433, ...,  3.969433],\n",
      "           ...,\n",
      "           [-3.330564, ..., -3.330564]]]]]])\n",
      "Coordinates:\n",
      "  * member   (member) <U1 'u' 'v'\n",
      "  * level    (level) float64 850.0\n",
      "  * time     (time) datetime64[ns] 2020-01-05T08:00:00\n",
      "  * dtime    (dtime) int32 0\n",
      "  * lat      (lat) float64 -90.0 -89.5 -89.0 -88.5 -88.0 ... 88.5 89.0 89.5 90.0\n",
      "  * lon      (lon) float64 0.0 0.5 1.0 1.5 2.0 ... 357.5 358.0 358.5 359.0 359.5\n"
     ]
    }
   ],
   "source": [
    "grd = meb.read_gridwind_from_gds_file(r\"H:/test_data/input/meb/test_wind.gds\")\n",
    "print(grd)"
   ]
  },
  {
   "cell_type": "markdown",
   "metadata": {},
   "source": [
    "# 从GDS读取风场\n",
    "**read_gridwind_from_gds(ip,port,filename,grid = None)**  \n",
    "从gds中读取风场，将其内容放置在本程序库支持的包含6维网格的网格数据内，u和v分量放在在member维度。  \n",
    "\n",
    "**参数说明：**  \n",
    " **ip** : 服务器地址   \n",
    " **port**:服务器端口  \n",
    " **filename**: 数据在服务器中的文件路径     \n",
    " **grid**:  格点的经纬度信息，默认为：None,如果有传入grid信息，需要使用双线性插值进行提取。  \n",
    " **return**: 网格数据类变量  \n",
    "\n",
    "**调用示例**"
   ]
  },
  {
   "cell_type": "code",
   "execution_count": 14,
   "metadata": {},
   "outputs": [
    {
     "name": "stdout",
     "output_type": "stream",
     "text": [
      "None\n"
     ]
    }
   ],
   "source": [
    "grd = meb.io.read_gridwind_from_gds(ip,port,r\"ECMWF_HR/WIND/850/20022308.024\")\n",
    "print(grd)"
   ]
  },
  {
   "cell_type": "code",
   "execution_count": 15,
   "metadata": {},
   "outputs": [
    {
     "data": {
      "text/plain": [
       "9"
      ]
     },
     "execution_count": 15,
     "metadata": {},
     "output_type": "execute_result"
    }
   ],
   "source": [
    "str1 = \"ECMWF_HR/WIND/850/20022308.024\"\n",
    "str1.find(\"WIND\")"
   ]
  },
  {
   "cell_type": "code",
   "execution_count": null,
   "metadata": {},
   "outputs": [],
   "source": []
  }
 ],
 "metadata": {
  "kernelspec": {
   "display_name": "Python 3",
   "language": "python",
   "name": "python3"
  },
  "language_info": {
   "codemirror_mode": {
    "name": "ipython",
    "version": 3
   },
   "file_extension": ".py",
   "mimetype": "text/x-python",
   "name": "python",
   "nbconvert_exporter": "python",
   "pygments_lexer": "ipython3",
   "version": "3.7.1"
  }
 },
 "nbformat": 4,
 "nbformat_minor": 2
}
