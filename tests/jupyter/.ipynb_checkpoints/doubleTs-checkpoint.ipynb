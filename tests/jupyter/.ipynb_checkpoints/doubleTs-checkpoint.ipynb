{
 "cells": [
  {
   "cell_type": "code",
   "execution_count": 8,
   "metadata": {},
   "outputs": [],
   "source": [
    "%matplotlib inline\n",
    "%load_ext autoreload\n",
    "%autoreload 2\n",
    "import meteva.base as meb\n",
    "import meteva.method as mem\n",
    "import meteva.product as mep\n",
    "import numpy as np\n",
    "import matplotlib.pyplot as plt\n",
    "import datetime\n",
    "from matplotlib import cm"
   ]
  },
  {
   "cell_type": "code",
   "execution_count": 2,
   "metadata": {},
   "outputs": [],
   "source": [
    "station = meb.read_station(r\"H:\\task\\paper\\word\\w14-DTS\\data\\ec\\190102\\BT19010208.024\")\n",
    "station[\"data0\"] = meb.IV"
   ]
  },
  {
   "cell_type": "code",
   "execution_count": 3,
   "metadata": {},
   "outputs": [
    {
     "name": "stdout",
     "output_type": "stream",
     "text": [
      "        level                time  dtime     id     lon    lat        ob\n",
      "0           0 2019-01-01 08:00:00      0  56790  104.25  25.68       0.0\n",
      "1           0 2019-01-01 08:00:00      0  51369   87.65  43.97       0.0\n",
      "2           0 2019-01-01 08:00:00      0  56097  104.25  33.27       0.0\n",
      "3           0 2019-01-01 08:00:00      0  57413  106.97  30.85       0.0\n",
      "4           0 2019-01-01 08:00:00      0  54871  122.48  36.93       0.0\n",
      "...       ...                 ...    ...    ...     ...    ...       ...\n",
      "877366      0 2019-12-31 08:00:00      0  53768  111.75  37.15       0.0\n",
      "877367      0 2019-12-31 08:00:00      0  58645  119.49  28.46       2.1\n",
      "877368      0 2019-12-31 08:00:00      0  58444  120.29  30.42       0.1\n",
      "877369      0 2019-12-31 08:00:00      0  58755  120.39  27.50       3.8\n",
      "877370      0 2019-12-31 08:00:00      0  48520   99.08  10.32  999999.0\n",
      "\n",
      "[877371 rows x 7 columns]\n"
     ]
    }
   ],
   "source": [
    "dir_ob = r\"H:\\task\\paper\\word\\w14-DTS\\data\\ob\\YYMMDDHH.000\"\n",
    "time0 = datetime.datetime(2019,1,1,8,0)\n",
    "time_end = datetime.datetime(2020,1,1,8,0)\n",
    "ob_sta_all = None\n",
    "while time0 < time_end:\n",
    "    path = meb.get_path(dir_ob,time0)\n",
    "    sta = meb.read_stadata_from_micaps3(path,station = station,time = time0,dtime = 0,level = 0,data_name = \"ob\")\n",
    "    ob_sta_all = meb.combine_join(ob_sta_all,sta)\n",
    "    time0 += datetime.timedelta(hours = 24)\n",
    "print(ob_sta_all)"
   ]
  },
  {
   "cell_type": "code",
   "execution_count": 219,
   "metadata": {},
   "outputs": [
    {
     "name": "stdout",
     "output_type": "stream",
     "text": [
      "        level                time  dtime     id     lon    lat  ecmwf\n",
      "0           0 2019-01-02 20:00:00     36  56790  104.25  25.68   0.00\n",
      "1           0 2019-01-02 20:00:00     36  51369   87.65  43.97   0.06\n",
      "2           0 2019-01-02 20:00:00     36  56097  104.25  33.27   0.31\n",
      "3           0 2019-01-02 20:00:00     36  57413  106.97  30.85   0.06\n",
      "4           0 2019-01-02 20:00:00     36  54871  122.48  36.93   0.00\n",
      "...       ...                 ...    ...    ...     ...    ...    ...\n",
      "877366      0 2019-12-30 20:00:00     36  53768  111.75  37.15   0.00\n",
      "877367      0 2019-12-30 20:00:00     36  58645  119.49  28.46   0.06\n",
      "877368      0 2019-12-30 20:00:00     36  58444  120.29  30.42   0.00\n",
      "877369      0 2019-12-30 20:00:00     36  58755  120.39  27.50   0.19\n",
      "877370      0 2019-12-30 20:00:00     36  48520   99.08  10.32   4.31\n",
      "\n",
      "[877371 rows x 7 columns]\n"
     ]
    }
   ],
   "source": [
    "ec_sta_all = None\n",
    "time0 =  datetime.datetime(2019,1,1,20,0)\n",
    "time_end = datetime.datetime(2020,1,1,8,0)\n",
    "dir_ec = r\"H:\\task\\paper\\word\\w14-DTS\\data\\ec\\YYMMDD\\BTYYMMDDHH.TTT\"\n",
    "while time0 < time_end:\n",
    "    for dh in range(36,37,12):\n",
    "        #读取ec预报数据\n",
    "        path = meb.get_path(dir_ec,time0,dh)\n",
    "        sta = meb.read_stadata_from_micaps3(path,station = station)\n",
    "        if sta is not None:\n",
    "            meb.set_stadata_coords(sta,time = time0,dtime = dh,level = 0)\n",
    "            meb.set_stadata_names(sta,[\"ecmwf\"])\n",
    "            ec_sta_all = meb.combine_join(ec_sta_all,sta)\n",
    "        \n",
    "    time0 += datetime.timedelta(hours = 24)\n",
    "print(ec_sta_all)"
   ]
  },
  {
   "cell_type": "code",
   "execution_count": 220,
   "metadata": {},
   "outputs": [
    {
     "name": "stdout",
     "output_type": "stream",
     "text": [
      "        level                time  dtime     id     lon    lat   ob  ecmwf\n",
      "0           0 2019-01-02 20:00:00     36  56790  104.25  25.68  0.0   0.00\n",
      "1           0 2019-01-02 20:00:00     36  51369   87.65  43.97  0.0   0.06\n",
      "2           0 2019-01-02 20:00:00     36  56097  104.25  33.27  0.0   0.31\n",
      "3           0 2019-01-02 20:00:00     36  57413  106.97  30.85  0.0   0.06\n",
      "4           0 2019-01-02 20:00:00     36  54871  122.48  36.93  0.0   0.00\n",
      "...       ...                 ...    ...    ...     ...    ...  ...    ...\n",
      "870114      0 2019-12-29 20:00:00     36  53753  110.88  37.43  0.0   0.00\n",
      "870115      0 2019-12-29 20:00:00     36  53768  111.75  37.15  0.0   0.00\n",
      "870116      0 2019-12-29 20:00:00     36  58645  119.49  28.46  2.1   5.25\n",
      "870117      0 2019-12-29 20:00:00     36  58444  120.29  30.42  0.1   0.00\n",
      "870118      0 2019-12-29 20:00:00     36  58755  120.39  27.50  3.8   1.25\n",
      "\n",
      "[866082 rows x 8 columns]\n"
     ]
    }
   ],
   "source": [
    "sta_all = meb.combine_on_obTime(ob_sta_all,[ec_sta_all])\n",
    "sta_all = meb.not_IV(sta_all)\n",
    "sta_all = meb.between_value_range(sta_all,0,500)\n",
    "print(sta_all)"
   ]
  },
  {
   "cell_type": "code",
   "execution_count": 256,
   "metadata": {},
   "outputs": [
    {
     "name": "stdout",
     "output_type": "stream",
     "text": [
      "379.5\n",
      "318.75\n"
     ]
    },
    {
     "data": {
      "text/plain": [
       "[<matplotlib.lines.Line2D at 0x19299c50>]"
      ]
     },
     "execution_count": 256,
     "metadata": {},
     "output_type": "execute_result"
    },
    {
     "data": {
      "image/png": "[encoded data removed]",
      "text/plain": [
       "<Figure size 432x288 with 1 Axes>"
      ]
     },
     "metadata": {
      "needs_background": "light"
     },
     "output_type": "display_data"
    }
   ],
   "source": [
    "#构建频率匹配的数据\n",
    "nsta = len(sta_all.index)\n",
    "ob0 = np.zeros(nsta)\n",
    "ob0[:] = sta_all[\"ob\"].values[:]\n",
    "fo0 = np.zeros(nsta)\n",
    "fo0[:] = sta_all[\"ecmwf\"].values[:]\n",
    "max_ob = np.max(ob0)\n",
    "max_fo = np.max(fo0)\n",
    "print(max_ob)\n",
    "print(max_fo)\n",
    "ob0.sort()\n",
    "fo0.sort()\n",
    "fo_grades = np.arange(0,max_fo,0.1)\n",
    "ob_grades = np.zeros(fo_grades.size)\n",
    "for i in range(fo_grades.size):\n",
    "    grade = fo_grades[i]\n",
    "    indexf = (fo0 >grade).argmax(axis=0)\n",
    "    ob_grades[i] = ob0[indexf]\n",
    "\n",
    "plt.plot(fo_grades,ob_grades)"
   ]
  },
  {
   "cell_type": "code",
   "execution_count": 259,
   "metadata": {},
   "outputs": [
    {
     "data": {
      "text/plain": [
       "[<matplotlib.lines.Line2D at 0xf970710>]"
      ]
     },
     "execution_count": 259,
     "metadata": {},
     "output_type": "execute_result"
    },
    {
     "data": {
      "image/png": "[encoded data removed]",
      "text/plain": [
       "<Figure size 432x288 with 1 Axes>"
      ]
     },
     "metadata": {
      "needs_background": "light"
     },
     "output_type": "display_data"
    }
   ],
   "source": [
    "plt.plot(fo_grades[0:20],ob_grades[0:20])"
   ]
  },
  {
   "cell_type": "code",
   "execution_count": 258,
   "metadata": {},
   "outputs": [
    {
     "name": "stdout",
     "output_type": "stream",
     "text": [
      "Create [H:\\task\\paper\\word\\w14-DTS\\data\\ec_pdf\\190102\\BT19010220.036] success\n",
      "H:\\task\\paper\\word\\w14-DTS\\data\\ec\\190102\\BT19010220.036\n",
      "Create [H:\\task\\paper\\word\\w14-DTS\\data\\ec_pdf\\190103\\BT19010320.036] success\n",
      "H:\\task\\paper\\word\\w14-DTS\\data\\ec\\190103\\BT19010320.036\n",
      "Create [H:\\task\\paper\\word\\w14-DTS\\data\\ec_pdf\\190104\\BT19010420.036] success\n",
      "H:\\task\\paper\\word\\w14-DTS\\data\\ec\\190104\\BT19010420.036\n",
      "Create [H:\\task\\paper\\word\\w14-DTS\\data\\ec_pdf\\190105\\BT19010520.036] success\n",
      "H:\\task\\paper\\word\\w14-DTS\\data\\ec\\190105\\BT19010520.036\n",
      "Create [H:\\task\\paper\\word\\w14-DTS\\data\\ec_pdf\\190106\\BT19010620.036] success\n",
      "H:\\task\\paper\\word\\w14-DTS\\data\\ec\\190106\\BT19010620.036\n",
      "Create [H:\\task\\paper\\word\\w14-DTS\\data\\ec_pdf\\190107\\BT19010720.036] success\n",
      "H:\\task\\paper\\word\\w14-DTS\\data\\ec\\190107\\BT19010720.036\n",
      "Create [H:\\task\\paper\\word\\w14-DTS\\data\\ec_pdf\\190108\\BT19010820.036] success\n",
      "H:\\task\\paper\\word\\w14-DTS\\data\\ec\\190108\\BT19010820.036\n",
      "Create [H:\\task\\paper\\word\\w14-DTS\\data\\ec_pdf\\190109\\BT19010920.036] success\n",
      "H:\\task\\paper\\word\\w14-DTS\\data\\ec\\190109\\BT19010920.036\n",
      "Create [H:\\task\\paper\\word\\w14-DTS\\data\\ec_pdf\\190110\\BT19011020.036] success\n",
      "H:\\task\\paper\\word\\w14-DTS\\data\\ec\\190110\\BT19011020.036\n",
      "Create [H:\\task\\paper\\word\\w14-DTS\\data\\ec_pdf\\190111\\BT19011120.036] success\n",
      "H:\\task\\paper\\word\\w14-DTS\\data\\ec\\190111\\BT19011120.036\n",
      "Create [H:\\task\\paper\\word\\w14-DTS\\data\\ec_pdf\\190112\\BT19011220.036] success\n",
      "H:\\task\\paper\\word\\w14-DTS\\data\\ec\\190112\\BT19011220.036\n",
      "Create [H:\\task\\paper\\word\\w14-DTS\\data\\ec_pdf\\190113\\BT19011320.036] success\n",
      "H:\\task\\paper\\word\\w14-DTS\\data\\ec\\190113\\BT19011320.036\n",
      "Create [H:\\task\\paper\\word\\w14-DTS\\data\\ec_pdf\\190114\\BT19011420.036] success\n",
      "H:\\task\\paper\\word\\w14-DTS\\data\\ec\\190114\\BT19011420.036\n",
      "Create [H:\\task\\paper\\word\\w14-DTS\\data\\ec_pdf\\190115\\BT19011520.036] success\n",
      "H:\\task\\paper\\word\\w14-DTS\\data\\ec\\190115\\BT19011520.036\n",
      "Create [H:\\task\\paper\\word\\w14-DTS\\data\\ec_pdf\\190116\\BT19011620.036] success\n",
      "H:\\task\\paper\\word\\w14-DTS\\data\\ec\\190116\\BT19011620.036\n",
      "Create [H:\\task\\paper\\word\\w14-DTS\\data\\ec_pdf\\190117\\BT19011720.036] success\n",
      "H:\\task\\paper\\word\\w14-DTS\\data\\ec\\190117\\BT19011720.036\n",
      "Create [H:\\task\\paper\\word\\w14-DTS\\data\\ec_pdf\\190118\\BT19011820.036] success\n",
      "H:\\task\\paper\\word\\w14-DTS\\data\\ec\\190118\\BT19011820.036\n",
      "Create [H:\\task\\paper\\word\\w14-DTS\\data\\ec_pdf\\190119\\BT19011920.036] success\n",
      "H:\\task\\paper\\word\\w14-DTS\\data\\ec\\190119\\BT19011920.036\n",
      "Create [H:\\task\\paper\\word\\w14-DTS\\data\\ec_pdf\\190120\\BT19012020.036] success\n",
      "H:\\task\\paper\\word\\w14-DTS\\data\\ec\\190120\\BT19012020.036\n",
      "Create [H:\\task\\paper\\word\\w14-DTS\\data\\ec_pdf\\190121\\BT19012120.036] success\n",
      "H:\\task\\paper\\word\\w14-DTS\\data\\ec\\190121\\BT19012120.036\n",
      "Create [H:\\task\\paper\\word\\w14-DTS\\data\\ec_pdf\\190122\\BT19012220.036] success\n",
      "H:\\task\\paper\\word\\w14-DTS\\data\\ec\\190122\\BT19012220.036\n",
      "Create [H:\\task\\paper\\word\\w14-DTS\\data\\ec_pdf\\190123\\BT19012320.036] success\n",
      "H:\\task\\paper\\word\\w14-DTS\\data\\ec\\190123\\BT19012320.036\n",
      "Create [H:\\task\\paper\\word\\w14-DTS\\data\\ec_pdf\\190124\\BT19012420.036] success\n",
      "H:\\task\\paper\\word\\w14-DTS\\data\\ec\\190124\\BT19012420.036\n",
      "Create [H:\\task\\paper\\word\\w14-DTS\\data\\ec_pdf\\190125\\BT19012520.036] success\n",
      "H:\\task\\paper\\word\\w14-DTS\\data\\ec\\190125\\BT19012520.036\n",
      "Create [H:\\task\\paper\\word\\w14-DTS\\data\\ec_pdf\\190126\\BT19012620.036] success\n",
      "H:\\task\\paper\\word\\w14-DTS\\data\\ec\\190126\\BT19012620.036\n",
      "Create [H:\\task\\paper\\word\\w14-DTS\\data\\ec_pdf\\190127\\BT19012720.036] success\n",
      "H:\\task\\paper\\word\\w14-DTS\\data\\ec\\190127\\BT19012720.036\n",
      "Create [H:\\task\\paper\\word\\w14-DTS\\data\\ec_pdf\\190128\\BT19012820.036] success\n",
      "H:\\task\\paper\\word\\w14-DTS\\data\\ec\\190128\\BT19012820.036\n",
      "Create [H:\\task\\paper\\word\\w14-DTS\\data\\ec_pdf\\190129\\BT19012920.036] success\n",
      "H:\\task\\paper\\word\\w14-DTS\\data\\ec\\190129\\BT19012920.036\n",
      "Create [H:\\task\\paper\\word\\w14-DTS\\data\\ec_pdf\\190130\\BT19013020.036] success\n",
      "H:\\task\\paper\\word\\w14-DTS\\data\\ec\\190130\\BT19013020.036\n",
      "Create [H:\\task\\paper\\word\\w14-DTS\\data\\ec_pdf\\190131\\BT19013120.036] success\n",
      "H:\\task\\paper\\word\\w14-DTS\\data\\ec\\190131\\BT19013120.036\n",
      "Create [H:\\task\\paper\\word\\w14-DTS\\data\\ec_pdf\\190201\\BT19020120.036] success\n",
      "H:\\task\\paper\\word\\w14-DTS\\data\\ec\\190201\\BT19020120.036\n",
      "Create [H:\\task\\paper\\word\\w14-DTS\\data\\ec_pdf\\190202\\BT19020220.036] success\n",
      "H:\\task\\paper\\word\\w14-DTS\\data\\ec\\190202\\BT19020220.036\n",
      "Create [H:\\task\\paper\\word\\w14-DTS\\data\\ec_pdf\\190203\\BT19020320.036] success\n",
      "H:\\task\\paper\\word\\w14-DTS\\data\\ec\\190203\\BT19020320.036\n",
      "Create [H:\\task\\paper\\word\\w14-DTS\\data\\ec_pdf\\190204\\BT19020420.036] success\n",
      "H:\\task\\paper\\word\\w14-DTS\\data\\ec\\190204\\BT19020420.036\n",
      "Create [H:\\task\\paper\\word\\w14-DTS\\data\\ec_pdf\\190205\\BT19020520.036] success\n",
      "H:\\task\\paper\\word\\w14-DTS\\data\\ec\\190205\\BT19020520.036\n",
      "Create [H:\\task\\paper\\word\\w14-DTS\\data\\ec_pdf\\190206\\BT19020620.036] success\n",
      "H:\\task\\paper\\word\\w14-DTS\\data\\ec\\190206\\BT19020620.036\n",
      "Create [H:\\task\\paper\\word\\w14-DTS\\data\\ec_pdf\\190207\\BT19020720.036] success\n",
      "H:\\task\\paper\\word\\w14-DTS\\data\\ec\\190207\\BT19020720.036\n",
      "Create [H:\\task\\paper\\word\\w14-DTS\\data\\ec_pdf\\190208\\BT19020820.036] success\n",
      "H:\\task\\paper\\word\\w14-DTS\\data\\ec\\190208\\BT19020820.036\n",
      "Create [H:\\task\\paper\\word\\w14-DTS\\data\\ec_pdf\\190209\\BT19020920.036] success\n",
      "H:\\task\\paper\\word\\w14-DTS\\data\\ec\\190209\\BT19020920.036\n",
      "Create [H:\\task\\paper\\word\\w14-DTS\\data\\ec_pdf\\190210\\BT19021020.036] success\n",
      "H:\\task\\paper\\word\\w14-DTS\\data\\ec\\190210\\BT19021020.036\n",
      "Create [H:\\task\\paper\\word\\w14-DTS\\data\\ec_pdf\\190211\\BT19021120.036] success\n",
      "H:\\task\\paper\\word\\w14-DTS\\data\\ec\\190211\\BT19021120.036\n",
      "Create [H:\\task\\paper\\word\\w14-DTS\\data\\ec_pdf\\190212\\BT19021220.036] success\n",
      "H:\\task\\paper\\word\\w14-DTS\\data\\ec\\190212\\BT19021220.036\n",
      "Create [H:\\task\\paper\\word\\w14-DTS\\data\\ec_pdf\\190213\\BT19021320.036] success\n",
      "H:\\task\\paper\\word\\w14-DTS\\data\\ec\\190213\\BT19021320.036\n",
      "Create [H:\\task\\paper\\word\\w14-DTS\\data\\ec_pdf\\190214\\BT19021420.036] success\n",
      "H:\\task\\paper\\word\\w14-DTS\\data\\ec\\190214\\BT19021420.036\n",
      "Create [H:\\task\\paper\\word\\w14-DTS\\data\\ec_pdf\\190215\\BT19021520.036] success\n",
      "H:\\task\\paper\\word\\w14-DTS\\data\\ec\\190215\\BT19021520.036\n",
      "Create [H:\\task\\paper\\word\\w14-DTS\\data\\ec_pdf\\190216\\BT19021620.036] success\n",
      "H:\\task\\paper\\word\\w14-DTS\\data\\ec\\190216\\BT19021620.036\n",
      "Create [H:\\task\\paper\\word\\w14-DTS\\data\\ec_pdf\\190217\\BT19021720.036] success\n",
      "H:\\task\\paper\\word\\w14-DTS\\data\\ec\\190217\\BT19021720.036\n",
      "Create [H:\\task\\paper\\word\\w14-DTS\\data\\ec_pdf\\190218\\BT19021820.036] success\n",
      "H:\\task\\paper\\word\\w14-DTS\\data\\ec\\190218\\BT19021820.036\n",
      "Create [H:\\task\\paper\\word\\w14-DTS\\data\\ec_pdf\\190219\\BT19021920.036] success\n",
      "H:\\task\\paper\\word\\w14-DTS\\data\\ec\\190219\\BT19021920.036\n",
      "Create [H:\\task\\paper\\word\\w14-DTS\\data\\ec_pdf\\190220\\BT19022020.036] success\n",
      "H:\\task\\paper\\word\\w14-DTS\\data\\ec\\190220\\BT19022020.036\n",
      "Create [H:\\task\\paper\\word\\w14-DTS\\data\\ec_pdf\\190221\\BT19022120.036] success\n",
      "H:\\task\\paper\\word\\w14-DTS\\data\\ec\\190221\\BT19022120.036\n",
      "Create [H:\\task\\paper\\word\\w14-DTS\\data\\ec_pdf\\190222\\BT19022220.036] success\n",
      "H:\\task\\paper\\word\\w14-DTS\\data\\ec\\190222\\BT19022220.036\n",
      "Create [H:\\task\\paper\\word\\w14-DTS\\data\\ec_pdf\\190223\\BT19022320.036] success\n",
      "H:\\task\\paper\\word\\w14-DTS\\data\\ec\\190223\\BT19022320.036\n",
      "Create [H:\\task\\paper\\word\\w14-DTS\\data\\ec_pdf\\190224\\BT19022420.036] success\n",
      "H:\\task\\paper\\word\\w14-DTS\\data\\ec\\190224\\BT19022420.036\n",
      "Create [H:\\task\\paper\\word\\w14-DTS\\data\\ec_pdf\\190225\\BT19022520.036] success\n",
      "H:\\task\\paper\\word\\w14-DTS\\data\\ec\\190225\\BT19022520.036\n",
      "Create [H:\\task\\paper\\word\\w14-DTS\\data\\ec_pdf\\190226\\BT19022620.036] success\n",
      "H:\\task\\paper\\word\\w14-DTS\\data\\ec\\190226\\BT19022620.036\n",
      "Create [H:\\task\\paper\\word\\w14-DTS\\data\\ec_pdf\\190227\\BT19022720.036] success\n",
      "H:\\task\\paper\\word\\w14-DTS\\data\\ec\\190227\\BT19022720.036\n",
      "Create [H:\\task\\paper\\word\\w14-DTS\\data\\ec_pdf\\190228\\BT19022820.036] success\n",
      "H:\\task\\paper\\word\\w14-DTS\\data\\ec\\190228\\BT19022820.036\n",
      "Create [H:\\task\\paper\\word\\w14-DTS\\data\\ec_pdf\\190301\\BT19030120.036] success\n",
      "H:\\task\\paper\\word\\w14-DTS\\data\\ec\\190301\\BT19030120.036\n",
      "Create [H:\\task\\paper\\word\\w14-DTS\\data\\ec_pdf\\190302\\BT19030220.036] success\n",
      "H:\\task\\paper\\word\\w14-DTS\\data\\ec\\190302\\BT19030220.036\n",
      "Create [H:\\task\\paper\\word\\w14-DTS\\data\\ec_pdf\\190303\\BT19030320.036] success\n",
      "H:\\task\\paper\\word\\w14-DTS\\data\\ec\\190303\\BT19030320.036\n"
     ]
    },
    {
     "name": "stdout",
     "output_type": "stream",
     "text": [
      "Create [H:\\task\\paper\\word\\w14-DTS\\data\\ec_pdf\\190304\\BT19030420.036] success\n",
      "H:\\task\\paper\\word\\w14-DTS\\data\\ec\\190304\\BT19030420.036\n",
      "Create [H:\\task\\paper\\word\\w14-DTS\\data\\ec_pdf\\190305\\BT19030520.036] success\n",
      "H:\\task\\paper\\word\\w14-DTS\\data\\ec\\190305\\BT19030520.036\n",
      "Create [H:\\task\\paper\\word\\w14-DTS\\data\\ec_pdf\\190306\\BT19030620.036] success\n",
      "H:\\task\\paper\\word\\w14-DTS\\data\\ec\\190306\\BT19030620.036\n",
      "Create [H:\\task\\paper\\word\\w14-DTS\\data\\ec_pdf\\190307\\BT19030720.036] success\n",
      "H:\\task\\paper\\word\\w14-DTS\\data\\ec\\190307\\BT19030720.036\n",
      "Create [H:\\task\\paper\\word\\w14-DTS\\data\\ec_pdf\\190308\\BT19030820.036] success\n",
      "H:\\task\\paper\\word\\w14-DTS\\data\\ec\\190308\\BT19030820.036\n",
      "Create [H:\\task\\paper\\word\\w14-DTS\\data\\ec_pdf\\190309\\BT19030920.036] success\n",
      "H:\\task\\paper\\word\\w14-DTS\\data\\ec\\190309\\BT19030920.036\n",
      "Create [H:\\task\\paper\\word\\w14-DTS\\data\\ec_pdf\\190310\\BT19031020.036] success\n",
      "H:\\task\\paper\\word\\w14-DTS\\data\\ec\\190310\\BT19031020.036\n",
      "Create [H:\\task\\paper\\word\\w14-DTS\\data\\ec_pdf\\190311\\BT19031120.036] success\n",
      "H:\\task\\paper\\word\\w14-DTS\\data\\ec\\190311\\BT19031120.036\n",
      "Create [H:\\task\\paper\\word\\w14-DTS\\data\\ec_pdf\\190312\\BT19031220.036] success\n",
      "H:\\task\\paper\\word\\w14-DTS\\data\\ec\\190312\\BT19031220.036\n",
      "Create [H:\\task\\paper\\word\\w14-DTS\\data\\ec_pdf\\190313\\BT19031320.036] success\n",
      "H:\\task\\paper\\word\\w14-DTS\\data\\ec\\190313\\BT19031320.036\n",
      "Create [H:\\task\\paper\\word\\w14-DTS\\data\\ec_pdf\\190314\\BT19031420.036] success\n",
      "H:\\task\\paper\\word\\w14-DTS\\data\\ec\\190314\\BT19031420.036\n",
      "Create [H:\\task\\paper\\word\\w14-DTS\\data\\ec_pdf\\190315\\BT19031520.036] success\n",
      "H:\\task\\paper\\word\\w14-DTS\\data\\ec\\190315\\BT19031520.036\n",
      "Create [H:\\task\\paper\\word\\w14-DTS\\data\\ec_pdf\\190316\\BT19031620.036] success\n",
      "H:\\task\\paper\\word\\w14-DTS\\data\\ec\\190316\\BT19031620.036\n",
      "Create [H:\\task\\paper\\word\\w14-DTS\\data\\ec_pdf\\190317\\BT19031720.036] success\n",
      "H:\\task\\paper\\word\\w14-DTS\\data\\ec\\190317\\BT19031720.036\n",
      "Create [H:\\task\\paper\\word\\w14-DTS\\data\\ec_pdf\\190318\\BT19031820.036] success\n",
      "H:\\task\\paper\\word\\w14-DTS\\data\\ec\\190318\\BT19031820.036\n",
      "Create [H:\\task\\paper\\word\\w14-DTS\\data\\ec_pdf\\190319\\BT19031920.036] success\n",
      "H:\\task\\paper\\word\\w14-DTS\\data\\ec\\190319\\BT19031920.036\n",
      "Create [H:\\task\\paper\\word\\w14-DTS\\data\\ec_pdf\\190320\\BT19032020.036] success\n",
      "H:\\task\\paper\\word\\w14-DTS\\data\\ec\\190320\\BT19032020.036\n",
      "Create [H:\\task\\paper\\word\\w14-DTS\\data\\ec_pdf\\190321\\BT19032120.036] success\n",
      "H:\\task\\paper\\word\\w14-DTS\\data\\ec\\190321\\BT19032120.036\n",
      "Create [H:\\task\\paper\\word\\w14-DTS\\data\\ec_pdf\\190322\\BT19032220.036] success\n",
      "H:\\task\\paper\\word\\w14-DTS\\data\\ec\\190322\\BT19032220.036\n",
      "Create [H:\\task\\paper\\word\\w14-DTS\\data\\ec_pdf\\190323\\BT19032320.036] success\n",
      "H:\\task\\paper\\word\\w14-DTS\\data\\ec\\190323\\BT19032320.036\n",
      "Create [H:\\task\\paper\\word\\w14-DTS\\data\\ec_pdf\\190324\\BT19032420.036] success\n",
      "H:\\task\\paper\\word\\w14-DTS\\data\\ec\\190324\\BT19032420.036\n",
      "Create [H:\\task\\paper\\word\\w14-DTS\\data\\ec_pdf\\190325\\BT19032520.036] success\n",
      "H:\\task\\paper\\word\\w14-DTS\\data\\ec\\190325\\BT19032520.036\n",
      "Create [H:\\task\\paper\\word\\w14-DTS\\data\\ec_pdf\\190326\\BT19032620.036] success\n",
      "H:\\task\\paper\\word\\w14-DTS\\data\\ec\\190326\\BT19032620.036\n",
      "Create [H:\\task\\paper\\word\\w14-DTS\\data\\ec_pdf\\190327\\BT19032720.036] success\n",
      "H:\\task\\paper\\word\\w14-DTS\\data\\ec\\190327\\BT19032720.036\n",
      "Create [H:\\task\\paper\\word\\w14-DTS\\data\\ec_pdf\\190328\\BT19032820.036] success\n",
      "H:\\task\\paper\\word\\w14-DTS\\data\\ec\\190328\\BT19032820.036\n",
      "Create [H:\\task\\paper\\word\\w14-DTS\\data\\ec_pdf\\190329\\BT19032920.036] success\n",
      "H:\\task\\paper\\word\\w14-DTS\\data\\ec\\190329\\BT19032920.036\n",
      "Create [H:\\task\\paper\\word\\w14-DTS\\data\\ec_pdf\\190330\\BT19033020.036] success\n",
      "H:\\task\\paper\\word\\w14-DTS\\data\\ec\\190330\\BT19033020.036\n",
      "Create [H:\\task\\paper\\word\\w14-DTS\\data\\ec_pdf\\190331\\BT19033120.036] success\n",
      "H:\\task\\paper\\word\\w14-DTS\\data\\ec\\190331\\BT19033120.036\n",
      "Create [H:\\task\\paper\\word\\w14-DTS\\data\\ec_pdf\\190401\\BT19040120.036] success\n",
      "H:\\task\\paper\\word\\w14-DTS\\data\\ec\\190401\\BT19040120.036\n",
      "Create [H:\\task\\paper\\word\\w14-DTS\\data\\ec_pdf\\190402\\BT19040220.036] success\n",
      "H:\\task\\paper\\word\\w14-DTS\\data\\ec\\190402\\BT19040220.036\n",
      "Create [H:\\task\\paper\\word\\w14-DTS\\data\\ec_pdf\\190403\\BT19040320.036] success\n",
      "H:\\task\\paper\\word\\w14-DTS\\data\\ec\\190403\\BT19040320.036\n",
      "Create [H:\\task\\paper\\word\\w14-DTS\\data\\ec_pdf\\190404\\BT19040420.036] success\n",
      "H:\\task\\paper\\word\\w14-DTS\\data\\ec\\190404\\BT19040420.036\n",
      "Create [H:\\task\\paper\\word\\w14-DTS\\data\\ec_pdf\\190405\\BT19040520.036] success\n",
      "H:\\task\\paper\\word\\w14-DTS\\data\\ec\\190405\\BT19040520.036\n",
      "Create [H:\\task\\paper\\word\\w14-DTS\\data\\ec_pdf\\190406\\BT19040620.036] success\n",
      "H:\\task\\paper\\word\\w14-DTS\\data\\ec\\190406\\BT19040620.036\n",
      "Create [H:\\task\\paper\\word\\w14-DTS\\data\\ec_pdf\\190407\\BT19040720.036] success\n",
      "H:\\task\\paper\\word\\w14-DTS\\data\\ec\\190407\\BT19040720.036\n",
      "Create [H:\\task\\paper\\word\\w14-DTS\\data\\ec_pdf\\190408\\BT19040820.036] success\n",
      "H:\\task\\paper\\word\\w14-DTS\\data\\ec\\190408\\BT19040820.036\n",
      "Create [H:\\task\\paper\\word\\w14-DTS\\data\\ec_pdf\\190409\\BT19040920.036] success\n",
      "H:\\task\\paper\\word\\w14-DTS\\data\\ec\\190409\\BT19040920.036\n",
      "Create [H:\\task\\paper\\word\\w14-DTS\\data\\ec_pdf\\190410\\BT19041020.036] success\n",
      "H:\\task\\paper\\word\\w14-DTS\\data\\ec\\190410\\BT19041020.036\n",
      "Create [H:\\task\\paper\\word\\w14-DTS\\data\\ec_pdf\\190411\\BT19041120.036] success\n",
      "H:\\task\\paper\\word\\w14-DTS\\data\\ec\\190411\\BT19041120.036\n",
      "Create [H:\\task\\paper\\word\\w14-DTS\\data\\ec_pdf\\190412\\BT19041220.036] success\n",
      "H:\\task\\paper\\word\\w14-DTS\\data\\ec\\190412\\BT19041220.036\n",
      "Create [H:\\task\\paper\\word\\w14-DTS\\data\\ec_pdf\\190413\\BT19041320.036] success\n",
      "H:\\task\\paper\\word\\w14-DTS\\data\\ec\\190413\\BT19041320.036\n",
      "Create [H:\\task\\paper\\word\\w14-DTS\\data\\ec_pdf\\190414\\BT19041420.036] success\n",
      "H:\\task\\paper\\word\\w14-DTS\\data\\ec\\190414\\BT19041420.036\n",
      "Create [H:\\task\\paper\\word\\w14-DTS\\data\\ec_pdf\\190415\\BT19041520.036] success\n",
      "H:\\task\\paper\\word\\w14-DTS\\data\\ec\\190415\\BT19041520.036\n",
      "Create [H:\\task\\paper\\word\\w14-DTS\\data\\ec_pdf\\190416\\BT19041620.036] success\n",
      "H:\\task\\paper\\word\\w14-DTS\\data\\ec\\190416\\BT19041620.036\n",
      "Create [H:\\task\\paper\\word\\w14-DTS\\data\\ec_pdf\\190417\\BT19041720.036] success\n",
      "H:\\task\\paper\\word\\w14-DTS\\data\\ec\\190417\\BT19041720.036\n",
      "Create [H:\\task\\paper\\word\\w14-DTS\\data\\ec_pdf\\190418\\BT19041820.036] success\n",
      "H:\\task\\paper\\word\\w14-DTS\\data\\ec\\190418\\BT19041820.036\n",
      "Create [H:\\task\\paper\\word\\w14-DTS\\data\\ec_pdf\\190419\\BT19041920.036] success\n",
      "H:\\task\\paper\\word\\w14-DTS\\data\\ec\\190419\\BT19041920.036\n",
      "Create [H:\\task\\paper\\word\\w14-DTS\\data\\ec_pdf\\190420\\BT19042020.036] success\n",
      "H:\\task\\paper\\word\\w14-DTS\\data\\ec\\190420\\BT19042020.036\n",
      "Create [H:\\task\\paper\\word\\w14-DTS\\data\\ec_pdf\\190421\\BT19042120.036] success\n",
      "H:\\task\\paper\\word\\w14-DTS\\data\\ec\\190421\\BT19042120.036\n",
      "Create [H:\\task\\paper\\word\\w14-DTS\\data\\ec_pdf\\190422\\BT19042220.036] success\n",
      "H:\\task\\paper\\word\\w14-DTS\\data\\ec\\190422\\BT19042220.036\n",
      "Create [H:\\task\\paper\\word\\w14-DTS\\data\\ec_pdf\\190423\\BT19042320.036] success\n",
      "H:\\task\\paper\\word\\w14-DTS\\data\\ec\\190423\\BT19042320.036\n",
      "Create [H:\\task\\paper\\word\\w14-DTS\\data\\ec_pdf\\190424\\BT19042420.036] success\n",
      "H:\\task\\paper\\word\\w14-DTS\\data\\ec\\190424\\BT19042420.036\n",
      "Create [H:\\task\\paper\\word\\w14-DTS\\data\\ec_pdf\\190425\\BT19042520.036] success\n",
      "H:\\task\\paper\\word\\w14-DTS\\data\\ec\\190425\\BT19042520.036\n",
      "Create [H:\\task\\paper\\word\\w14-DTS\\data\\ec_pdf\\190426\\BT19042620.036] success\n",
      "H:\\task\\paper\\word\\w14-DTS\\data\\ec\\190426\\BT19042620.036\n",
      "Create [H:\\task\\paper\\word\\w14-DTS\\data\\ec_pdf\\190427\\BT19042720.036] success\n",
      "H:\\task\\paper\\word\\w14-DTS\\data\\ec\\190427\\BT19042720.036\n",
      "Create [H:\\task\\paper\\word\\w14-DTS\\data\\ec_pdf\\190428\\BT19042820.036] success\n",
      "H:\\task\\paper\\word\\w14-DTS\\data\\ec\\190428\\BT19042820.036\n",
      "Create [H:\\task\\paper\\word\\w14-DTS\\data\\ec_pdf\\190429\\BT19042920.036] success\n",
      "H:\\task\\paper\\word\\w14-DTS\\data\\ec\\190429\\BT19042920.036\n",
      "Create [H:\\task\\paper\\word\\w14-DTS\\data\\ec_pdf\\190430\\BT19043020.036] success\n",
      "H:\\task\\paper\\word\\w14-DTS\\data\\ec\\190430\\BT19043020.036\n",
      "Create [H:\\task\\paper\\word\\w14-DTS\\data\\ec_pdf\\190501\\BT19050120.036] success\n",
      "H:\\task\\paper\\word\\w14-DTS\\data\\ec\\190501\\BT19050120.036\n",
      "Create [H:\\task\\paper\\word\\w14-DTS\\data\\ec_pdf\\190502\\BT19050220.036] success\n",
      "H:\\task\\paper\\word\\w14-DTS\\data\\ec\\190502\\BT19050220.036\n",
      "Create [H:\\task\\paper\\word\\w14-DTS\\data\\ec_pdf\\190503\\BT19050320.036] success\n",
      "H:\\task\\paper\\word\\w14-DTS\\data\\ec\\190503\\BT19050320.036\n",
      "Create [H:\\task\\paper\\word\\w14-DTS\\data\\ec_pdf\\190504\\BT19050420.036] success\n",
      "H:\\task\\paper\\word\\w14-DTS\\data\\ec\\190504\\BT19050420.036\n"
     ]
    },
    {
     "name": "stdout",
     "output_type": "stream",
     "text": [
      "Create [H:\\task\\paper\\word\\w14-DTS\\data\\ec_pdf\\190505\\BT19050520.036] success\n",
      "H:\\task\\paper\\word\\w14-DTS\\data\\ec\\190505\\BT19050520.036\n",
      "Create [H:\\task\\paper\\word\\w14-DTS\\data\\ec_pdf\\190506\\BT19050620.036] success\n",
      "H:\\task\\paper\\word\\w14-DTS\\data\\ec\\190506\\BT19050620.036\n",
      "Create [H:\\task\\paper\\word\\w14-DTS\\data\\ec_pdf\\190507\\BT19050720.036] success\n",
      "H:\\task\\paper\\word\\w14-DTS\\data\\ec\\190507\\BT19050720.036\n",
      "Create [H:\\task\\paper\\word\\w14-DTS\\data\\ec_pdf\\190508\\BT19050820.036] success\n",
      "H:\\task\\paper\\word\\w14-DTS\\data\\ec\\190508\\BT19050820.036\n",
      "Create [H:\\task\\paper\\word\\w14-DTS\\data\\ec_pdf\\190509\\BT19050920.036] success\n",
      "H:\\task\\paper\\word\\w14-DTS\\data\\ec\\190509\\BT19050920.036\n",
      "Create [H:\\task\\paper\\word\\w14-DTS\\data\\ec_pdf\\190510\\BT19051020.036] success\n",
      "H:\\task\\paper\\word\\w14-DTS\\data\\ec\\190510\\BT19051020.036\n",
      "Create [H:\\task\\paper\\word\\w14-DTS\\data\\ec_pdf\\190511\\BT19051120.036] success\n",
      "H:\\task\\paper\\word\\w14-DTS\\data\\ec\\190511\\BT19051120.036\n",
      "Create [H:\\task\\paper\\word\\w14-DTS\\data\\ec_pdf\\190512\\BT19051220.036] success\n",
      "H:\\task\\paper\\word\\w14-DTS\\data\\ec\\190512\\BT19051220.036\n",
      "Create [H:\\task\\paper\\word\\w14-DTS\\data\\ec_pdf\\190513\\BT19051320.036] success\n",
      "H:\\task\\paper\\word\\w14-DTS\\data\\ec\\190513\\BT19051320.036\n",
      "Create [H:\\task\\paper\\word\\w14-DTS\\data\\ec_pdf\\190514\\BT19051420.036] success\n",
      "H:\\task\\paper\\word\\w14-DTS\\data\\ec\\190514\\BT19051420.036\n",
      "Create [H:\\task\\paper\\word\\w14-DTS\\data\\ec_pdf\\190515\\BT19051520.036] success\n",
      "H:\\task\\paper\\word\\w14-DTS\\data\\ec\\190515\\BT19051520.036\n",
      "Create [H:\\task\\paper\\word\\w14-DTS\\data\\ec_pdf\\190516\\BT19051620.036] success\n",
      "H:\\task\\paper\\word\\w14-DTS\\data\\ec\\190516\\BT19051620.036\n",
      "Create [H:\\task\\paper\\word\\w14-DTS\\data\\ec_pdf\\190517\\BT19051720.036] success\n",
      "H:\\task\\paper\\word\\w14-DTS\\data\\ec\\190517\\BT19051720.036\n",
      "Create [H:\\task\\paper\\word\\w14-DTS\\data\\ec_pdf\\190518\\BT19051820.036] success\n",
      "H:\\task\\paper\\word\\w14-DTS\\data\\ec\\190518\\BT19051820.036\n",
      "Create [H:\\task\\paper\\word\\w14-DTS\\data\\ec_pdf\\190519\\BT19051920.036] success\n",
      "H:\\task\\paper\\word\\w14-DTS\\data\\ec\\190519\\BT19051920.036\n",
      "Create [H:\\task\\paper\\word\\w14-DTS\\data\\ec_pdf\\190520\\BT19052020.036] success\n",
      "H:\\task\\paper\\word\\w14-DTS\\data\\ec\\190520\\BT19052020.036\n",
      "Create [H:\\task\\paper\\word\\w14-DTS\\data\\ec_pdf\\190521\\BT19052120.036] success\n",
      "H:\\task\\paper\\word\\w14-DTS\\data\\ec\\190521\\BT19052120.036\n",
      "Create [H:\\task\\paper\\word\\w14-DTS\\data\\ec_pdf\\190522\\BT19052220.036] success\n",
      "H:\\task\\paper\\word\\w14-DTS\\data\\ec\\190522\\BT19052220.036\n",
      "Create [H:\\task\\paper\\word\\w14-DTS\\data\\ec_pdf\\190523\\BT19052320.036] success\n",
      "H:\\task\\paper\\word\\w14-DTS\\data\\ec\\190523\\BT19052320.036\n",
      "Create [H:\\task\\paper\\word\\w14-DTS\\data\\ec_pdf\\190524\\BT19052420.036] success\n",
      "H:\\task\\paper\\word\\w14-DTS\\data\\ec\\190524\\BT19052420.036\n",
      "Create [H:\\task\\paper\\word\\w14-DTS\\data\\ec_pdf\\190525\\BT19052520.036] success\n",
      "H:\\task\\paper\\word\\w14-DTS\\data\\ec\\190525\\BT19052520.036\n",
      "Create [H:\\task\\paper\\word\\w14-DTS\\data\\ec_pdf\\190526\\BT19052620.036] success\n",
      "H:\\task\\paper\\word\\w14-DTS\\data\\ec\\190526\\BT19052620.036\n",
      "Create [H:\\task\\paper\\word\\w14-DTS\\data\\ec_pdf\\190527\\BT19052720.036] success\n",
      "H:\\task\\paper\\word\\w14-DTS\\data\\ec\\190527\\BT19052720.036\n",
      "Create [H:\\task\\paper\\word\\w14-DTS\\data\\ec_pdf\\190528\\BT19052820.036] success\n",
      "H:\\task\\paper\\word\\w14-DTS\\data\\ec\\190528\\BT19052820.036\n",
      "Create [H:\\task\\paper\\word\\w14-DTS\\data\\ec_pdf\\190529\\BT19052920.036] success\n",
      "H:\\task\\paper\\word\\w14-DTS\\data\\ec\\190529\\BT19052920.036\n",
      "Create [H:\\task\\paper\\word\\w14-DTS\\data\\ec_pdf\\190530\\BT19053020.036] success\n",
      "H:\\task\\paper\\word\\w14-DTS\\data\\ec\\190530\\BT19053020.036\n",
      "Create [H:\\task\\paper\\word\\w14-DTS\\data\\ec_pdf\\190531\\BT19053120.036] success\n",
      "H:\\task\\paper\\word\\w14-DTS\\data\\ec\\190531\\BT19053120.036\n",
      "Create [H:\\task\\paper\\word\\w14-DTS\\data\\ec_pdf\\190601\\BT19060120.036] success\n",
      "H:\\task\\paper\\word\\w14-DTS\\data\\ec\\190601\\BT19060120.036\n",
      "Create [H:\\task\\paper\\word\\w14-DTS\\data\\ec_pdf\\190602\\BT19060220.036] success\n",
      "H:\\task\\paper\\word\\w14-DTS\\data\\ec\\190602\\BT19060220.036\n",
      "Create [H:\\task\\paper\\word\\w14-DTS\\data\\ec_pdf\\190603\\BT19060320.036] success\n",
      "H:\\task\\paper\\word\\w14-DTS\\data\\ec\\190603\\BT19060320.036\n",
      "Create [H:\\task\\paper\\word\\w14-DTS\\data\\ec_pdf\\190604\\BT19060420.036] success\n",
      "H:\\task\\paper\\word\\w14-DTS\\data\\ec\\190604\\BT19060420.036\n",
      "Create [H:\\task\\paper\\word\\w14-DTS\\data\\ec_pdf\\190605\\BT19060520.036] success\n",
      "H:\\task\\paper\\word\\w14-DTS\\data\\ec\\190605\\BT19060520.036\n",
      "Create [H:\\task\\paper\\word\\w14-DTS\\data\\ec_pdf\\190606\\BT19060620.036] success\n",
      "H:\\task\\paper\\word\\w14-DTS\\data\\ec\\190606\\BT19060620.036\n",
      "Create [H:\\task\\paper\\word\\w14-DTS\\data\\ec_pdf\\190607\\BT19060720.036] success\n",
      "H:\\task\\paper\\word\\w14-DTS\\data\\ec\\190607\\BT19060720.036\n",
      "Create [H:\\task\\paper\\word\\w14-DTS\\data\\ec_pdf\\190608\\BT19060820.036] success\n",
      "H:\\task\\paper\\word\\w14-DTS\\data\\ec\\190608\\BT19060820.036\n",
      "Create [H:\\task\\paper\\word\\w14-DTS\\data\\ec_pdf\\190609\\BT19060920.036] success\n",
      "H:\\task\\paper\\word\\w14-DTS\\data\\ec\\190609\\BT19060920.036\n",
      "Create [H:\\task\\paper\\word\\w14-DTS\\data\\ec_pdf\\190610\\BT19061020.036] success\n",
      "H:\\task\\paper\\word\\w14-DTS\\data\\ec\\190610\\BT19061020.036\n",
      "Create [H:\\task\\paper\\word\\w14-DTS\\data\\ec_pdf\\190611\\BT19061120.036] success\n",
      "H:\\task\\paper\\word\\w14-DTS\\data\\ec\\190611\\BT19061120.036\n",
      "Create [H:\\task\\paper\\word\\w14-DTS\\data\\ec_pdf\\190612\\BT19061220.036] success\n",
      "H:\\task\\paper\\word\\w14-DTS\\data\\ec\\190612\\BT19061220.036\n",
      "Create [H:\\task\\paper\\word\\w14-DTS\\data\\ec_pdf\\190613\\BT19061320.036] success\n",
      "H:\\task\\paper\\word\\w14-DTS\\data\\ec\\190613\\BT19061320.036\n",
      "Create [H:\\task\\paper\\word\\w14-DTS\\data\\ec_pdf\\190614\\BT19061420.036] success\n",
      "H:\\task\\paper\\word\\w14-DTS\\data\\ec\\190614\\BT19061420.036\n",
      "Create [H:\\task\\paper\\word\\w14-DTS\\data\\ec_pdf\\190615\\BT19061520.036] success\n",
      "H:\\task\\paper\\word\\w14-DTS\\data\\ec\\190615\\BT19061520.036\n",
      "Create [H:\\task\\paper\\word\\w14-DTS\\data\\ec_pdf\\190616\\BT19061620.036] success\n",
      "H:\\task\\paper\\word\\w14-DTS\\data\\ec\\190616\\BT19061620.036\n",
      "Create [H:\\task\\paper\\word\\w14-DTS\\data\\ec_pdf\\190617\\BT19061720.036] success\n",
      "H:\\task\\paper\\word\\w14-DTS\\data\\ec\\190617\\BT19061720.036\n",
      "Create [H:\\task\\paper\\word\\w14-DTS\\data\\ec_pdf\\190618\\BT19061820.036] success\n",
      "H:\\task\\paper\\word\\w14-DTS\\data\\ec\\190618\\BT19061820.036\n",
      "Create [H:\\task\\paper\\word\\w14-DTS\\data\\ec_pdf\\190619\\BT19061920.036] success\n",
      "H:\\task\\paper\\word\\w14-DTS\\data\\ec\\190619\\BT19061920.036\n",
      "Create [H:\\task\\paper\\word\\w14-DTS\\data\\ec_pdf\\190620\\BT19062020.036] success\n",
      "H:\\task\\paper\\word\\w14-DTS\\data\\ec\\190620\\BT19062020.036\n",
      "Create [H:\\task\\paper\\word\\w14-DTS\\data\\ec_pdf\\190621\\BT19062120.036] success\n",
      "H:\\task\\paper\\word\\w14-DTS\\data\\ec\\190621\\BT19062120.036\n",
      "Create [H:\\task\\paper\\word\\w14-DTS\\data\\ec_pdf\\190622\\BT19062220.036] success\n",
      "H:\\task\\paper\\word\\w14-DTS\\data\\ec\\190622\\BT19062220.036\n",
      "Create [H:\\task\\paper\\word\\w14-DTS\\data\\ec_pdf\\190623\\BT19062320.036] success\n",
      "H:\\task\\paper\\word\\w14-DTS\\data\\ec\\190623\\BT19062320.036\n",
      "Create [H:\\task\\paper\\word\\w14-DTS\\data\\ec_pdf\\190624\\BT19062420.036] success\n",
      "H:\\task\\paper\\word\\w14-DTS\\data\\ec\\190624\\BT19062420.036\n",
      "Create [H:\\task\\paper\\word\\w14-DTS\\data\\ec_pdf\\190625\\BT19062520.036] success\n",
      "H:\\task\\paper\\word\\w14-DTS\\data\\ec\\190625\\BT19062520.036\n",
      "Create [H:\\task\\paper\\word\\w14-DTS\\data\\ec_pdf\\190626\\BT19062620.036] success\n",
      "H:\\task\\paper\\word\\w14-DTS\\data\\ec\\190626\\BT19062620.036\n",
      "Create [H:\\task\\paper\\word\\w14-DTS\\data\\ec_pdf\\190627\\BT19062720.036] success\n",
      "H:\\task\\paper\\word\\w14-DTS\\data\\ec\\190627\\BT19062720.036\n",
      "Create [H:\\task\\paper\\word\\w14-DTS\\data\\ec_pdf\\190628\\BT19062820.036] success\n",
      "H:\\task\\paper\\word\\w14-DTS\\data\\ec\\190628\\BT19062820.036\n",
      "Create [H:\\task\\paper\\word\\w14-DTS\\data\\ec_pdf\\190629\\BT19062920.036] success\n",
      "H:\\task\\paper\\word\\w14-DTS\\data\\ec\\190629\\BT19062920.036\n",
      "Create [H:\\task\\paper\\word\\w14-DTS\\data\\ec_pdf\\190630\\BT19063020.036] success\n",
      "H:\\task\\paper\\word\\w14-DTS\\data\\ec\\190630\\BT19063020.036\n",
      "Create [H:\\task\\paper\\word\\w14-DTS\\data\\ec_pdf\\190701\\BT19070120.036] success\n",
      "H:\\task\\paper\\word\\w14-DTS\\data\\ec\\190701\\BT19070120.036\n",
      "Create [H:\\task\\paper\\word\\w14-DTS\\data\\ec_pdf\\190702\\BT19070220.036] success\n",
      "H:\\task\\paper\\word\\w14-DTS\\data\\ec\\190702\\BT19070220.036\n",
      "Create [H:\\task\\paper\\word\\w14-DTS\\data\\ec_pdf\\190703\\BT19070320.036] success\n",
      "H:\\task\\paper\\word\\w14-DTS\\data\\ec\\190703\\BT19070320.036\n",
      "Create [H:\\task\\paper\\word\\w14-DTS\\data\\ec_pdf\\190704\\BT19070420.036] success\n",
      "H:\\task\\paper\\word\\w14-DTS\\data\\ec\\190704\\BT19070420.036\n",
      "Create [H:\\task\\paper\\word\\w14-DTS\\data\\ec_pdf\\190705\\BT19070520.036] success\n",
      "H:\\task\\paper\\word\\w14-DTS\\data\\ec\\190705\\BT19070520.036\n"
     ]
    },
    {
     "name": "stdout",
     "output_type": "stream",
     "text": [
      "Create [H:\\task\\paper\\word\\w14-DTS\\data\\ec_pdf\\190706\\BT19070620.036] success\n",
      "H:\\task\\paper\\word\\w14-DTS\\data\\ec\\190706\\BT19070620.036\n",
      "Create [H:\\task\\paper\\word\\w14-DTS\\data\\ec_pdf\\190707\\BT19070720.036] success\n",
      "H:\\task\\paper\\word\\w14-DTS\\data\\ec\\190707\\BT19070720.036\n",
      "Create [H:\\task\\paper\\word\\w14-DTS\\data\\ec_pdf\\190708\\BT19070820.036] success\n",
      "H:\\task\\paper\\word\\w14-DTS\\data\\ec\\190708\\BT19070820.036\n",
      "Create [H:\\task\\paper\\word\\w14-DTS\\data\\ec_pdf\\190709\\BT19070920.036] success\n",
      "H:\\task\\paper\\word\\w14-DTS\\data\\ec\\190709\\BT19070920.036\n",
      "Create [H:\\task\\paper\\word\\w14-DTS\\data\\ec_pdf\\190710\\BT19071020.036] success\n",
      "H:\\task\\paper\\word\\w14-DTS\\data\\ec\\190710\\BT19071020.036\n",
      "Create [H:\\task\\paper\\word\\w14-DTS\\data\\ec_pdf\\190711\\BT19071120.036] success\n",
      "H:\\task\\paper\\word\\w14-DTS\\data\\ec\\190711\\BT19071120.036\n",
      "Create [H:\\task\\paper\\word\\w14-DTS\\data\\ec_pdf\\190712\\BT19071220.036] success\n",
      "H:\\task\\paper\\word\\w14-DTS\\data\\ec\\190712\\BT19071220.036\n",
      "Create [H:\\task\\paper\\word\\w14-DTS\\data\\ec_pdf\\190713\\BT19071320.036] success\n",
      "H:\\task\\paper\\word\\w14-DTS\\data\\ec\\190713\\BT19071320.036\n",
      "Create [H:\\task\\paper\\word\\w14-DTS\\data\\ec_pdf\\190714\\BT19071420.036] success\n",
      "H:\\task\\paper\\word\\w14-DTS\\data\\ec\\190714\\BT19071420.036\n",
      "Create [H:\\task\\paper\\word\\w14-DTS\\data\\ec_pdf\\190715\\BT19071520.036] success\n",
      "H:\\task\\paper\\word\\w14-DTS\\data\\ec\\190715\\BT19071520.036\n",
      "Create [H:\\task\\paper\\word\\w14-DTS\\data\\ec_pdf\\190716\\BT19071620.036] success\n",
      "H:\\task\\paper\\word\\w14-DTS\\data\\ec\\190716\\BT19071620.036\n",
      "Create [H:\\task\\paper\\word\\w14-DTS\\data\\ec_pdf\\190717\\BT19071720.036] success\n",
      "H:\\task\\paper\\word\\w14-DTS\\data\\ec\\190717\\BT19071720.036\n",
      "Create [H:\\task\\paper\\word\\w14-DTS\\data\\ec_pdf\\190718\\BT19071820.036] success\n",
      "H:\\task\\paper\\word\\w14-DTS\\data\\ec\\190718\\BT19071820.036\n",
      "Create [H:\\task\\paper\\word\\w14-DTS\\data\\ec_pdf\\190719\\BT19071920.036] success\n",
      "H:\\task\\paper\\word\\w14-DTS\\data\\ec\\190719\\BT19071920.036\n",
      "Create [H:\\task\\paper\\word\\w14-DTS\\data\\ec_pdf\\190720\\BT19072020.036] success\n",
      "H:\\task\\paper\\word\\w14-DTS\\data\\ec\\190720\\BT19072020.036\n",
      "Create [H:\\task\\paper\\word\\w14-DTS\\data\\ec_pdf\\190721\\BT19072120.036] success\n",
      "H:\\task\\paper\\word\\w14-DTS\\data\\ec\\190721\\BT19072120.036\n",
      "Create [H:\\task\\paper\\word\\w14-DTS\\data\\ec_pdf\\190722\\BT19072220.036] success\n",
      "H:\\task\\paper\\word\\w14-DTS\\data\\ec\\190722\\BT19072220.036\n",
      "Create [H:\\task\\paper\\word\\w14-DTS\\data\\ec_pdf\\190723\\BT19072320.036] success\n",
      "H:\\task\\paper\\word\\w14-DTS\\data\\ec\\190723\\BT19072320.036\n",
      "Create [H:\\task\\paper\\word\\w14-DTS\\data\\ec_pdf\\190724\\BT19072420.036] success\n",
      "H:\\task\\paper\\word\\w14-DTS\\data\\ec\\190724\\BT19072420.036\n",
      "Create [H:\\task\\paper\\word\\w14-DTS\\data\\ec_pdf\\190725\\BT19072520.036] success\n",
      "H:\\task\\paper\\word\\w14-DTS\\data\\ec\\190725\\BT19072520.036\n",
      "Create [H:\\task\\paper\\word\\w14-DTS\\data\\ec_pdf\\190726\\BT19072620.036] success\n",
      "H:\\task\\paper\\word\\w14-DTS\\data\\ec\\190726\\BT19072620.036\n",
      "Create [H:\\task\\paper\\word\\w14-DTS\\data\\ec_pdf\\190727\\BT19072720.036] success\n",
      "H:\\task\\paper\\word\\w14-DTS\\data\\ec\\190727\\BT19072720.036\n",
      "Create [H:\\task\\paper\\word\\w14-DTS\\data\\ec_pdf\\190728\\BT19072820.036] success\n",
      "H:\\task\\paper\\word\\w14-DTS\\data\\ec\\190728\\BT19072820.036\n",
      "Create [H:\\task\\paper\\word\\w14-DTS\\data\\ec_pdf\\190729\\BT19072920.036] success\n",
      "H:\\task\\paper\\word\\w14-DTS\\data\\ec\\190729\\BT19072920.036\n",
      "Create [H:\\task\\paper\\word\\w14-DTS\\data\\ec_pdf\\190730\\BT19073020.036] success\n",
      "H:\\task\\paper\\word\\w14-DTS\\data\\ec\\190730\\BT19073020.036\n",
      "Create [H:\\task\\paper\\word\\w14-DTS\\data\\ec_pdf\\190731\\BT19073120.036] success\n",
      "H:\\task\\paper\\word\\w14-DTS\\data\\ec\\190731\\BT19073120.036\n",
      "Create [H:\\task\\paper\\word\\w14-DTS\\data\\ec_pdf\\190801\\BT19080120.036] success\n",
      "H:\\task\\paper\\word\\w14-DTS\\data\\ec\\190801\\BT19080120.036\n",
      "Create [H:\\task\\paper\\word\\w14-DTS\\data\\ec_pdf\\190802\\BT19080220.036] success\n",
      "H:\\task\\paper\\word\\w14-DTS\\data\\ec\\190802\\BT19080220.036\n",
      "Create [H:\\task\\paper\\word\\w14-DTS\\data\\ec_pdf\\190803\\BT19080320.036] success\n",
      "H:\\task\\paper\\word\\w14-DTS\\data\\ec\\190803\\BT19080320.036\n",
      "Create [H:\\task\\paper\\word\\w14-DTS\\data\\ec_pdf\\190804\\BT19080420.036] success\n",
      "H:\\task\\paper\\word\\w14-DTS\\data\\ec\\190804\\BT19080420.036\n",
      "Create [H:\\task\\paper\\word\\w14-DTS\\data\\ec_pdf\\190805\\BT19080520.036] success\n",
      "H:\\task\\paper\\word\\w14-DTS\\data\\ec\\190805\\BT19080520.036\n",
      "Create [H:\\task\\paper\\word\\w14-DTS\\data\\ec_pdf\\190806\\BT19080620.036] success\n",
      "H:\\task\\paper\\word\\w14-DTS\\data\\ec\\190806\\BT19080620.036\n",
      "Create [H:\\task\\paper\\word\\w14-DTS\\data\\ec_pdf\\190807\\BT19080720.036] success\n",
      "H:\\task\\paper\\word\\w14-DTS\\data\\ec\\190807\\BT19080720.036\n",
      "Create [H:\\task\\paper\\word\\w14-DTS\\data\\ec_pdf\\190808\\BT19080820.036] success\n",
      "H:\\task\\paper\\word\\w14-DTS\\data\\ec\\190808\\BT19080820.036\n",
      "Create [H:\\task\\paper\\word\\w14-DTS\\data\\ec_pdf\\190809\\BT19080920.036] success\n",
      "H:\\task\\paper\\word\\w14-DTS\\data\\ec\\190809\\BT19080920.036\n",
      "Create [H:\\task\\paper\\word\\w14-DTS\\data\\ec_pdf\\190810\\BT19081020.036] success\n",
      "H:\\task\\paper\\word\\w14-DTS\\data\\ec\\190810\\BT19081020.036\n",
      "Create [H:\\task\\paper\\word\\w14-DTS\\data\\ec_pdf\\190811\\BT19081120.036] success\n",
      "H:\\task\\paper\\word\\w14-DTS\\data\\ec\\190811\\BT19081120.036\n",
      "Create [H:\\task\\paper\\word\\w14-DTS\\data\\ec_pdf\\190812\\BT19081220.036] success\n",
      "H:\\task\\paper\\word\\w14-DTS\\data\\ec\\190812\\BT19081220.036\n",
      "Create [H:\\task\\paper\\word\\w14-DTS\\data\\ec_pdf\\190813\\BT19081320.036] success\n",
      "H:\\task\\paper\\word\\w14-DTS\\data\\ec\\190813\\BT19081320.036\n",
      "Create [H:\\task\\paper\\word\\w14-DTS\\data\\ec_pdf\\190814\\BT19081420.036] success\n",
      "H:\\task\\paper\\word\\w14-DTS\\data\\ec\\190814\\BT19081420.036\n",
      "Create [H:\\task\\paper\\word\\w14-DTS\\data\\ec_pdf\\190815\\BT19081520.036] success\n",
      "H:\\task\\paper\\word\\w14-DTS\\data\\ec\\190815\\BT19081520.036\n",
      "Create [H:\\task\\paper\\word\\w14-DTS\\data\\ec_pdf\\190816\\BT19081620.036] success\n",
      "H:\\task\\paper\\word\\w14-DTS\\data\\ec\\190816\\BT19081620.036\n",
      "Create [H:\\task\\paper\\word\\w14-DTS\\data\\ec_pdf\\190817\\BT19081720.036] success\n",
      "H:\\task\\paper\\word\\w14-DTS\\data\\ec\\190817\\BT19081720.036\n",
      "Create [H:\\task\\paper\\word\\w14-DTS\\data\\ec_pdf\\190818\\BT19081820.036] success\n",
      "H:\\task\\paper\\word\\w14-DTS\\data\\ec\\190818\\BT19081820.036\n",
      "Create [H:\\task\\paper\\word\\w14-DTS\\data\\ec_pdf\\190819\\BT19081920.036] success\n",
      "H:\\task\\paper\\word\\w14-DTS\\data\\ec\\190819\\BT19081920.036\n",
      "Create [H:\\task\\paper\\word\\w14-DTS\\data\\ec_pdf\\190820\\BT19082020.036] success\n",
      "H:\\task\\paper\\word\\w14-DTS\\data\\ec\\190820\\BT19082020.036\n",
      "Create [H:\\task\\paper\\word\\w14-DTS\\data\\ec_pdf\\190821\\BT19082120.036] success\n",
      "H:\\task\\paper\\word\\w14-DTS\\data\\ec\\190821\\BT19082120.036\n",
      "Create [H:\\task\\paper\\word\\w14-DTS\\data\\ec_pdf\\190822\\BT19082220.036] success\n",
      "H:\\task\\paper\\word\\w14-DTS\\data\\ec\\190822\\BT19082220.036\n",
      "Create [H:\\task\\paper\\word\\w14-DTS\\data\\ec_pdf\\190823\\BT19082320.036] success\n",
      "H:\\task\\paper\\word\\w14-DTS\\data\\ec\\190823\\BT19082320.036\n",
      "Create [H:\\task\\paper\\word\\w14-DTS\\data\\ec_pdf\\190824\\BT19082420.036] success\n",
      "H:\\task\\paper\\word\\w14-DTS\\data\\ec\\190824\\BT19082420.036\n",
      "Create [H:\\task\\paper\\word\\w14-DTS\\data\\ec_pdf\\190825\\BT19082520.036] success\n",
      "H:\\task\\paper\\word\\w14-DTS\\data\\ec\\190825\\BT19082520.036\n",
      "Create [H:\\task\\paper\\word\\w14-DTS\\data\\ec_pdf\\190826\\BT19082620.036] success\n",
      "H:\\task\\paper\\word\\w14-DTS\\data\\ec\\190826\\BT19082620.036\n",
      "Create [H:\\task\\paper\\word\\w14-DTS\\data\\ec_pdf\\190827\\BT19082720.036] success\n",
      "H:\\task\\paper\\word\\w14-DTS\\data\\ec\\190827\\BT19082720.036\n",
      "Create [H:\\task\\paper\\word\\w14-DTS\\data\\ec_pdf\\190828\\BT19082820.036] success\n",
      "H:\\task\\paper\\word\\w14-DTS\\data\\ec\\190828\\BT19082820.036\n",
      "Create [H:\\task\\paper\\word\\w14-DTS\\data\\ec_pdf\\190829\\BT19082920.036] success\n",
      "H:\\task\\paper\\word\\w14-DTS\\data\\ec\\190829\\BT19082920.036\n",
      "Create [H:\\task\\paper\\word\\w14-DTS\\data\\ec_pdf\\190830\\BT19083020.036] success\n",
      "H:\\task\\paper\\word\\w14-DTS\\data\\ec\\190830\\BT19083020.036\n",
      "Create [H:\\task\\paper\\word\\w14-DTS\\data\\ec_pdf\\190831\\BT19083120.036] success\n",
      "H:\\task\\paper\\word\\w14-DTS\\data\\ec\\190831\\BT19083120.036\n",
      "Create [H:\\task\\paper\\word\\w14-DTS\\data\\ec_pdf\\190901\\BT19090120.036] success\n",
      "H:\\task\\paper\\word\\w14-DTS\\data\\ec\\190901\\BT19090120.036\n",
      "Create [H:\\task\\paper\\word\\w14-DTS\\data\\ec_pdf\\190902\\BT19090220.036] success\n",
      "H:\\task\\paper\\word\\w14-DTS\\data\\ec\\190902\\BT19090220.036\n",
      "Create [H:\\task\\paper\\word\\w14-DTS\\data\\ec_pdf\\190903\\BT19090320.036] success\n",
      "H:\\task\\paper\\word\\w14-DTS\\data\\ec\\190903\\BT19090320.036\n",
      "Create [H:\\task\\paper\\word\\w14-DTS\\data\\ec_pdf\\190904\\BT19090420.036] success\n",
      "H:\\task\\paper\\word\\w14-DTS\\data\\ec\\190904\\BT19090420.036\n"
     ]
    },
    {
     "name": "stdout",
     "output_type": "stream",
     "text": [
      "Create [H:\\task\\paper\\word\\w14-DTS\\data\\ec_pdf\\190905\\BT19090520.036] success\n",
      "H:\\task\\paper\\word\\w14-DTS\\data\\ec\\190905\\BT19090520.036\n",
      "Create [H:\\task\\paper\\word\\w14-DTS\\data\\ec_pdf\\190906\\BT19090620.036] success\n",
      "H:\\task\\paper\\word\\w14-DTS\\data\\ec\\190906\\BT19090620.036\n",
      "Create [H:\\task\\paper\\word\\w14-DTS\\data\\ec_pdf\\190907\\BT19090720.036] success\n",
      "H:\\task\\paper\\word\\w14-DTS\\data\\ec\\190907\\BT19090720.036\n",
      "Create [H:\\task\\paper\\word\\w14-DTS\\data\\ec_pdf\\190908\\BT19090820.036] success\n",
      "H:\\task\\paper\\word\\w14-DTS\\data\\ec\\190908\\BT19090820.036\n",
      "Create [H:\\task\\paper\\word\\w14-DTS\\data\\ec_pdf\\190909\\BT19090920.036] success\n",
      "H:\\task\\paper\\word\\w14-DTS\\data\\ec\\190909\\BT19090920.036\n",
      "Create [H:\\task\\paper\\word\\w14-DTS\\data\\ec_pdf\\190910\\BT19091020.036] success\n",
      "H:\\task\\paper\\word\\w14-DTS\\data\\ec\\190910\\BT19091020.036\n",
      "Create [H:\\task\\paper\\word\\w14-DTS\\data\\ec_pdf\\190911\\BT19091120.036] success\n",
      "H:\\task\\paper\\word\\w14-DTS\\data\\ec\\190911\\BT19091120.036\n",
      "Create [H:\\task\\paper\\word\\w14-DTS\\data\\ec_pdf\\190912\\BT19091220.036] success\n",
      "H:\\task\\paper\\word\\w14-DTS\\data\\ec\\190912\\BT19091220.036\n",
      "Create [H:\\task\\paper\\word\\w14-DTS\\data\\ec_pdf\\190913\\BT19091320.036] success\n",
      "H:\\task\\paper\\word\\w14-DTS\\data\\ec\\190913\\BT19091320.036\n",
      "Create [H:\\task\\paper\\word\\w14-DTS\\data\\ec_pdf\\190914\\BT19091420.036] success\n",
      "H:\\task\\paper\\word\\w14-DTS\\data\\ec\\190914\\BT19091420.036\n",
      "Create [H:\\task\\paper\\word\\w14-DTS\\data\\ec_pdf\\190915\\BT19091520.036] success\n",
      "H:\\task\\paper\\word\\w14-DTS\\data\\ec\\190915\\BT19091520.036\n",
      "Create [H:\\task\\paper\\word\\w14-DTS\\data\\ec_pdf\\190916\\BT19091620.036] success\n",
      "H:\\task\\paper\\word\\w14-DTS\\data\\ec\\190916\\BT19091620.036\n",
      "Create [H:\\task\\paper\\word\\w14-DTS\\data\\ec_pdf\\190917\\BT19091720.036] success\n",
      "H:\\task\\paper\\word\\w14-DTS\\data\\ec\\190917\\BT19091720.036\n",
      "Create [H:\\task\\paper\\word\\w14-DTS\\data\\ec_pdf\\190918\\BT19091820.036] success\n",
      "H:\\task\\paper\\word\\w14-DTS\\data\\ec\\190918\\BT19091820.036\n",
      "Create [H:\\task\\paper\\word\\w14-DTS\\data\\ec_pdf\\190919\\BT19091920.036] success\n",
      "H:\\task\\paper\\word\\w14-DTS\\data\\ec\\190919\\BT19091920.036\n",
      "Create [H:\\task\\paper\\word\\w14-DTS\\data\\ec_pdf\\190920\\BT19092020.036] success\n",
      "H:\\task\\paper\\word\\w14-DTS\\data\\ec\\190920\\BT19092020.036\n",
      "Create [H:\\task\\paper\\word\\w14-DTS\\data\\ec_pdf\\190921\\BT19092120.036] success\n",
      "H:\\task\\paper\\word\\w14-DTS\\data\\ec\\190921\\BT19092120.036\n",
      "Create [H:\\task\\paper\\word\\w14-DTS\\data\\ec_pdf\\190922\\BT19092220.036] success\n",
      "H:\\task\\paper\\word\\w14-DTS\\data\\ec\\190922\\BT19092220.036\n",
      "Create [H:\\task\\paper\\word\\w14-DTS\\data\\ec_pdf\\190923\\BT19092320.036] success\n",
      "H:\\task\\paper\\word\\w14-DTS\\data\\ec\\190923\\BT19092320.036\n",
      "Create [H:\\task\\paper\\word\\w14-DTS\\data\\ec_pdf\\190924\\BT19092420.036] success\n",
      "H:\\task\\paper\\word\\w14-DTS\\data\\ec\\190924\\BT19092420.036\n",
      "Create [H:\\task\\paper\\word\\w14-DTS\\data\\ec_pdf\\190925\\BT19092520.036] success\n",
      "H:\\task\\paper\\word\\w14-DTS\\data\\ec\\190925\\BT19092520.036\n",
      "Create [H:\\task\\paper\\word\\w14-DTS\\data\\ec_pdf\\190926\\BT19092620.036] success\n",
      "H:\\task\\paper\\word\\w14-DTS\\data\\ec\\190926\\BT19092620.036\n",
      "Create [H:\\task\\paper\\word\\w14-DTS\\data\\ec_pdf\\190927\\BT19092720.036] success\n",
      "H:\\task\\paper\\word\\w14-DTS\\data\\ec\\190927\\BT19092720.036\n",
      "Create [H:\\task\\paper\\word\\w14-DTS\\data\\ec_pdf\\190928\\BT19092820.036] success\n",
      "H:\\task\\paper\\word\\w14-DTS\\data\\ec\\190928\\BT19092820.036\n",
      "Create [H:\\task\\paper\\word\\w14-DTS\\data\\ec_pdf\\190929\\BT19092920.036] success\n",
      "H:\\task\\paper\\word\\w14-DTS\\data\\ec\\190929\\BT19092920.036\n",
      "Create [H:\\task\\paper\\word\\w14-DTS\\data\\ec_pdf\\190930\\BT19093020.036] success\n",
      "H:\\task\\paper\\word\\w14-DTS\\data\\ec\\190930\\BT19093020.036\n",
      "Create [H:\\task\\paper\\word\\w14-DTS\\data\\ec_pdf\\191001\\BT19100120.036] success\n",
      "H:\\task\\paper\\word\\w14-DTS\\data\\ec\\191001\\BT19100120.036\n",
      "Create [H:\\task\\paper\\word\\w14-DTS\\data\\ec_pdf\\191002\\BT19100220.036] success\n",
      "H:\\task\\paper\\word\\w14-DTS\\data\\ec\\191002\\BT19100220.036\n",
      "Create [H:\\task\\paper\\word\\w14-DTS\\data\\ec_pdf\\191003\\BT19100320.036] success\n",
      "H:\\task\\paper\\word\\w14-DTS\\data\\ec\\191003\\BT19100320.036\n",
      "Create [H:\\task\\paper\\word\\w14-DTS\\data\\ec_pdf\\191004\\BT19100420.036] success\n",
      "H:\\task\\paper\\word\\w14-DTS\\data\\ec\\191004\\BT19100420.036\n",
      "Create [H:\\task\\paper\\word\\w14-DTS\\data\\ec_pdf\\191005\\BT19100520.036] success\n",
      "H:\\task\\paper\\word\\w14-DTS\\data\\ec\\191005\\BT19100520.036\n",
      "Create [H:\\task\\paper\\word\\w14-DTS\\data\\ec_pdf\\191006\\BT19100620.036] success\n",
      "H:\\task\\paper\\word\\w14-DTS\\data\\ec\\191006\\BT19100620.036\n",
      "Create [H:\\task\\paper\\word\\w14-DTS\\data\\ec_pdf\\191007\\BT19100720.036] success\n",
      "H:\\task\\paper\\word\\w14-DTS\\data\\ec\\191007\\BT19100720.036\n",
      "Create [H:\\task\\paper\\word\\w14-DTS\\data\\ec_pdf\\191008\\BT19100820.036] success\n",
      "H:\\task\\paper\\word\\w14-DTS\\data\\ec\\191008\\BT19100820.036\n",
      "Create [H:\\task\\paper\\word\\w14-DTS\\data\\ec_pdf\\191009\\BT19100920.036] success\n",
      "H:\\task\\paper\\word\\w14-DTS\\data\\ec\\191009\\BT19100920.036\n",
      "Create [H:\\task\\paper\\word\\w14-DTS\\data\\ec_pdf\\191010\\BT19101020.036] success\n",
      "H:\\task\\paper\\word\\w14-DTS\\data\\ec\\191010\\BT19101020.036\n",
      "Create [H:\\task\\paper\\word\\w14-DTS\\data\\ec_pdf\\191011\\BT19101120.036] success\n",
      "H:\\task\\paper\\word\\w14-DTS\\data\\ec\\191011\\BT19101120.036\n",
      "Create [H:\\task\\paper\\word\\w14-DTS\\data\\ec_pdf\\191012\\BT19101220.036] success\n",
      "H:\\task\\paper\\word\\w14-DTS\\data\\ec\\191012\\BT19101220.036\n",
      "Create [H:\\task\\paper\\word\\w14-DTS\\data\\ec_pdf\\191013\\BT19101320.036] success\n",
      "H:\\task\\paper\\word\\w14-DTS\\data\\ec\\191013\\BT19101320.036\n",
      "Create [H:\\task\\paper\\word\\w14-DTS\\data\\ec_pdf\\191014\\BT19101420.036] success\n",
      "H:\\task\\paper\\word\\w14-DTS\\data\\ec\\191014\\BT19101420.036\n",
      "Create [H:\\task\\paper\\word\\w14-DTS\\data\\ec_pdf\\191015\\BT19101520.036] success\n",
      "H:\\task\\paper\\word\\w14-DTS\\data\\ec\\191015\\BT19101520.036\n",
      "Create [H:\\task\\paper\\word\\w14-DTS\\data\\ec_pdf\\191016\\BT19101620.036] success\n",
      "H:\\task\\paper\\word\\w14-DTS\\data\\ec\\191016\\BT19101620.036\n",
      "Create [H:\\task\\paper\\word\\w14-DTS\\data\\ec_pdf\\191017\\BT19101720.036] success\n",
      "H:\\task\\paper\\word\\w14-DTS\\data\\ec\\191017\\BT19101720.036\n",
      "Create [H:\\task\\paper\\word\\w14-DTS\\data\\ec_pdf\\191018\\BT19101820.036] success\n",
      "H:\\task\\paper\\word\\w14-DTS\\data\\ec\\191018\\BT19101820.036\n",
      "Create [H:\\task\\paper\\word\\w14-DTS\\data\\ec_pdf\\191019\\BT19101920.036] success\n",
      "H:\\task\\paper\\word\\w14-DTS\\data\\ec\\191019\\BT19101920.036\n",
      "Create [H:\\task\\paper\\word\\w14-DTS\\data\\ec_pdf\\191020\\BT19102020.036] success\n",
      "H:\\task\\paper\\word\\w14-DTS\\data\\ec\\191020\\BT19102020.036\n",
      "Create [H:\\task\\paper\\word\\w14-DTS\\data\\ec_pdf\\191021\\BT19102120.036] success\n",
      "H:\\task\\paper\\word\\w14-DTS\\data\\ec\\191021\\BT19102120.036\n",
      "Create [H:\\task\\paper\\word\\w14-DTS\\data\\ec_pdf\\191022\\BT19102220.036] success\n",
      "H:\\task\\paper\\word\\w14-DTS\\data\\ec\\191022\\BT19102220.036\n",
      "Create [H:\\task\\paper\\word\\w14-DTS\\data\\ec_pdf\\191023\\BT19102320.036] success\n",
      "H:\\task\\paper\\word\\w14-DTS\\data\\ec\\191023\\BT19102320.036\n",
      "Create [H:\\task\\paper\\word\\w14-DTS\\data\\ec_pdf\\191024\\BT19102420.036] success\n",
      "H:\\task\\paper\\word\\w14-DTS\\data\\ec\\191024\\BT19102420.036\n",
      "Create [H:\\task\\paper\\word\\w14-DTS\\data\\ec_pdf\\191025\\BT19102520.036] success\n",
      "H:\\task\\paper\\word\\w14-DTS\\data\\ec\\191025\\BT19102520.036\n",
      "Create [H:\\task\\paper\\word\\w14-DTS\\data\\ec_pdf\\191026\\BT19102620.036] success\n",
      "H:\\task\\paper\\word\\w14-DTS\\data\\ec\\191026\\BT19102620.036\n",
      "Create [H:\\task\\paper\\word\\w14-DTS\\data\\ec_pdf\\191027\\BT19102720.036] success\n",
      "H:\\task\\paper\\word\\w14-DTS\\data\\ec\\191027\\BT19102720.036\n",
      "Create [H:\\task\\paper\\word\\w14-DTS\\data\\ec_pdf\\191028\\BT19102820.036] success\n",
      "H:\\task\\paper\\word\\w14-DTS\\data\\ec\\191028\\BT19102820.036\n",
      "Create [H:\\task\\paper\\word\\w14-DTS\\data\\ec_pdf\\191029\\BT19102920.036] success\n",
      "H:\\task\\paper\\word\\w14-DTS\\data\\ec\\191029\\BT19102920.036\n",
      "Create [H:\\task\\paper\\word\\w14-DTS\\data\\ec_pdf\\191030\\BT19103020.036] success\n",
      "H:\\task\\paper\\word\\w14-DTS\\data\\ec\\191030\\BT19103020.036\n",
      "Create [H:\\task\\paper\\word\\w14-DTS\\data\\ec_pdf\\191031\\BT19103120.036] success\n",
      "H:\\task\\paper\\word\\w14-DTS\\data\\ec\\191031\\BT19103120.036\n",
      "Create [H:\\task\\paper\\word\\w14-DTS\\data\\ec_pdf\\191101\\BT19110120.036] success\n",
      "H:\\task\\paper\\word\\w14-DTS\\data\\ec\\191101\\BT19110120.036\n",
      "Create [H:\\task\\paper\\word\\w14-DTS\\data\\ec_pdf\\191102\\BT19110220.036] success\n",
      "H:\\task\\paper\\word\\w14-DTS\\data\\ec\\191102\\BT19110220.036\n",
      "Create [H:\\task\\paper\\word\\w14-DTS\\data\\ec_pdf\\191103\\BT19110320.036] success\n",
      "H:\\task\\paper\\word\\w14-DTS\\data\\ec\\191103\\BT19110320.036\n",
      "Create [H:\\task\\paper\\word\\w14-DTS\\data\\ec_pdf\\191104\\BT19110420.036] success\n",
      "H:\\task\\paper\\word\\w14-DTS\\data\\ec\\191104\\BT19110420.036\n"
     ]
    },
    {
     "name": "stdout",
     "output_type": "stream",
     "text": [
      "Create [H:\\task\\paper\\word\\w14-DTS\\data\\ec_pdf\\191105\\BT19110520.036] success\n",
      "H:\\task\\paper\\word\\w14-DTS\\data\\ec\\191105\\BT19110520.036\n",
      "Create [H:\\task\\paper\\word\\w14-DTS\\data\\ec_pdf\\191106\\BT19110620.036] success\n",
      "H:\\task\\paper\\word\\w14-DTS\\data\\ec\\191106\\BT19110620.036\n",
      "Create [H:\\task\\paper\\word\\w14-DTS\\data\\ec_pdf\\191107\\BT19110720.036] success\n",
      "H:\\task\\paper\\word\\w14-DTS\\data\\ec\\191107\\BT19110720.036\n",
      "Create [H:\\task\\paper\\word\\w14-DTS\\data\\ec_pdf\\191108\\BT19110820.036] success\n",
      "H:\\task\\paper\\word\\w14-DTS\\data\\ec\\191108\\BT19110820.036\n",
      "Create [H:\\task\\paper\\word\\w14-DTS\\data\\ec_pdf\\191109\\BT19110920.036] success\n",
      "H:\\task\\paper\\word\\w14-DTS\\data\\ec\\191109\\BT19110920.036\n",
      "Create [H:\\task\\paper\\word\\w14-DTS\\data\\ec_pdf\\191110\\BT19111020.036] success\n",
      "H:\\task\\paper\\word\\w14-DTS\\data\\ec\\191110\\BT19111020.036\n",
      "Create [H:\\task\\paper\\word\\w14-DTS\\data\\ec_pdf\\191111\\BT19111120.036] success\n",
      "H:\\task\\paper\\word\\w14-DTS\\data\\ec\\191111\\BT19111120.036\n",
      "Create [H:\\task\\paper\\word\\w14-DTS\\data\\ec_pdf\\191112\\BT19111220.036] success\n",
      "H:\\task\\paper\\word\\w14-DTS\\data\\ec\\191112\\BT19111220.036\n",
      "Create [H:\\task\\paper\\word\\w14-DTS\\data\\ec_pdf\\191113\\BT19111320.036] success\n",
      "H:\\task\\paper\\word\\w14-DTS\\data\\ec\\191113\\BT19111320.036\n",
      "Create [H:\\task\\paper\\word\\w14-DTS\\data\\ec_pdf\\191114\\BT19111420.036] success\n",
      "H:\\task\\paper\\word\\w14-DTS\\data\\ec\\191114\\BT19111420.036\n",
      "Create [H:\\task\\paper\\word\\w14-DTS\\data\\ec_pdf\\191115\\BT19111520.036] success\n",
      "H:\\task\\paper\\word\\w14-DTS\\data\\ec\\191115\\BT19111520.036\n",
      "Create [H:\\task\\paper\\word\\w14-DTS\\data\\ec_pdf\\191116\\BT19111620.036] success\n",
      "H:\\task\\paper\\word\\w14-DTS\\data\\ec\\191116\\BT19111620.036\n",
      "Create [H:\\task\\paper\\word\\w14-DTS\\data\\ec_pdf\\191117\\BT19111720.036] success\n",
      "H:\\task\\paper\\word\\w14-DTS\\data\\ec\\191117\\BT19111720.036\n",
      "Create [H:\\task\\paper\\word\\w14-DTS\\data\\ec_pdf\\191118\\BT19111820.036] success\n",
      "H:\\task\\paper\\word\\w14-DTS\\data\\ec\\191118\\BT19111820.036\n",
      "Create [H:\\task\\paper\\word\\w14-DTS\\data\\ec_pdf\\191119\\BT19111920.036] success\n",
      "H:\\task\\paper\\word\\w14-DTS\\data\\ec\\191119\\BT19111920.036\n",
      "Create [H:\\task\\paper\\word\\w14-DTS\\data\\ec_pdf\\191120\\BT19112020.036] success\n",
      "H:\\task\\paper\\word\\w14-DTS\\data\\ec\\191120\\BT19112020.036\n",
      "Create [H:\\task\\paper\\word\\w14-DTS\\data\\ec_pdf\\191121\\BT19112120.036] success\n",
      "H:\\task\\paper\\word\\w14-DTS\\data\\ec\\191121\\BT19112120.036\n",
      "Create [H:\\task\\paper\\word\\w14-DTS\\data\\ec_pdf\\191122\\BT19112220.036] success\n",
      "H:\\task\\paper\\word\\w14-DTS\\data\\ec\\191122\\BT19112220.036\n",
      "Create [H:\\task\\paper\\word\\w14-DTS\\data\\ec_pdf\\191123\\BT19112320.036] success\n",
      "H:\\task\\paper\\word\\w14-DTS\\data\\ec\\191123\\BT19112320.036\n",
      "Create [H:\\task\\paper\\word\\w14-DTS\\data\\ec_pdf\\191124\\BT19112420.036] success\n",
      "H:\\task\\paper\\word\\w14-DTS\\data\\ec\\191124\\BT19112420.036\n",
      "Create [H:\\task\\paper\\word\\w14-DTS\\data\\ec_pdf\\191125\\BT19112520.036] success\n",
      "H:\\task\\paper\\word\\w14-DTS\\data\\ec\\191125\\BT19112520.036\n",
      "Create [H:\\task\\paper\\word\\w14-DTS\\data\\ec_pdf\\191126\\BT19112620.036] success\n",
      "H:\\task\\paper\\word\\w14-DTS\\data\\ec\\191126\\BT19112620.036\n",
      "Create [H:\\task\\paper\\word\\w14-DTS\\data\\ec_pdf\\191127\\BT19112720.036] success\n",
      "H:\\task\\paper\\word\\w14-DTS\\data\\ec\\191127\\BT19112720.036\n",
      "Create [H:\\task\\paper\\word\\w14-DTS\\data\\ec_pdf\\191128\\BT19112820.036] success\n",
      "H:\\task\\paper\\word\\w14-DTS\\data\\ec\\191128\\BT19112820.036\n",
      "Create [H:\\task\\paper\\word\\w14-DTS\\data\\ec_pdf\\191129\\BT19112920.036] success\n",
      "H:\\task\\paper\\word\\w14-DTS\\data\\ec\\191129\\BT19112920.036\n",
      "Create [H:\\task\\paper\\word\\w14-DTS\\data\\ec_pdf\\191130\\BT19113020.036] success\n",
      "H:\\task\\paper\\word\\w14-DTS\\data\\ec\\191130\\BT19113020.036\n",
      "Create [H:\\task\\paper\\word\\w14-DTS\\data\\ec_pdf\\191201\\BT19120120.036] success\n",
      "H:\\task\\paper\\word\\w14-DTS\\data\\ec\\191201\\BT19120120.036\n",
      "Create [H:\\task\\paper\\word\\w14-DTS\\data\\ec_pdf\\191202\\BT19120220.036] success\n",
      "H:\\task\\paper\\word\\w14-DTS\\data\\ec\\191202\\BT19120220.036\n",
      "Create [H:\\task\\paper\\word\\w14-DTS\\data\\ec_pdf\\191203\\BT19120320.036] success\n",
      "H:\\task\\paper\\word\\w14-DTS\\data\\ec\\191203\\BT19120320.036\n",
      "Create [H:\\task\\paper\\word\\w14-DTS\\data\\ec_pdf\\191204\\BT19120420.036] success\n",
      "H:\\task\\paper\\word\\w14-DTS\\data\\ec\\191204\\BT19120420.036\n",
      "Create [H:\\task\\paper\\word\\w14-DTS\\data\\ec_pdf\\191205\\BT19120520.036] success\n",
      "H:\\task\\paper\\word\\w14-DTS\\data\\ec\\191205\\BT19120520.036\n",
      "Create [H:\\task\\paper\\word\\w14-DTS\\data\\ec_pdf\\191206\\BT19120620.036] success\n",
      "H:\\task\\paper\\word\\w14-DTS\\data\\ec\\191206\\BT19120620.036\n",
      "Create [H:\\task\\paper\\word\\w14-DTS\\data\\ec_pdf\\191207\\BT19120720.036] success\n",
      "H:\\task\\paper\\word\\w14-DTS\\data\\ec\\191207\\BT19120720.036\n",
      "Create [H:\\task\\paper\\word\\w14-DTS\\data\\ec_pdf\\191208\\BT19120820.036] success\n",
      "H:\\task\\paper\\word\\w14-DTS\\data\\ec\\191208\\BT19120820.036\n",
      "Create [H:\\task\\paper\\word\\w14-DTS\\data\\ec_pdf\\191209\\BT19120920.036] success\n",
      "H:\\task\\paper\\word\\w14-DTS\\data\\ec\\191209\\BT19120920.036\n",
      "Create [H:\\task\\paper\\word\\w14-DTS\\data\\ec_pdf\\191210\\BT19121020.036] success\n",
      "H:\\task\\paper\\word\\w14-DTS\\data\\ec\\191210\\BT19121020.036\n",
      "Create [H:\\task\\paper\\word\\w14-DTS\\data\\ec_pdf\\191211\\BT19121120.036] success\n",
      "H:\\task\\paper\\word\\w14-DTS\\data\\ec\\191211\\BT19121120.036\n",
      "Create [H:\\task\\paper\\word\\w14-DTS\\data\\ec_pdf\\191212\\BT19121220.036] success\n",
      "H:\\task\\paper\\word\\w14-DTS\\data\\ec\\191212\\BT19121220.036\n",
      "Create [H:\\task\\paper\\word\\w14-DTS\\data\\ec_pdf\\191213\\BT19121320.036] success\n",
      "H:\\task\\paper\\word\\w14-DTS\\data\\ec\\191213\\BT19121320.036\n",
      "Create [H:\\task\\paper\\word\\w14-DTS\\data\\ec_pdf\\191214\\BT19121420.036] success\n",
      "H:\\task\\paper\\word\\w14-DTS\\data\\ec\\191214\\BT19121420.036\n",
      "Create [H:\\task\\paper\\word\\w14-DTS\\data\\ec_pdf\\191215\\BT19121520.036] success\n",
      "H:\\task\\paper\\word\\w14-DTS\\data\\ec\\191215\\BT19121520.036\n",
      "Create [H:\\task\\paper\\word\\w14-DTS\\data\\ec_pdf\\191216\\BT19121620.036] success\n",
      "H:\\task\\paper\\word\\w14-DTS\\data\\ec\\191216\\BT19121620.036\n",
      "Create [H:\\task\\paper\\word\\w14-DTS\\data\\ec_pdf\\191217\\BT19121720.036] success\n",
      "H:\\task\\paper\\word\\w14-DTS\\data\\ec\\191217\\BT19121720.036\n",
      "Create [H:\\task\\paper\\word\\w14-DTS\\data\\ec_pdf\\191218\\BT19121820.036] success\n",
      "H:\\task\\paper\\word\\w14-DTS\\data\\ec\\191218\\BT19121820.036\n",
      "Create [H:\\task\\paper\\word\\w14-DTS\\data\\ec_pdf\\191219\\BT19121920.036] success\n",
      "H:\\task\\paper\\word\\w14-DTS\\data\\ec\\191219\\BT19121920.036\n",
      "Create [H:\\task\\paper\\word\\w14-DTS\\data\\ec_pdf\\191220\\BT19122020.036] success\n",
      "H:\\task\\paper\\word\\w14-DTS\\data\\ec\\191220\\BT19122020.036\n",
      "Create [H:\\task\\paper\\word\\w14-DTS\\data\\ec_pdf\\191221\\BT19122120.036] success\n",
      "H:\\task\\paper\\word\\w14-DTS\\data\\ec\\191221\\BT19122120.036\n",
      "Create [H:\\task\\paper\\word\\w14-DTS\\data\\ec_pdf\\191222\\BT19122220.036] success\n",
      "H:\\task\\paper\\word\\w14-DTS\\data\\ec\\191222\\BT19122220.036\n",
      "Create [H:\\task\\paper\\word\\w14-DTS\\data\\ec_pdf\\191223\\BT19122320.036] success\n",
      "H:\\task\\paper\\word\\w14-DTS\\data\\ec\\191223\\BT19122320.036\n",
      "Create [H:\\task\\paper\\word\\w14-DTS\\data\\ec_pdf\\191224\\BT19122420.036] success\n",
      "H:\\task\\paper\\word\\w14-DTS\\data\\ec\\191224\\BT19122420.036\n",
      "Create [H:\\task\\paper\\word\\w14-DTS\\data\\ec_pdf\\191225\\BT19122520.036] success\n",
      "H:\\task\\paper\\word\\w14-DTS\\data\\ec\\191225\\BT19122520.036\n",
      "Create [H:\\task\\paper\\word\\w14-DTS\\data\\ec_pdf\\191226\\BT19122620.036] success\n",
      "H:\\task\\paper\\word\\w14-DTS\\data\\ec\\191226\\BT19122620.036\n",
      "Create [H:\\task\\paper\\word\\w14-DTS\\data\\ec_pdf\\191227\\BT19122720.036] success\n",
      "H:\\task\\paper\\word\\w14-DTS\\data\\ec\\191227\\BT19122720.036\n",
      "Create [H:\\task\\paper\\word\\w14-DTS\\data\\ec_pdf\\191228\\BT19122820.036] success\n",
      "H:\\task\\paper\\word\\w14-DTS\\data\\ec\\191228\\BT19122820.036\n",
      "Create [H:\\task\\paper\\word\\w14-DTS\\data\\ec_pdf\\191229\\BT19122920.036] success\n",
      "H:\\task\\paper\\word\\w14-DTS\\data\\ec\\191229\\BT19122920.036\n",
      "Create [H:\\task\\paper\\word\\w14-DTS\\data\\ec_pdf\\191230\\BT19123020.036] success\n",
      "H:\\task\\paper\\word\\w14-DTS\\data\\ec\\191230\\BT19123020.036\n"
     ]
    }
   ],
   "source": [
    "ec_sta_all = None\n",
    "time0 =  datetime.datetime(2019,1,1,20,0)\n",
    "time_end = datetime.datetime(2020,1,1,8,0)\n",
    "dir_ec = r\"H:\\task\\paper\\word\\w14-DTS\\data\\ec\\YYMMDD\\BTYYMMDDHH.TTT\"\n",
    "dir_ec_pdf = r\"H:\\task\\paper\\word\\w14-DTS\\data\\ec_pdf\\YYMMDD\\BTYYMMDDHH.TTT\"\n",
    "while time0 < time_end:\n",
    "    for dh in range(36,37,12):\n",
    "        #读取ec预报数据\n",
    "        path = meb.get_path(dir_ec,time0,dh)\n",
    "        sta = meb.read_stadata_from_micaps3(path,station = station)\n",
    "        if sta is not None:\n",
    "            sta = meb.between_value_range(sta,0,500)\n",
    "            index = (sta[\"data0\"].values[:] * 10).astype(np.int32)\n",
    "            dat = ob_grades[index]\n",
    "            sta[\"data0\"].values[:] = dat[:]\n",
    "            path_out = meb.get_path(dir_ec_pdf,time0,dh)\n",
    "            meb.write_stadata_to_micaps3(sta,path_out,creat_dir = True)\n",
    "            print(path)\n",
    "        \n",
    "    time0 += datetime.timedelta(hours = 24)\n"
   ]
  },
  {
   "cell_type": "code",
   "execution_count": 97,
   "metadata": {},
   "outputs": [
    {
     "name": "stdout",
     "output_type": "stream",
     "text": [
      "        level                time  dtime     id     lon    lat  ec_pdf\n",
      "0           0 2019-01-02 20:00:00     36  56790  104.25  25.68     0.0\n",
      "1           0 2019-01-02 20:00:00     36  51369   87.65  43.97     0.0\n",
      "2           0 2019-01-02 20:00:00     36  56097  104.25  33.27     0.0\n",
      "3           0 2019-01-02 20:00:00     36  57413  106.97  30.85     0.0\n",
      "4           0 2019-01-02 20:00:00     36  54871  122.48  36.93     0.0\n",
      "...       ...                 ...    ...    ...     ...    ...     ...\n",
      "877366      0 2019-12-30 20:00:00     36  53768  111.75  37.15     0.0\n",
      "877367      0 2019-12-30 20:00:00     36  58645  119.49  28.46     0.0\n",
      "877368      0 2019-12-30 20:00:00     36  58444  120.29  30.42     0.0\n",
      "877369      0 2019-12-30 20:00:00     36  58755  120.39  27.50     0.0\n",
      "877370      0 2019-12-30 20:00:00     36  48520   99.08  10.32     2.0\n",
      "\n",
      "[877371 rows x 7 columns]\n"
     ]
    }
   ],
   "source": [
    "ecpdf_sta_all = None\n",
    "time0 =  datetime.datetime(2019,1,1,20,0)\n",
    "time_end = datetime.datetime(2020,1,1,8,0)\n",
    "dir_ecpdf = r\"H:\\task\\paper\\word\\w14-DTS\\data\\ec_pdf\\YYMMDD\\BTYYMMDDHH.TTT\"\n",
    "while time0 < time_end:\n",
    "    for dh in range(36,37,12):\n",
    "        #读取ec预报数据\n",
    "        path = meb.get_path(dir_ecpdf,time0,dh)\n",
    "        sta = meb.read_stadata_from_micaps3(path,station = station)\n",
    "        if sta is not None:\n",
    "            meb.set_stadata_coords(sta,time = time0,dtime = dh,level = 0)\n",
    "            meb.set_stadata_names(sta,[\"ec_pdf\"])\n",
    "            ecpdf_sta_all = meb.combine_join(ecpdf_sta_all,sta)\n",
    "        \n",
    "    time0 += datetime.timedelta(hours = 24)\n",
    "print(ecpdf_sta_all)"
   ]
  },
  {
   "cell_type": "code",
   "execution_count": 221,
   "metadata": {},
   "outputs": [
    {
     "name": "stdout",
     "output_type": "stream",
     "text": [
      "        level                time  dtime     id     lon    lat   ob  ec_pdf\n",
      "0           0 2019-01-02 20:00:00     36  56790  104.25  25.68  0.0     0.0\n",
      "1           0 2019-01-02 20:00:00     36  51369   87.65  43.97  0.0     0.0\n",
      "2           0 2019-01-02 20:00:00     36  56097  104.25  33.27  0.0     0.0\n",
      "3           0 2019-01-02 20:00:00     36  57413  106.97  30.85  0.0     0.0\n",
      "4           0 2019-01-02 20:00:00     36  54871  122.48  36.93  0.0     0.0\n",
      "...       ...                 ...    ...    ...     ...    ...  ...     ...\n",
      "870114      0 2019-12-29 20:00:00     36  53753  110.88  37.43  0.0     0.0\n",
      "870115      0 2019-12-29 20:00:00     36  53768  111.75  37.15  0.0     0.0\n",
      "870116      0 2019-12-29 20:00:00     36  58645  119.49  28.46  2.1     2.9\n",
      "870117      0 2019-12-29 20:00:00     36  58444  120.29  30.42  0.1     0.0\n",
      "870118      0 2019-12-29 20:00:00     36  58755  120.39  27.50  3.8     0.1\n",
      "\n",
      "[866082 rows x 8 columns]\n"
     ]
    }
   ],
   "source": [
    "sta_all_pdf = meb.combine_on_obTime(ob_sta_all,[ecpdf_sta_all])\n",
    "sta_all_pdf = meb.not_IV(sta_all_pdf)\n",
    "sta_all_pdf = meb.between_value_range(sta_all_pdf,0,500)\n",
    "print(sta_all_pdf)"
   ]
  },
  {
   "cell_type": "code",
   "execution_count": 222,
   "metadata": {},
   "outputs": [],
   "source": [
    "grade_list = [0.1,10,25,50,100]"
   ]
  },
  {
   "cell_type": "code",
   "execution_count": 328,
   "metadata": {},
   "outputs": [],
   "source": [
    "sta_summer = meb.in_month_list(sta_all,[1])\n",
    "method_list = [\"pc\",\"pod\",\"sr\",\"ts\",\"ets\",\"hk_yesorno\",\"hss_yesorno\",\"dts\"]\n",
    "method_names =  [\"PC\",\"POD\",\"SR\",\"TS\",\"ETS\",\"HK\",\"HSS\",\"DTS\"]\n",
    "result = np.zeros((len(method_list),len(grade_list)))\n",
    "for i in range(len(method_list)):\n",
    "    result[i,:] = mep.score(sta_all_pdf,method_list[i],para1 = grade_list)[0]"
   ]
  },
  {
   "cell_type": "code",
   "execution_count": 331,
   "metadata": {
    "scrolled": true
   },
   "outputs": [
    {
     "data": {
      "image/png": "[encoded data removed]",
      "text/plain": [
       "<Figure size 432x288 with 1 Axes>"
      ]
     },
     "metadata": {
      "needs_background": "light"
     },
     "output_type": "display_data"
    }
   ],
   "source": [
    "x = np.arange(len(method_list))\n",
    "for i in range(len(grade_list)):\n",
    "    x1 = x - (len(method_list)/2 - i) * (0.5/len(grade_list)) + 0.2\n",
    "    plt.bar(x1,result[:,i],width = 0.4/len(grade_list),label =\">=\" + str(grade_list[i])+\"mm\")\n",
    "plt.xticks(x,method_names)\n",
    "plt.ylim(0,1.2)\n",
    "plt.xlim(-1,7.5)\n",
    "plt.xlabel(\"评分方法\")\n",
    "plt.ylabel(\"评分值\")\n",
    "plt.hlines(0.5,-1,8,colors = \"k\", linestyles = \"dashed\")\n",
    "plt.hlines(1.0,-1,8,colors = \"k\",linewidth = 1)\n",
    "plt.legend(ncol = 3,loc = \"upper center\")\n",
    "plt.savefig(r\"H:\\task\\paper\\word\\w14-DTS\\初稿\\pic\\p1.png\",dpi = 600)"
   ]
  },
  {
   "cell_type": "code",
   "execution_count": 225,
   "metadata": {},
   "outputs": [],
   "source": [
    "#统计偏移相应曲线\n",
    "nsta = len(sta_all.index)\n",
    "ob1 = np.zeros(nsta)\n",
    "fo1 = np.zeros(nsta)\n",
    "ob1[:] = sta_all_pdf[\"ob\"].values[:]\n",
    "fo1[:] = sta_all_pdf[\"ec_pdf\"].values[:]"
   ]
  },
  {
   "cell_type": "code",
   "execution_count": 226,
   "metadata": {},
   "outputs": [],
   "source": [
    "method_list = [mem.pc,mem.pod,mem.sr,mem.ts,mem.ets,mem.hk_yesorno,mem.hss_yesorno,mem.dts]\n",
    "gfo = np.arange(50,-51,-1)\n",
    "grade0 = 50\n",
    "result_move50 = np.zeros((len(method_list),gfo.size))\n",
    "for j in range(gfo.size):\n",
    "    fo2 = fo1 + gfo[j]\n",
    "    for i in range(len(method_list)):\n",
    "        result_move50[i,j] = method_list[i](ob1,fo2,grade_list = [grade0])  "
   ]
  },
  {
   "cell_type": "code",
   "execution_count": 334,
   "metadata": {
    "scrolled": true
   },
   "outputs": [
    {
     "name": "stdout",
     "output_type": "stream",
     "text": [
      "100\n",
      "0\n",
      "100\n",
      "41\n",
      "41\n",
      "3\n",
      "41\n",
      "41\n"
     ]
    },
    {
     "data": {
      "image/png": "[encoded data removed]",
      "text/plain": [
       "<Figure size 432x288 with 1 Axes>"
      ]
     },
     "metadata": {
      "needs_background": "light"
     },
     "output_type": "display_data"
    }
   ],
   "source": [
    "from matplotlib import cm\n",
    "gfo_name = np.arange(0,101,1)\n",
    "colors = [\"darkorange\",\"deepskyblue\",\"peru\",\"r\",\"k\",\"m\",\"g\",\"b\"]\n",
    "\n",
    "for i in range(len(method_list)):\n",
    "    plt.plot(gfo_name,result_move50[i,:],color=colors[i],label = method_names[i],linewidth = 2)\n",
    "    xmax = np.argmax(result_move50[i,:])\n",
    "    ymax = np.max(result_move50[i,:])\n",
    "    plt.plot(xmax,ymax,\"x\",color = colors[i])\n",
    "    print(xmax)\n",
    "        \n",
    "plt.xlim(0,100)\n",
    "plt.xlabel(\"暴雨预报的决策阈值（mm）\")\n",
    "plt.ylim(0,1.2)\n",
    "plt.ylabel(\"评分值\")\n",
    "plt.xticks(np.arange(0,100.01,10))\n",
    "plt.vlines(50,0,1,colors = \"k\", linestyles = \"dashed\")\n",
    "plt.hlines(0.5,0,100,colors = \"k\", linestyles = \"dashed\",linewidth = 1)\n",
    "plt.hlines(1.0,0,100,colors = \"k\",linewidth = 1)\n",
    "plt.legend(ncol = 4,loc = \"upper center\")\n",
    "plt.savefig(r\"H:\\task\\paper\\word\\w14-DTS\\初稿\\pic\\p2.png\",dpi = 600)"
   ]
  },
  {
   "cell_type": "code",
   "execution_count": 324,
   "metadata": {},
   "outputs": [],
   "source": [
    "method_list = [mem.pc,mem.pod,mem.sr,mem.ts,mem.ets,mem.hk_yesorno,mem.hss_yesorno,mem.dts]\n",
    "gfo = np.arange(10.0,-10.01,-1)\n",
    "grade0 = 10.0\n",
    "result_move01 = np.zeros((len(method_list),gfo.size))\n",
    "for j in range(gfo.size):\n",
    "    fo2 = fo1 + gfo[j]\n",
    "    for i in range(len(method_list)):\n",
    "        result_move01[i,j] = method_list[i](ob1,fo2,grade_list = [grade0])"
   ]
  },
  {
   "cell_type": "code",
   "execution_count": 333,
   "metadata": {
    "scrolled": true
   },
   "outputs": [
    {
     "data": {
      "image/png": "[encoded data removed]",
      "text/plain": [
       "<Figure size 432x288 with 1 Axes>"
      ]
     },
     "metadata": {
      "needs_background": "light"
     },
     "output_type": "display_data"
    }
   ],
   "source": [
    "gfo_name = np.arange(0,20.1,1)\n",
    "for i in range(len(method_list)):\n",
    "    plt.plot(gfo_name,result_move01[i,:],color=colors[i],label = method_names[i],linewidth = 2)\n",
    "    xmax = np.argmax(result_move01[i,:])\n",
    "    ymax = np.max(result_move01[i,:])\n",
    "    plt.plot(xmax,ymax,\"x\",color = colors[i])\n",
    "\n",
    "\n",
    "plt.xlim(0,20)\n",
    "plt.xlabel(\"中雨预报的决策阈值(mm)\")\n",
    "plt.ylim(0,1.2)\n",
    "plt.ylabel(\"评分值\")\n",
    "plt.xticks(np.arange(0,20.01,2))\n",
    "plt.vlines(10.0,0,1,colors = \"k\", linestyles = \"dashed\")\n",
    "plt.hlines(0.5,0,20,colors = \"k\", linestyles = \"dashed\",linewidth = 1)\n",
    "plt.hlines(1.0,0,20,colors = \"k\",linewidth = 1)\n",
    "plt.legend(ncol = 4,loc = \"upper center\")\n",
    "plt.savefig(r\"H:\\task\\paper\\word\\w14-DTS\\初稿\\pic\\p3.png\",dpi = 600)"
   ]
  },
  {
   "cell_type": "code",
   "execution_count": 230,
   "metadata": {},
   "outputs": [],
   "source": [
    "sta_summer = meb.in_month_list(sta_all_pdf,[6,7,8])"
   ]
  },
  {
   "cell_type": "code",
   "execution_count": 231,
   "metadata": {},
   "outputs": [],
   "source": [
    "ts_result = mep.score(sta_summer,mem.ts,group_by = \"time\",para1 = [50])"
   ]
  },
  {
   "cell_type": "code",
   "execution_count": 232,
   "metadata": {},
   "outputs": [],
   "source": [
    "dts_result = mep.score(sta_summer,mem.dts,group_by = \"time\",para1 = [50])"
   ]
  },
  {
   "cell_type": "code",
   "execution_count": 312,
   "metadata": {
    "scrolled": false
   },
   "outputs": [
    {
     "data": {
      "image/png": "[encoded data removed]",
      "text/plain": [
       "<Figure size 720x396 with 1 Axes>"
      ]
     },
     "metadata": {
      "needs_background": "light"
     },
     "output_type": "display_data"
    }
   ],
   "source": [
    "x = np.arange(ts_result[0].size)\n",
    "fig = plt.figure(figsize=(10,5.5))\n",
    "plt.plot(x,ts_result[0],'r',label = \"TS\")\n",
    "plt.plot(x,dts_result[0],'b',label = \"DTS\")\n",
    "plt.legend(ncol = 2,loc = \"upper center\",fontsize = 14)\n",
    "plt.ylim(0,1.0)\n",
    "plt.xlim(0,x.size-1)\n",
    "plt.xlabel(\"日期\",fontsize = 14)\n",
    "plt.ylabel(\"评分值\",fontsize = 14)\n",
    "xticks = []\n",
    "xticklabels = []\n",
    "for i in range(x.size):\n",
    "    time1 = meb.tool.time_tools.all_type_time_to_datetime(ts_result[1][i][0])\n",
    "    if time1.day %5 ==0:\n",
    "        xticks.append(i)\n",
    "xticklabels = [\"5日\\n2019年6月\",\"10日\",\"15日\",\"20日\",\"25日\",\"30日\",\"5日\\n7月\",\"10日\",\"15日\",\"20日\",\"25日\",\"30日\",\"5日\\n8月\",\"10日\",\"15日\",\"20日\",\"25日\",\"30日\"]\n",
    "plt.xticks(xticks,xticklabels,fontsize = 12)\n",
    "plt.yticks(np.arange(0.1,1,0.2),fontsize = 12)\n",
    "plt.grid()\n",
    "plt.savefig(r\"H:\\task\\paper\\word\\w14-DTS\\初稿\\pic\\p4.png\",dpi = 600)"
   ]
  },
  {
   "cell_type": "code",
   "execution_count": 263,
   "metadata": {},
   "outputs": [],
   "source": [
    "ob0 = np.zeros(nsta)\n",
    "fo0 = np.zeros(nsta)\n",
    "ob0[:] = sta_all[\"ob\"].values[:]\n",
    "fo0[:] = sta_all[\"ecmwf\"].values[:]"
   ]
  },
  {
   "cell_type": "code",
   "execution_count": 340,
   "metadata": {},
   "outputs": [],
   "source": [
    "method_list3 = [mem.ts,mem.dts,mem.bias]\n",
    "method_names3 = [\"TS\",\"DTS\",\"BIAS\"]\n",
    "result = np.zeros((len(method_list3),len(grade_list)))\n",
    "for i in range(len(method_list3)):\n",
    "    result[i,:] = mep.score(sta_all,method_list3[i],para1 = grade_list)[0]"
   ]
  },
  {
   "cell_type": "code",
   "execution_count": 314,
   "metadata": {},
   "outputs": [
    {
     "data": {
      "image/png": "[encoded data removed]",
      "text/plain": [
       "<Figure size 432x288 with 1 Axes>"
      ]
     },
     "metadata": {
      "needs_background": "light"
     },
     "output_type": "display_data"
    }
   ],
   "source": [
    "x = np.arange(len(method_list3))\n",
    "for i in range(len(grade_list)):\n",
    "    x1 = x - (len(method_list3)/2 - i) * (0.5/len(grade_list))\n",
    "    plt.bar(x1,result[:,i],width = 0.4/len(grade_list),label =\">=\" + str(grade_list[i])+\"mm\")\n",
    "plt.xticks(x,method_names3)\n",
    "plt.ylim(0,1.7)\n",
    "plt.xlim(-0.5,2.5)\n",
    "plt.xlabel(\"评分方法\")\n",
    "plt.ylabel(\"评分值\")\n",
    "plt.hlines(0.5,-1,8,colors = \"k\", linestyles = \"dashed\",linewidth = 1)\n",
    "plt.hlines(1.0,-1,8,colors = \"k\",linewidth = 1,linestyles = \"dashed\")\n",
    "plt.legend(ncol = 2,loc = \"upper left\")\n",
    "plt.savefig(r\"H:\\task\\paper\\word\\w14-DTS\\初稿\\pic\\p5.png\",dpi = 600)"
   ]
  },
  {
   "cell_type": "code",
   "execution_count": 280,
   "metadata": {},
   "outputs": [
    {
     "data": {
      "text/plain": [
       "array([[0.55741291, 0.39128442, 0.2674415 , 0.16273714, 0.08110065],\n",
       "       [0.61740251, 0.66037184, 0.61993807, 0.57695322, 0.53981762],\n",
       "       [1.5964266 , 1.18947713, 0.91612782, 0.76188102, 0.57323498]])"
      ]
     },
     "execution_count": 280,
     "metadata": {},
     "output_type": "execute_result"
    }
   ],
   "source": [
    "result"
   ]
  },
  {
   "cell_type": "code",
   "execution_count": 337,
   "metadata": {},
   "outputs": [
    {
     "data": {
      "text/plain": [
       "array([[250226., 179639.,  19041., 417176.]])"
      ]
     },
     "execution_count": 337,
     "metadata": {},
     "output_type": "execute_result"
    }
   ],
   "source": [
    "#小雨的hfmc\n",
    "mem.hfmc(sta_all[\"ob\"].values,sta_all[\"ecmwf\"].values,grade_list = [0.1])"
   ]
  },
  {
   "cell_type": "code",
   "execution_count": 338,
   "metadata": {},
   "outputs": [
    {
     "data": {
      "text/plain": [
       "array([[ 37568.,  35002.,  23442., 770070.]])"
      ]
     },
     "execution_count": 338,
     "metadata": {},
     "output_type": "execute_result"
    }
   ],
   "source": [
    "#小雨的hfmc\n",
    "mem.hfmc(sta_all[\"ob\"].values,sta_all[\"ecmwf\"].values,grade_list = [10])"
   ]
  },
  {
   "cell_type": "code",
   "execution_count": 342,
   "metadata": {},
   "outputs": [],
   "source": [
    "gfo = np.arange(0.0,2.0,0.1)\n",
    "grade0 = 0.1\n",
    "result_move01 = np.zeros((len(method_list3),gfo.size))\n",
    "for j in range(gfo.size):\n",
    "    fo2 = fo0 - gfo[j]\n",
    "    for i in range(len(method_list3)):\n",
    "        result_move01[i,j] = method_list3[i](ob0,fo2,grade_list = [grade0])   "
   ]
  },
  {
   "cell_type": "code",
   "execution_count": 343,
   "metadata": {},
   "outputs": [
    {
     "data": {
      "image/png": "[encoded data removed]",
      "text/plain": [
       "<Figure size 432x288 with 1 Axes>"
      ]
     },
     "metadata": {
      "needs_background": "light"
     },
     "output_type": "display_data"
    }
   ],
   "source": [
    "gfo_name = np.arange(0.1,2.01,0.1)\n",
    "colors = [\"r\",\"b\",\"k\"]\n",
    "for i in range(len(method_list3)):\n",
    "    plt.plot(gfo_name,result_move01[i,:],color=colors[i],label = method_names3[i],linewidth = 2)\n",
    "    xmax = np.argmax(result_move01[i,:]) * 0.1 + 0.1\n",
    "    ymax = np.max(result_move01[i,:])\n",
    "    if i<2:\n",
    "        plt.plot(xmax,ymax,\"x\",color = colors[i])\n",
    "    else:\n",
    "        plt.plot(1.1,1,\"o\",color = colors[i])\n",
    "\n",
    "plt.xticks(np.arange(0,2.0,0.2))\n",
    "plt.xlim(0.1,2.0)\n",
    "plt.xlabel(\"小雨预报的决策阈值\")\n",
    "plt.ylim(0.5,1.6)\n",
    "plt.ylabel(\"评分值\")\n",
    "#plt.hlines(0.5,0,20,colors = \"k\", linestyles = \"dashed\",linewidth = 1)\n",
    "#plt.hlines(1.0,0,20,colors = \"k\",linestyles = \"dashed\",linewidth = 1)\n",
    "plt.legend(ncol = 4,loc = \"upper center\")\n",
    "plt.grid()\n",
    "plt.savefig(r\"H:\\task\\paper\\word\\w14-DTS\\初稿\\pic\\p6.png\",dpi = 600)"
   ]
  },
  {
   "cell_type": "code",
   "execution_count": 344,
   "metadata": {},
   "outputs": [
    {
     "data": {
      "text/plain": [
       "0.6979221085473593"
      ]
     },
     "execution_count": 344,
     "metadata": {},
     "output_type": "execute_result"
    }
   ],
   "source": [
    "np.max(result_move01[1,:])"
   ]
  },
  {
   "cell_type": "code",
   "execution_count": 345,
   "metadata": {},
   "outputs": [
    {
     "data": {
      "text/plain": [
       "array([[0.55741291, 0.58418386, 0.59167542, 0.60132285, 0.60563471,\n",
       "        0.60667586, 0.60667827, 0.60627554, 0.60424699, 0.60060611,\n",
       "        0.59876002, 0.59420046, 0.59182223, 0.586822  , 0.58120463,\n",
       "        0.57842234, 0.57271273, 0.5697488 , 0.56373956, 0.55738683],\n",
       "       [0.61740251, 0.65440466, 0.6652321 , 0.68001215, 0.68856043,\n",
       "        0.69153805, 0.69533668, 0.69660779, 0.69792211, 0.69764028,\n",
       "        0.69737443, 0.69604382, 0.69525987, 0.69343116, 0.69094104,\n",
       "        0.68965337, 0.68691691, 0.685436  , 0.68234069, 0.67899273],\n",
       "       [1.5964266 , 1.43313514, 1.37579429, 1.28554557, 1.21514705,\n",
       "        1.18443404, 1.12879038, 1.10514099, 1.06132575, 1.02227157,\n",
       "        1.00440084, 0.97066852, 0.95456926, 0.92373741, 0.89608084,\n",
       "        0.8833537 , 0.85894298, 0.84731883, 0.82541492, 0.80377098]])"
      ]
     },
     "execution_count": 345,
     "metadata": {},
     "output_type": "execute_result"
    }
   ],
   "source": [
    "result_move01"
   ]
  },
  {
   "cell_type": "markdown",
   "metadata": {},
   "source": [
    "以下为理想实验"
   ]
  },
  {
   "cell_type": "code",
   "execution_count": 81,
   "metadata": {},
   "outputs": [],
   "source": [
    "import numpy as np\n",
    "sample_count = 100000\n",
    "ob_data=np.random.randn(sample_count)   #观测是正态分布的随机数据"
   ]
  },
  {
   "cell_type": "code",
   "execution_count": 60,
   "metadata": {},
   "outputs": [],
   "source": [
    "threshold = 0\n",
    "ob = np.zeros(sample_count)\n",
    "ob[ob_data>=threshold] = 1                #定义ob_data >=0 的为的样本为观测事件发生的样本"
   ]
  },
  {
   "cell_type": "code",
   "execution_count": 61,
   "metadata": {},
   "outputs": [],
   "source": [
    "fo_data = ob_data + np.random.randn(sample_count)*100     #预报数据是观测数据的基础上加上大幅的随机扰动，相当于随机预报\n",
    "fo1 = np.zeros(sample_count)\n",
    "fo1[fo_data>=threshold] = 1                #定义fo_data >=0 的为的样本为预报事件发生的样本"
   ]
  },
  {
   "cell_type": "code",
   "execution_count": 62,
   "metadata": {},
   "outputs": [
    {
     "data": {
      "text/plain": [
       "array([[25152., 24921., 24941., 24986.]])"
      ]
     },
     "execution_count": 62,
     "metadata": {},
     "output_type": "execute_result"
    }
   ],
   "source": [
    "mem.hfmc(ob,fo1)             #A, B，C,  D"
   ]
  },
  {
   "cell_type": "code",
   "execution_count": 63,
   "metadata": {},
   "outputs": [
    {
     "data": {
      "text/plain": [
       "array([0.33529741])"
      ]
     },
     "execution_count": 63,
     "metadata": {},
     "output_type": "execute_result"
    }
   ],
   "source": [
    "mem.ts(ob,fo1)            #TS评分"
   ]
  },
  {
   "cell_type": "code",
   "execution_count": 64,
   "metadata": {},
   "outputs": [
    {
     "data": {
      "text/plain": [
       "array([0.33456031])"
      ]
     },
     "execution_count": 64,
     "metadata": {},
     "output_type": "execute_result"
    }
   ],
   "source": [
    "mem.dts(ob,fo1)      #DTS评分"
   ]
  },
  {
   "cell_type": "code",
   "execution_count": 65,
   "metadata": {},
   "outputs": [
    {
     "data": {
      "text/plain": [
       "array([0.249535])"
      ]
     },
     "execution_count": 65,
     "metadata": {},
     "output_type": "execute_result"
    }
   ],
   "source": [
    "fo2 = np.zeros(sample_count)  #持续性预报， 都不报的DTS评分\n",
    "mem.dts(ob,fo2)"
   ]
  },
  {
   "cell_type": "code",
   "execution_count": 75,
   "metadata": {},
   "outputs": [
    {
     "data": {
      "text/plain": [
       "array([0.])"
      ]
     },
     "execution_count": 75,
     "metadata": {},
     "output_type": "execute_result"
    }
   ],
   "source": [
    "fo2 = np.zeros(sample_count)  #持续性预报， 都不报的TS评分\n",
    "mem.ts(ob,fo2)"
   ]
  },
  {
   "cell_type": "code",
   "execution_count": 66,
   "metadata": {},
   "outputs": [
    {
     "data": {
      "text/plain": [
       "array([0.250465])"
      ]
     },
     "execution_count": 66,
     "metadata": {},
     "output_type": "execute_result"
    }
   ],
   "source": [
    "fo3 = np.ones(sample_count)  #持续性预报， 都不报DTS\n",
    "mem.dts(ob,fo3)"
   ]
  },
  {
   "cell_type": "code",
   "execution_count": 82,
   "metadata": {},
   "outputs": [
    {
     "data": {
      "text/plain": [
       "array([0.50093])"
      ]
     },
     "execution_count": 82,
     "metadata": {},
     "output_type": "execute_result"
    }
   ],
   "source": [
    "fo3 = np.ones(sample_count)  #持续性预报， 都不报TS\n",
    "mem.ts(ob,fo3)"
   ]
  },
  {
   "cell_type": "code",
   "execution_count": 80,
   "metadata": {},
   "outputs": [
    {
     "data": {
      "image/png": "[encoded data removed]",
      "text/plain": [
       "<Figure size 432x288 with 1 Axes>"
      ]
     },
     "metadata": {
      "needs_background": "light"
     },
     "output_type": "display_data"
    }
   ],
   "source": [
    "threshold = 0\n",
    "ob = np.zeros(sample_count)\n",
    "ob[ob_data>=threshold] = 1                #定义ob_data >=0 的为的样本为观测事件发生的样本\n",
    "fo_data7 = ob_data + np.random.randn(sample_count)*100    #预报数据是观测数据的基础上加上大幅的随机扰动，相当于随机预报\n",
    "\n",
    "threshold_fo = np.arange(-1000,1000,10)\n",
    "ts_a = np.zeros(threshold_fo.size)\n",
    "dts_a = np.zeros(threshold_fo.size)\n",
    "for i in range(threshold_fo.size):\n",
    "    fo7 = np.zeros(sample_count)\n",
    "    fo7[fo_data7>=threshold_fo[i]] = 1                #定义fo_data >=0 的为的样本为预报事件发生的样本\n",
    "    dts_a[i]=mem.dts(ob,fo7)\n",
    "    ts_a[i] = mem.ts(ob,fo7)\n",
    "    \n",
    "plt.plot(threshold_fo,ts_a,'r',label = \"TS\")\n",
    "plt.plot(threshold_fo,dts_a,'b',label = \"DTS\")\n",
    "plt.legend()\n",
    "plt.grid()"
   ]
  },
  {
   "cell_type": "markdown",
   "metadata": {},
   "source": [
    "以下分析有预报技巧情况下的评分"
   ]
  },
  {
   "cell_type": "code",
   "execution_count": 67,
   "metadata": {},
   "outputs": [
    {
     "data": {
      "text/plain": [
       "array([0.59942405])"
      ]
     },
     "execution_count": 67,
     "metadata": {},
     "output_type": "execute_result"
    }
   ],
   "source": [
    "fo_data4 = ob_data + np.random.randn(sample_count)*1     #预报数据是观测数据的基础上加上大幅的随机扰动，相当于随机预报\n",
    "fo4 = np.zeros(sample_count)\n",
    "fo4[fo_data4>=threshold] = 1                #定义fo_data >=0 的为的样本为预报事件发生的样本\n",
    "mem.dts(ob,fo4)"
   ]
  },
  {
   "cell_type": "code",
   "execution_count": 68,
   "metadata": {},
   "outputs": [
    {
     "data": {
      "text/plain": [
       "array([0.940165])"
      ]
     },
     "execution_count": 68,
     "metadata": {},
     "output_type": "execute_result"
    }
   ],
   "source": [
    "fo_data5 = ob_data + np.random.randn(sample_count)*0.1     #预报数据是观测数据的基础上加上大幅的随机扰动，相当于随机预报\n",
    "fo5 = np.zeros(sample_count)\n",
    "fo5[fo_data5>=threshold] = 1                #定义fo_data >=0 的为的样本为预报事件发生的样本\n",
    "mem.dts(ob,fo5)"
   ]
  },
  {
   "cell_type": "code",
   "execution_count": 69,
   "metadata": {},
   "outputs": [
    {
     "data": {
      "text/plain": [
       "<matplotlib.legend.Legend at 0xe00ae48>"
      ]
     },
     "execution_count": 69,
     "metadata": {},
     "output_type": "execute_result"
    },
    {
     "data": {
      "image/png": "[encoded data removed]",
      "text/plain": [
       "<Figure size 432x288 with 1 Axes>"
      ]
     },
     "metadata": {
      "needs_background": "light"
     },
     "output_type": "display_data"
    }
   ],
   "source": [
    "threshold = 0.0\n",
    "ob = np.zeros(sample_count)\n",
    "ob[ob_data>=threshold] = 1                #定义ob_data >=0 的为的样本为观测事件发生的样本\n",
    "a = np.arange(0,2,0.1)\n",
    "ts_a = np.zeros(a.size)\n",
    "dts_a = np.zeros(a.size)\n",
    "for i in range(a.size):\n",
    "    fo_data6 = ob_data + np.random.randn(sample_count)*a[i]     #预报数据是观测数据的基础上加上大幅的随机扰动，相当于随机预报\n",
    "    fo6 = np.zeros(sample_count)\n",
    "    fo6[fo_data6>=threshold] = 1                #定义fo_data >=0 的为的样本为预报事件发生的样本\n",
    "    dts_a[i]=mem.dts(ob,fo6)\n",
    "    ts_a[i] = mem.ts(ob,fo6)\n",
    "    \n",
    "plt.plot(a,ts_a,'r',label = \"TS\")\n",
    "plt.plot(a,dts_a,'b',label = \"DTS\")\n",
    "plt.legend()"
   ]
  },
  {
   "cell_type": "markdown",
   "metadata": {},
   "source": [
    "以下分析事件发生的概率不为50%的情形"
   ]
  },
  {
   "cell_type": "code",
   "execution_count": 70,
   "metadata": {},
   "outputs": [
    {
     "data": {
      "text/plain": [
       "<matplotlib.legend.Legend at 0xe0fbc18>"
      ]
     },
     "execution_count": 70,
     "metadata": {},
     "output_type": "execute_result"
    },
    {
     "data": {
      "image/png": "[encoded data removed]",
      "text/plain": [
       "<Figure size 432x288 with 1 Axes>"
      ]
     },
     "metadata": {
      "needs_background": "light"
     },
     "output_type": "display_data"
    }
   ],
   "source": [
    "threshold = 0.5\n",
    "ob = np.zeros(sample_count)\n",
    "ob[ob_data>=threshold] = 1                #定义ob_data >=0 的为的样本为观测事件发生的样本\n",
    "a = np.arange(0,2,0.1)\n",
    "ts_a = np.zeros(a.size)\n",
    "dts_a = np.zeros(a.size)\n",
    "for i in range(a.size):\n",
    "    fo_data6 = ob_data + np.random.randn(sample_count)*a[i]     #预报数据是观测数据的基础上加上大幅的随机扰动，相当于随机预报\n",
    "    fo6 = np.zeros(sample_count)\n",
    "    fo6[fo_data6>=threshold] = 1                #定义fo_data >=0 的为的样本为预报事件发生的样本\n",
    "    dts_a[i]=mem.dts(ob,fo6)\n",
    "    ts_a[i] = mem.ts(ob,fo6)\n",
    "    \n",
    "plt.plot(a,ts_a,'r',label = \"TS\")\n",
    "plt.plot(a,dts_a,'b',label = \"DTS\")\n",
    "plt.legend()"
   ]
  },
  {
   "cell_type": "code",
   "execution_count": 71,
   "metadata": {},
   "outputs": [
    {
     "data": {
      "text/plain": [
       "<matplotlib.legend.Legend at 0xdf07f60>"
      ]
     },
     "execution_count": 71,
     "metadata": {},
     "output_type": "execute_result"
    },
    {
     "data": {
      "image/png": "[encoded data removed]",
      "text/plain": [
       "<Figure size 432x288 with 1 Axes>"
      ]
     },
     "metadata": {
      "needs_background": "light"
     },
     "output_type": "display_data"
    }
   ],
   "source": [
    "threshold = -0.5\n",
    "ob = np.zeros(sample_count)\n",
    "ob[ob_data>=threshold] = 1                #定义ob_data >=0 的为的样本为观测事件发生的样本\n",
    "a = np.arange(0,2,0.1)\n",
    "ts_a = np.zeros(a.size)\n",
    "dts_a = np.zeros(a.size)\n",
    "for i in range(a.size):\n",
    "    fo_data6 = ob_data + np.random.randn(sample_count)*a[i]     #预报数据是观测数据的基础上加上大幅的随机扰动，相当于随机预报\n",
    "    fo6 = np.zeros(sample_count)\n",
    "    fo6[fo_data6>=threshold] = 1                #定义fo_data >=0 的为的样本为预报事件发生的样本\n",
    "    dts_a[i]=mem.dts(ob,fo6)\n",
    "    ts_a[i] = mem.ts(ob,fo6)\n",
    "    \n",
    "plt.plot(a,ts_a,'r',label = \"TS\")\n",
    "plt.plot(a,dts_a,'b',label = \"DTS\")\n",
    "plt.legend()"
   ]
  },
  {
   "cell_type": "code",
   "execution_count": 72,
   "metadata": {},
   "outputs": [
    {
     "data": {
      "text/plain": [
       "<matplotlib.legend.Legend at 0xe11cd30>"
      ]
     },
     "execution_count": 72,
     "metadata": {},
     "output_type": "execute_result"
    },
    {
     "data": {
      "image/png": "[encoded data removed]",
      "text/plain": [
       "<Figure size 432x288 with 1 Axes>"
      ]
     },
     "metadata": {
      "needs_background": "light"
     },
     "output_type": "display_data"
    }
   ],
   "source": [
    "threshold = 0.0\n",
    "ob = np.zeros(sample_count)\n",
    "ob[ob_data>=threshold] = 1                #定义ob_data >=0 的为的样本为观测事件发生的样本\n",
    "fo_data7 = ob_data + np.random.randn(sample_count)*0.5     #预报数据是观测数据的基础上加上大幅的随机扰动，相当于随机预报\n",
    "\n",
    "threshold_fo = np.arange(-1,1.01,0.1)\n",
    "ts_a = np.zeros(threshold_fo.size)\n",
    "dts_a = np.zeros(threshold_fo.size)\n",
    "for i in range(threshold_fo.size):\n",
    "    fo7 = np.zeros(sample_count)\n",
    "    fo7[fo_data7>=threshold_fo[i]] = 1                #定义fo_data >=0 的为的样本为预报事件发生的样本\n",
    "    dts_a[i]=mem.dts(ob,fo7)\n",
    "    ts_a[i] = mem.ts(ob,fo7)\n",
    "    \n",
    "plt.plot(threshold_fo,ts_a,'r',label = \"TS\")\n",
    "plt.plot(threshold_fo,dts_a,'b',label = \"DTS\")\n",
    "plt.legend()"
   ]
  },
  {
   "cell_type": "code",
   "execution_count": 73,
   "metadata": {},
   "outputs": [
    {
     "data": {
      "image/png": "[encoded data removed]",
      "text/plain": [
       "<Figure size 432x288 with 1 Axes>"
      ]
     },
     "metadata": {
      "needs_background": "light"
     },
     "output_type": "display_data"
    }
   ],
   "source": [
    "threshold = 0.5\n",
    "ob = np.zeros(sample_count)\n",
    "ob[ob_data>=threshold] = 1                #定义ob_data >=0 的为的样本为观测事件发生的样本\n",
    "fo_data7 = ob_data + np.random.randn(sample_count)*0.5     #预报数据是观测数据的基础上加上大幅的随机扰动，相当于随机预报\n",
    "\n",
    "threshold_fo = np.arange(-0.5,1.51,0.1)\n",
    "ts_a = np.zeros(threshold_fo.size)\n",
    "dts_a = np.zeros(threshold_fo.size)\n",
    "for i in range(threshold_fo.size):\n",
    "    fo7 = np.zeros(sample_count)\n",
    "    fo7[fo_data7>=threshold_fo[i]] = 1                #定义fo_data >=0 的为的样本为预报事件发生的样本\n",
    "    dts_a[i]=mem.dts(ob,fo7)\n",
    "    ts_a[i] = mem.ts(ob,fo7)\n",
    "    \n",
    "plt.plot(threshold_fo,ts_a,'r',label = \"TS\")\n",
    "plt.plot(threshold_fo,dts_a,'b',label = \"DTS\")\n",
    "plt.legend()\n",
    "plt.grid()"
   ]
  },
  {
   "cell_type": "code",
   "execution_count": 74,
   "metadata": {},
   "outputs": [
    {
     "data": {
      "image/png": "[encoded data removed]",
      "text/plain": [
       "<Figure size 432x288 with 1 Axes>"
      ]
     },
     "metadata": {
      "needs_background": "light"
     },
     "output_type": "display_data"
    }
   ],
   "source": [
    "threshold = -0.5\n",
    "ob = np.zeros(sample_count)\n",
    "ob[ob_data>=threshold] = 1                #定义ob_data >=0 的为的样本为观测事件发生的样本\n",
    "fo_data7 = ob_data + np.random.randn(sample_count)*0.5    #预报数据是观测数据的基础上加上大幅的随机扰动，相当于随机预报\n",
    "\n",
    "threshold_fo = np.arange(-1.5,0.51,0.1)\n",
    "ts_a = np.zeros(threshold_fo.size)\n",
    "dts_a = np.zeros(threshold_fo.size)\n",
    "for i in range(threshold_fo.size):\n",
    "    fo7 = np.zeros(sample_count)\n",
    "    fo7[fo_data7>=threshold_fo[i]] = 1                #定义fo_data >=0 的为的样本为预报事件发生的样本\n",
    "    dts_a[i]=mem.dts(ob,fo7)\n",
    "    ts_a[i] = mem.ts(ob,fo7)\n",
    "    \n",
    "plt.plot(threshold_fo,ts_a,'r',label = \"TS\")\n",
    "plt.plot(threshold_fo,dts_a,'b',label = \"DTS\")\n",
    "plt.legend()\n",
    "plt.grid()"
   ]
  },
  {
   "cell_type": "code",
   "execution_count": null,
   "metadata": {},
   "outputs": [],
   "source": []
  }
 ],
 "metadata": {
  "kernelspec": {
   "display_name": "Python 3",
   "language": "python",
   "name": "python3"
  },
  "language_info": {
   "codemirror_mode": {
    "name": "ipython",
    "version": 3
   },
   "file_extension": ".py",
   "mimetype": "text/x-python",
   "name": "python",
   "nbconvert_exporter": "python",
   "pygments_lexer": "ipython3",
   "version": "3.7.1"
  }
 },
 "nbformat": 4,
 "nbformat_minor": 2
}
