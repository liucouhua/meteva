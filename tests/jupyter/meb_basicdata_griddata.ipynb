{
 "cells": [
  {
   "cell_type": "code",
   "execution_count": 1,
   "metadata": {},
   "outputs": [],
   "source": [
    "%matplotlib inline\n",
    "%load_ext autoreload\n",
    "%autoreload 2\n",
    "import meteva.base as meb\n",
    "import numpy as np\n",
    "import datetime"
   ]
  },
  {
   "cell_type": "markdown",
   "metadata": {},
   "source": [
    "为了方便在程序中共享网格设置，本模块中将网格信息封装成一个grid类变量。  \n",
    "<font face=\"黑体\" color=blue size=5>网格信息类</font>\n",
    "\n",
    "**class grid**  \n",
    " \\_\\_init\\_\\_(self,glon, glat, gtime=None, dtime_list=None,level_list=None,member_list = None)     \n",
    "\n",
    "**参数说明：**  \n",
    "  glon : 经向网格信息：[起始经度，终止经度，经向间隔]  \n",
    "  glat : 纬向网格信息：[起始纬度，终止纬度，纬向间隔]  \n",
    "  gtime : 时间网格信息：若gtime只包含1个元  素，其内容为datetime变量，或者常用字符形式时间，例如\"2019123108\"、\"2019-12-31:08\"或\"19年12月31日08时\"等方式都能兼容。若gtime包含三个元素，其内容为[起始时间,结束时间,时间间隔], 其中时间格式可以是datetime变量或者字符串形式，时间间隔为字符串，例如\"12h\"代表12小时，\"30m\"代表30分钟。    \n",
    "  dtime_list : 时效列表,其元素dtime为整数，若取值小于10000，则dtime的单位为小时，若取值大10000，则  时效 = (dtime - 10000)分钟  \n",
    "  level_list : 层次名称列表  \n",
    "  member_list : -成员名称列表  \n",
    "\n",
    "**其初始化方式如以下示例**"
   ]
  },
  {
   "cell_type": "code",
   "execution_count": 2,
   "metadata": {},
   "outputs": [
    {
     "name": "stdout",
     "output_type": "stream",
     "text": [
      "members:['data0']\n",
      "levels:[0]\n",
      "gtime:['20990101000000', '20990101000000', '1h']\n",
      "dtimes:[0]\n",
      "glon:[100, 110.0, 1]\n",
      "glat:[22, 20.0, -1]\n",
      "\n"
     ]
    }
   ],
   "source": [
    "grid0 = meb.grid([100,110,1],[22,20,-1])  #初始化一个网格，其中时间、时效、层次和成员信息都暂时使用缺省设置\n",
    "print(grid0)"
   ]
  },
  {
   "cell_type": "code",
   "execution_count": 3,
   "metadata": {},
   "outputs": [
    {
     "name": "stdout",
     "output_type": "stream",
     "text": [
      "members:['GRAPES']\n",
      "levels:[0]\n",
      "gtime:['20190131080000', '20190201080000', '24h']\n",
      "dtimes:[24]\n",
      "glon:[100, 110.0, 1]\n",
      "glat:[22, 20.0, -1]\n",
      "\n"
     ]
    }
   ],
   "source": [
    "grid0 = meb.grid([100,110,1],[22,20,-1],gtime=[\"2019013108\",\"2019020108\",\"24h\"],dtime_list = [24],level_list = [0],member_list = [\"GRAPES\"])\n",
    "print(grid0)"
   ]
  },
  {
   "cell_type": "markdown",
   "metadata": {},
   "source": [
    "<font face=\"黑体\" color=blue size=5>网格数据类</font>  \n",
    "格式为[xarray.DataArray](http://xarray.pydata.org/en/stable/data-structures.html)的数据。本函数库提供了对该网格数据的一序列初始化、读写和转换函数，经过本函数库初始化、读取或转换生成的网格数据统一具备顺序为member，level，time，dtime，lat，lon 共6个维度的坐标，其中水平方向为等经纬度坐标。\n",
    "\n",
    "### 初始化网格数据\n",
    "**grid_data（grid,data=None）**  \n",
    "根据网格信息初始化一个网格数据\n",
    "\n",
    "**参数说明：**  \n",
    " grid: 网格信息类变量  \n",
    " data: numpy数组，缺省时生成内容全为0的网格数据  \n",
    " return: xarray.DataArray格式数据，其中依次包含member，level，time，dtime，lat，lon共6个维度的信息。\n",
    "\n",
    "\n",
    "**调用示例**"
   ]
  },
  {
   "cell_type": "code",
   "execution_count": 4,
   "metadata": {},
   "outputs": [
    {
     "name": "stdout",
     "output_type": "stream",
     "text": [
      "<xarray.DataArray 'data0' (member: 1, level: 1, time: 2, dtime: 1, lat: 3, lon: 11)>\n",
      "array([[[[[[0., 0., 0., 0., 0., 0., 0., 0., 0., 0., 0.],\n",
      "           [0., 0., 0., 0., 0., 0., 0., 0., 0., 0., 0.],\n",
      "           [0., 0., 0., 0., 0., 0., 0., 0., 0., 0., 0.]]],\n",
      "\n",
      "\n",
      "         [[[0., 0., 0., 0., 0., 0., 0., 0., 0., 0., 0.],\n",
      "           [0., 0., 0., 0., 0., 0., 0., 0., 0., 0., 0.],\n",
      "           [0., 0., 0., 0., 0., 0., 0., 0., 0., 0., 0.]]]]]])\n",
      "Coordinates:\n",
      "  * member   (member) <U6 'GRAPES'\n",
      "  * level    (level) int32 0\n",
      "  * time     (time) datetime64[ns] 2019-01-31T08:00:00 2019-02-01T08:00:00\n",
      "  * dtime    (dtime) int32 24\n",
      "  * lat      (lat) int32 22 21 20\n",
      "  * lon      (lon) int32 100 101 102 103 104 105 106 107 108 109 110\n"
     ]
    }
   ],
   "source": [
    "grd = meb.grid_data(grid0)  #根据网格信息生成网格数据，网格值都为0\n",
    "print(grd)"
   ]
  },
  {
   "cell_type": "code",
   "execution_count": 5,
   "metadata": {},
   "outputs": [
    {
     "name": "stdout",
     "output_type": "stream",
     "text": [
      "<xarray.DataArray 'data0' (member: 1, level: 1, time: 2, dtime: 1, lat: 3, lon: 11)>\n",
      "array([[[[[[ 0,  1,  2,  3,  4,  5,  6,  7,  8,  9, 10],\n",
      "           [ 0,  1,  2,  3,  4,  5,  6,  7,  8,  9, 10],\n",
      "           [ 0,  1,  2,  3,  4,  5,  6,  7,  8,  9, 10]]],\n",
      "\n",
      "\n",
      "         [[[ 0,  0,  0,  0,  0,  0,  0,  0,  0,  0,  0],\n",
      "           [ 1,  1,  1,  1,  1,  1,  1,  1,  1,  1,  1],\n",
      "           [ 2,  2,  2,  2,  2,  2,  2,  2,  2,  2,  2]]]]]])\n",
      "Coordinates:\n",
      "  * member   (member) <U6 'GRAPES'\n",
      "  * level    (level) int32 0\n",
      "  * time     (time) datetime64[ns] 2019-01-31T08:00:00 2019-02-01T08:00:00\n",
      "  * dtime    (dtime) int32 24\n",
      "  * lat      (lat) int32 22 21 20\n",
      "  * lon      (lon) int32 100 101 102 103 104 105 106 107 108 109 110\n"
     ]
    }
   ],
   "source": [
    "x= np.arange(11)\n",
    "y= np.arange(3)\n",
    "xx,yy = np.meshgrid(x,y)\n",
    "dat = np.array([xx,yy])\n",
    "grd = meb.grid_data(grid0,dat)   #根据网格信息和numpy数组生成网格数\n",
    "print(grd)"
   ]
  },
  {
   "cell_type": "markdown",
   "metadata": {},
   "source": [
    "### 重置网格数据\n",
    "**reset（grd）**  \n",
    "将网格的经向坐标调整为由西向东递增，由南向北递增  \n",
    "\n",
    "**参数说明：**  \n",
    " grd: 网格数据  \n",
    " return: None\n",
    "\n",
    "\n",
    "**调用示例**"
   ]
  },
  {
   "cell_type": "code",
   "execution_count": 6,
   "metadata": {},
   "outputs": [
    {
     "name": "stdout",
     "output_type": "stream",
     "text": [
      "\n",
      "<xarray.DataArray 'data0' (member: 1, level: 1, time: 2, dtime: 1, lat: 3, lon: 11)>\n",
      "array([[[[[[ 0,  1,  2,  3,  4,  5,  6,  7,  8,  9, 10],\n",
      "           [ 0,  1,  2,  3,  4,  5,  6,  7,  8,  9, 10],\n",
      "           [ 0,  1,  2,  3,  4,  5,  6,  7,  8,  9, 10]]],\n",
      "\n",
      "\n",
      "         [[[ 2,  2,  2,  2,  2,  2,  2,  2,  2,  2,  2],\n",
      "           [ 1,  1,  1,  1,  1,  1,  1,  1,  1,  1,  1],\n",
      "           [ 0,  0,  0,  0,  0,  0,  0,  0,  0,  0,  0]]]]]])\n",
      "Coordinates:\n",
      "  * member   (member) <U6 'GRAPES'\n",
      "  * level    (level) int32 0\n",
      "  * time     (time) datetime64[ns] 2019-01-31T08:00:00 2019-02-01T08:00:00\n",
      "  * dtime    (dtime) int32 24\n",
      "  * lat      (lat) int32 20 21 22\n",
      "  * lon      (lon) int32 100 101 102 103 104 105 106 107 108 109 110\n"
     ]
    }
   ],
   "source": [
    "meb.reset(grd)\n",
    "print(grd)  #重置后坐标及相应的数据都会相应调整"
   ]
  },
  {
   "cell_type": "code",
   "execution_count": 7,
   "metadata": {},
   "outputs": [
    {
     "name": "stdout",
     "output_type": "stream",
     "text": [
      "members:['GRAPES']\n",
      "levels:[0]\n",
      "gtime:['20190131080000', '20190201080000', '24h']\n",
      "dtimes:[24]\n",
      "glon:[100, 110.0, 1]\n",
      "glat:[20, 22.0, 1]\n",
      "\n"
     ]
    }
   ],
   "source": [
    "grid1 = meb.get_grid_of_data(grd) \n",
    "print(grid1)  #打印重置后的网格信息"
   ]
  },
  {
   "cell_type": "markdown",
   "metadata": {},
   "source": [
    "### 设置网格的坐标属性\n",
    "**set_griddata_coords(grd,name = None,gtime = None,dtime_list = None, level_list = None, member_list = None):**  \n",
    "对网格的维度坐标属性进行设置  \n",
    "\n",
    "**参数说明：**  \n",
    " **grd**: 网格数据\n",
    " **name**: 数据内容名称，缺省时不做改变  \n",
    " **level_list**: 层次坐标列表，缺省时不做改变    \n",
    " **gtime**: 时间坐标参数列表，它可以包括3个或1个元素。当grid_data的time维度size=1时，gtime只包含1个元素，其内容为datetime变量，或者常用字符形式时间，例如\"2019123108\"、\"2019-12-31:08\"或\"19年12月31日08时\"等方式都能兼容。如果grid_data的time维度size>1，则gtime包含三个元素其内容为，分别为[起始时间,结束时间,时间间隔], 其中时间格式可以是datetime变量或者字符串形式，时间间隔为字符串，例如\"12h\"代表12小时，\"30m\"代表30分钟。，缺省时不做改变    \n",
    " **gtime_list**: 时效坐标列表,其元素dtime为整数，若取值小于10000，则时效 = dtime小时，若取值大10000，则代表 时效 = (dtime - 10000)分钟，缺省时不做改变    \n",
    " **member_list**: 成员名称列表，缺省时不做改变    \n",
    " return: None  \n",
    "\n",
    "\n",
    "**调用示例**"
   ]
  },
  {
   "cell_type": "code",
   "execution_count": 9,
   "metadata": {},
   "outputs": [
    {
     "name": "stdout",
     "output_type": "stream",
     "text": [
      "gtime对应的时间序列长度和grid_data的time维度的长度不一致\n",
      "<xarray.DataArray 'Temperature' (member: 1, level: 1, time: 2, dtime: 1, lat: 3, lon: 11)>\n",
      "array([[[[[[ 0,  1,  2,  3,  4,  5,  6,  7,  8,  9, 10],\n",
      "           [ 0,  1,  2,  3,  4,  5,  6,  7,  8,  9, 10],\n",
      "           [ 0,  1,  2,  3,  4,  5,  6,  7,  8,  9, 10]]],\n",
      "\n",
      "\n",
      "         [[[ 2,  2,  2,  2,  2,  2,  2,  2,  2,  2,  2],\n",
      "           [ 1,  1,  1,  1,  1,  1,  1,  1,  1,  1,  1],\n",
      "           [ 0,  0,  0,  0,  0,  0,  0,  0,  0,  0,  0]]]]]])\n",
      "Coordinates:\n",
      "  * member   (member) <U6 'GRAPES'\n",
      "  * level    (level) int32 0\n",
      "  * time     (time) datetime64[ns] 2019-01-31T08:00:00 2019-02-01T08:00:00\n",
      "  * dtime    (dtime) int32 24\n",
      "  * lat      (lat) int32 20 21 22\n",
      "  * lon      (lon) int32 100 101 102 103 104 105 106 107 108 109 110\n"
     ]
    }
   ],
   "source": [
    "meb.set_griddata_coords(grd,name = \"Temperature\",level_list = [0],gtime=[\"2019-01-31:08\"],dtime_list = [24],member_list = [\"GRAPES\"])\n",
    "print(grd)"
   ]
  },
  {
   "cell_type": "code",
   "execution_count": 11,
   "metadata": {},
   "outputs": [
    {
     "name": "stdout",
     "output_type": "stream",
     "text": [
      "gtime对应的时间序列长度和grid_data的time维度的长度不一致\n",
      "<xarray.DataArray 'Temperature' (member: 1, level: 1, time: 2, dtime: 1, lat: 3, lon: 11)>\n",
      "array([[[[[[ 0,  1,  2,  3,  4,  5,  6,  7,  8,  9, 10],\n",
      "           [ 0,  1,  2,  3,  4,  5,  6,  7,  8,  9, 10],\n",
      "           [ 0,  1,  2,  3,  4,  5,  6,  7,  8,  9, 10]]],\n",
      "\n",
      "\n",
      "         [[[ 2,  2,  2,  2,  2,  2,  2,  2,  2,  2,  2],\n",
      "           [ 1,  1,  1,  1,  1,  1,  1,  1,  1,  1,  1],\n",
      "           [ 0,  0,  0,  0,  0,  0,  0,  0,  0,  0,  0]]]]]])\n",
      "Coordinates:\n",
      "  * member   (member) <U6 'GRAPES'\n",
      "  * level    (level) int32 0\n",
      "  * time     (time) datetime64[ns] 2019-01-31T08:00:00 2019-02-01T08:00:00\n",
      "  * dtime    (dtime) int32 24\n",
      "  * lat      (lat) int32 20 21 22\n",
      "  * lon      (lon) int32 100 101 102 103 104 105 106 107 108 109 110\n"
     ]
    }
   ],
   "source": [
    "time1 = datetime.datetime(2019,2,1,8,0)\n",
    "meb.set_griddata_coords(grd,gtime=[time1])\n",
    "print(grd)"
   ]
  },
  {
   "cell_type": "code",
   "execution_count": null,
   "metadata": {},
   "outputs": [],
   "source": []
  }
 ],
 "metadata": {
  "kernelspec": {
   "display_name": "Python 3",
   "language": "python",
   "name": "python3"
  },
  "language_info": {
   "codemirror_mode": {
    "name": "ipython",
    "version": 3
   },
   "file_extension": ".py",
   "mimetype": "text/x-python",
   "name": "python",
   "nbconvert_exporter": "python",
   "pygments_lexer": "ipython3",
   "version": "3.7.1"
  }
 },
 "nbformat": 4,
 "nbformat_minor": 2
}
