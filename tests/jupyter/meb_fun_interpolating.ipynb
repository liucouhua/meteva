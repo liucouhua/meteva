{
 "cells": [
  {
   "cell_type": "code",
   "execution_count": 1,
   "metadata": {},
   "outputs": [],
   "source": [
    "%matplotlib inline\n",
    "%load_ext autoreload\n",
    "%autoreload 2\n",
    "import meteva.base as meb\n",
    "import numpy as np"
   ]
  },
  {
   "cell_type": "markdown",
   "metadata": {},
   "source": [
    "### 网格数据插值到站点—临近点插值\n",
    "**interp_gs_nearest(grd,sta,used_coords = \"xy\")**  \n",
    "将水平网格数据插值到平面的离散站点上，对于每一个站点，其取值设置为周围四个网格点中最近的一个格点的取值。    \n",
    "\n",
    "**参数说明：**  \n",
    " **grd**: 网格数据   \n",
    " **sta**: 站点数据         \n",
    " **used_coords**: 插值操作使用的维度，缺省情况下插值操作只在水平方向实现，此时返回的站点数据中id、lon、lat三列的取值会和sta一致，经纬度超出网格范围的站点将被删除，而level,time,dtime参数采用grd里的坐标信息。目前，该函数仅支持该参数缺省时的功能，该参数为其它选项时对应的功能待完善中。  \n",
    " **return**: 站点数据       \n",
    "\n",
    "\n",
    "**调用示例**\n"
   ]
  },
  {
   "cell_type": "code",
   "execution_count": 2,
   "metadata": {
    "scrolled": true
   },
   "outputs": [
    {
     "name": "stdout",
     "output_type": "stream",
     "text": [
      "<xarray.DataArray 'data0' (member: 1, level: 2, time: 1, dtime: 1, lat: 3, lon: 3)>\n",
      "array([[[[[[0, 1, 2],\n",
      "           [0, 1, 2],\n",
      "           [0, 1, 2]]]],\n",
      "\n",
      "\n",
      "\n",
      "        [[[[0, 0, 0],\n",
      "           [1, 1, 1],\n",
      "           [2, 2, 2]]]]]])\n",
      "Coordinates:\n",
      "  * member   (member) <U6 'GRAPES'\n",
      "  * level    (level) int32 500 700\n",
      "  * time     (time) datetime64[ns] 2019-01-31T08:00:00\n",
      "  * dtime    (dtime) int32 24\n",
      "  * lat      (lat) int32 20 21 22\n",
      "  * lon      (lon) int32 100 101 102\n"
     ]
    }
   ],
   "source": [
    "grid0 = meb.grid([100,102,1],[20,22,1],gtime=[\"2019013108\"],dtime_list = [24],level_list = [500,700],member_list = [\"GRAPES\"])\n",
    "x= np.arange(3)\n",
    "y= np.arange(3)\n",
    "dat = np.array(np.meshgrid(x,y))\n",
    "grd = meb.grid_data(grid0,dat)   #根据网格信息和numpy数组生成网格数\n",
    "print(grd)"
   ]
  },
  {
   "cell_type": "code",
   "execution_count": 3,
   "metadata": {},
   "outputs": [
    {
     "name": "stdout",
     "output_type": "stream",
     "text": [
      "      level                time  dtime     id     lon    lat  data0\n",
      "0       600 2099-01-01 08:00:00      0  56790  104.25  25.68      0\n",
      "1       600 2099-01-01 08:00:00      0  51369   87.65  43.97      0\n",
      "2       600 2099-01-01 08:00:00      0  56097  104.25  33.27      0\n",
      "3       600 2099-01-01 08:00:00      0  57413  106.97  30.85      0\n",
      "4       600 2099-01-01 08:00:00      0  54871  122.48  36.93      0\n",
      "...     ...                 ...    ...    ...     ...    ...    ...\n",
      "2412    600 2099-01-01 08:00:00      0  53768  111.75  37.15      0\n",
      "2413    600 2099-01-01 08:00:00      0  58645  119.49  28.46      0\n",
      "2414    600 2099-01-01 08:00:00      0  58444  120.29  30.42      0\n",
      "2415    600 2099-01-01 08:00:00      0  58755  120.39  27.50      0\n",
      "2416    600 2099-01-01 08:00:00      0  48520   99.08  10.32      0\n",
      "\n",
      "[2417 rows x 7 columns]\n"
     ]
    }
   ],
   "source": [
    "station = meb.read_station(meb.station_国家站)  \n",
    "meb.set_stadata_coords(station,level = 600)\n",
    "print(station)"
   ]
  },
  {
   "cell_type": "code",
   "execution_count": 4,
   "metadata": {},
   "outputs": [
    {
     "name": "stdout",
     "output_type": "stream",
     "text": [
      "   level                time  dtime     id     lon    lat  GRAPES\n",
      "0    500 2019-01-31 08:00:00     24  56958  100.47  21.96       0\n",
      "1    500 2019-01-31 08:00:00     24  56959  100.78  22.00       0\n",
      "2    500 2019-01-31 08:00:00     24  56969  101.57  21.47       1\n",
      "3    700 2019-01-31 08:00:00     24  56958  100.47  21.96       1\n",
      "4    700 2019-01-31 08:00:00     24  56959  100.78  22.00       2\n",
      "5    700 2019-01-31 08:00:00     24  56969  101.57  21.47       1\n"
     ]
    }
   ],
   "source": [
    "sta = meb.interp_gs_nearest(grd,station)  \n",
    "print(sta) #used_coords缺省时，返回数据的level,time和dtime和grd里取值一致,由于level有两层，因此插值结果中每个id会出现两次  "
   ]
  },
  {
   "cell_type": "markdown",
   "metadata": {},
   "source": [
    "### 网格数据插值到站点—双线性插值\n",
    "**interp_gs_linear(grd,sta,used_coords =\"xy\")**  \n",
    "将水平网格数据插值到平面的离散站点上，对于每一个站点，其取值利用周围四个网格点进行双线性插值获得      \n",
    "\n",
    "**参数说明：**  \n",
    " **grd**: 网格数据   \n",
    " **sta**: 站点数据         \n",
    " **used_coords**: 插值操作使用的维度，该参数包括如下选项：   \n",
    "    当该参数为\"xy\"时，插值操作只在水平方向实现，此时返回的站点数据中id、lon、lat三列的取值会和sta一致，经纬度超出网格范围的站点将被删除，而level,time,dtime参数采用grd里的坐标信息；   \n",
    "    当该参数为\"xyz\"时，插值操作只在lon,lat,level三个空间维度实现，此时返回的站点数据中id、lon、lat,level四列的取值会和sta一致，经纬度超出网格范围的站点将被删除，而time,dtime参数采用grd里的坐标信息；\n",
    " **return**: 站点数据      \n",
    "\n",
    "\n",
    "**调用示例**"
   ]
  },
  {
   "cell_type": "code",
   "execution_count": 5,
   "metadata": {},
   "outputs": [
    {
     "name": "stdout",
     "output_type": "stream",
     "text": [
      "   level                time  dtime     id     lon    lat  GRAPES\n",
      "0    500 2019-01-31 08:00:00     24  56958  100.47  21.96    0.47\n",
      "1    500 2019-01-31 08:00:00     24  56959  100.78  22.00    0.78\n",
      "2    500 2019-01-31 08:00:00     24  56969  101.57  21.47    1.57\n",
      "3    700 2019-01-31 08:00:00     24  56958  100.47  21.96    1.96\n",
      "4    700 2019-01-31 08:00:00     24  56959  100.78  22.00    2.00\n",
      "5    700 2019-01-31 08:00:00     24  56969  101.57  21.47    1.47\n"
     ]
    }
   ],
   "source": [
    "sta = meb.interp_gs_linear(grd,station)   #在二维平面进行插值，level维度会\n",
    "print(sta) #used_coords缺省时，返回数据的level,time和dtime和grd里取值一致,由于level有两层，因此插值结果中每个id会出现两次  "
   ]
  },
  {
   "cell_type": "code",
   "execution_count": 6,
   "metadata": {},
   "outputs": [
    {
     "name": "stdout",
     "output_type": "stream",
     "text": [
      "      level                time  dtime     id     lon    lat  GRAPES\n",
      "1661    600 2019-01-31 08:00:00     24  56958  100.47  21.96   1.215\n",
      "1662    600 2019-01-31 08:00:00     24  56959  100.78  22.00   1.390\n",
      "1695    600 2019-01-31 08:00:00     24  56969  101.57  21.47   1.520\n"
     ]
    }
   ],
   "source": [
    "sta = meb.interp_gs_linear(grd,station,used_coords = \"xyz\")\n",
    "print(sta) #used_coords缺省时，返回数据的level,time和dtime和grd里取值一致,由于level有两层，因此插值结果中每个id会出现两次  "
   ]
  },
  {
   "cell_type": "code",
   "execution_count": 7,
   "metadata": {},
   "outputs": [
    {
     "name": "stdout",
     "output_type": "stream",
     "text": [
      "dtime维度size = 1,无法开展dtime维度插值\n",
      "None\n"
     ]
    }
   ],
   "source": [
    "sta = meb.interp_gs_linear(grd,station,used_coords = \"xydt\")\n",
    "print(sta) #used_coords缺省时，返回数据的level,time和dtime和grd里取值一致,由于level有两层，因此插值结果中每个id会出现两次 "
   ]
  },
  {
   "cell_type": "markdown",
   "metadata": {},
   "source": [
    "### 网格数据插值到站点—双三次插值\n",
    "**interp_gs_cubic(grd,sta,used_coords = \"xy\")**  \n",
    "将水平网格数据插值到平面的离散站点上，对于每一个站点，其取值利用周围九个网格点进行双三次插值获得      \n",
    "\n",
    "**参数说明：**  \n",
    " **grd**: 网格数据   \n",
    " **sta**: 站点数据         \n",
    " **used_coords**: 插值操作使用的维度，缺省情况下插值操作只在水平方向实现，此时返回的站点数据中id、lon、lat三列的取值会和sta一致，经纬度超出网格范围的站点将被删除，而level,time,dtime参数采用grd里的坐标信息。目前，该函数仅支持该参数缺省时的功能，该参数为其它选项时对应的功能待完善中。  \n",
    " **return**: 站点数据      \n",
    "\n",
    "**调用示例**"
   ]
  },
  {
   "cell_type": "code",
   "execution_count": 8,
   "metadata": {},
   "outputs": [
    {
     "name": "stdout",
     "output_type": "stream",
     "text": [
      "   level                time  dtime     id     lon    lat    GRAPES\n",
      "0    500 2019-01-31 08:00:00     24  56958  100.47  21.96  0.406479\n",
      "1    500 2019-01-31 08:00:00     24  56959  100.78  22.00  0.745108\n",
      "2    500 2019-01-31 08:00:00     24  56969  101.57  21.47  1.634134\n",
      "3    700 2019-01-31 08:00:00     24  56958  100.47  21.96  1.972544\n",
      "4    700 2019-01-31 08:00:00     24  56959  100.78  22.00  2.000000\n",
      "5    700 2019-01-31 08:00:00     24  56969  101.57  21.47  1.531029\n"
     ]
    }
   ],
   "source": [
    "sta =meb.interp_gs_cubic(grd,station)\n",
    "print(sta)"
   ]
  },
  {
   "cell_type": "markdown",
   "metadata": {},
   "source": [
    "### 网格数据插值到网格—双线性插值\n",
    "**interp_gg_linear(grd,grid1,used_coords = \"xy\")**  \n",
    "将水平网格数据插值到平面的离散站点上，对于每一个站点，其取值利用周围四个网格点进行双线性插值获得      \n",
    "\n",
    "**参数说明：**  \n",
    " **grd**: 网格数据(水平方向size不为1，其它维度size=1)   \n",
    " **grid1**: 网格信息类变量，插值的目标网格。       \n",
    " **used_coords**: 插值操作使用的维度，缺省情况下插值操作只在水平方向实现，此时返回的网格数据中lon、lat维度的范围和间距由grid确定，其它维度信息由grd确定   \n",
    " **return**: 网格数据，网格范围由grid1确定          \n",
    "\n",
    "\n",
    "**调用示例**"
   ]
  },
  {
   "cell_type": "code",
   "execution_count": 9,
   "metadata": {},
   "outputs": [
    {
     "name": "stdout",
     "output_type": "stream",
     "text": [
      "<xarray.DataArray 'data0' (member: 1, level: 2, time: 1, dtime: 1, lat: 5, lon: 5)>\n",
      "array([[[[[[0. , 0.5, 1. , 1.5, 2. ],\n",
      "           [0. , 0.5, 1. , 1.5, 2. ],\n",
      "           [0. , 0.5, 1. , 1.5, 2. ],\n",
      "           [0. , 0.5, 1. , 1.5, 2. ],\n",
      "           [0. , 0.5, 1. , 1.5, 2. ]]]],\n",
      "\n",
      "\n",
      "\n",
      "        [[[[0. , 0. , 0. , 0. , 0. ],\n",
      "           [0.5, 0.5, 0.5, 0.5, 0.5],\n",
      "           [1. , 1. , 1. , 1. , 1. ],\n",
      "           [1.5, 1.5, 1.5, 1.5, 1.5],\n",
      "           [2. , 2. , 2. , 2. , 2. ]]]]]])\n",
      "Coordinates:\n",
      "  * member   (member) <U5 'data0'\n",
      "  * level    (level) int32 500 700\n",
      "  * time     (time) datetime64[ns] 2019-01-31T08:00:00\n",
      "  * dtime    (dtime) int32 24\n",
      "  * lat      (lat) float64 20.0 20.5 21.0 21.5 22.0\n",
      "  * lon      (lon) float64 100.0 100.5 101.0 101.5 102.0\n"
     ]
    }
   ],
   "source": [
    "grid1 = meb.grid([100,102,0.5],[20,22,0.5])\n",
    "grd1 = meb.interp_gg_linear(grd,grid1)\n",
    "print(grd1)"
   ]
  },
  {
   "cell_type": "markdown",
   "metadata": {},
   "source": [
    "### 站点数据插值到网格—反距离权重插值\n",
    "**interp_sg_idw(sta, grid1, background=None, effectR=1000, nearNum=8):**\n",
    "将站点数据插值到水平网格上      \n",
    "\n",
    "**参数说明：**  \n",
    " **sta**: 站点数据   \n",
    " **grid1**: 网格信息类变量，插值的目标网格。       \n",
    " **background**: 插值背景场，在远离站点的区域内将采用background的值，如果background为None，则取为0 \n",
    " **effectR**: 最大的插值半径  \n",
    " **nearNum**: 插值选择的临近站点的个数, nearNum 必须大于1    \n",
    " **return**: 网格数据，网格范围由grid1确定          \n",
    "\n",
    "\n",
    "**调用示例**"
   ]
  },
  {
   "cell_type": "code",
   "execution_count": 10,
   "metadata": {},
   "outputs": [
    {
     "name": "stdout",
     "output_type": "stream",
     "text": [
      "<xarray.DataArray 'data0' (member: 1, level: 1, time: 1, dtime: 1, lat: 5, lon: 5)>\n",
      "array([[[[[[1.1895117499999996, 1.5825819999999964, 1.5825819999999964,\n",
      "            1.5825819999999964, 1.5825819999999966],\n",
      "           [1.1895117499999996, 1.5825819999999966, 1.5825819999999964,\n",
      "            1.5825819999999966, 1.5825819999999964],\n",
      "           [1.1895117499999996, 1.1895117499999996, 1.5825819999999966,\n",
      "            1.5825819999999964, 1.5825819999999966],\n",
      "           [1.1895117499999996, 1.1895117499999996, 1.5825819999999964,\n",
      "            1.5825819999999966, 1.5825819999999966],\n",
      "           [1.1895117499999996, 1.1895117499999996, 1.3725540000000007,\n",
      "            1.5825819999999966, 1.5825819999999964]]]]]], dtype=object)\n",
      "Coordinates:\n",
      "  * member   (member) <U6 'GRAPES'\n",
      "  * level    (level) int32 500\n",
      "  * time     (time) datetime64[ns] 2019-01-31T08:00:00\n",
      "  * dtime    (dtime) int32 24\n",
      "  * lat      (lat) float64 20.0 20.5 21.0 21.5 22.0\n",
      "  * lon      (lon) float64 100.0 100.5 101.0 101.5 102.0\n"
     ]
    }
   ],
   "source": [
    "grd2 = meb.interp_sg_idw(sta,grid1,nearNum = 2)\n",
    "print(grd2)"
   ]
  },
  {
   "cell_type": "code",
   "execution_count": null,
   "metadata": {},
   "outputs": [],
   "source": []
  },
  {
   "cell_type": "code",
   "execution_count": null,
   "metadata": {},
   "outputs": [],
   "source": []
  }
 ],
 "metadata": {
  "kernelspec": {
   "display_name": "Python 3",
   "language": "python",
   "name": "python3"
  },
  "language_info": {
   "codemirror_mode": {
    "name": "ipython",
    "version": 3
   },
   "file_extension": ".py",
   "mimetype": "text/x-python",
   "name": "python",
   "nbconvert_exporter": "python",
   "pygments_lexer": "ipython3",
   "version": "3.7.1"
  }
 },
 "nbformat": 4,
 "nbformat_minor": 2
}
