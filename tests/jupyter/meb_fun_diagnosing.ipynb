{
 "cells": [
  {
   "cell_type": "code",
   "execution_count": 1,
   "metadata": {},
   "outputs": [],
   "source": [
    "%matplotlib inline\n",
    "%load_ext autoreload\n",
    "%autoreload 2\n",
    "import meteva.base as meb\n",
    "import numpy as np\n",
    "import pandas as pd\n",
    "import datetime"
   ]
  },
  {
   "cell_type": "code",
   "execution_count": 2,
   "metadata": {},
   "outputs": [
    {
     "name": "stdout",
     "output_type": "stream",
     "text": [
      "   level                time  dtime     id  lon  lat    ec  grapes  ncep\n",
      "0      0 2019-01-02 08:00:00      0  54511  100   30  49.0    75.0  84.0\n",
      "1      0 2019-01-02 08:00:00      0  54512  101   31  30.0    41.0  38.0\n",
      "2      0 2019-01-02 08:00:00      0  54513  102   32  12.0    57.0  59.0\n",
      "3      0 2019-01-02 08:00:00      0  54514  103   33  67.0    68.0  52.0\n"
     ]
    }
   ],
   "source": [
    "data = {\"id\":np.arange(54511,54515).tolist(),\n",
    "        \"lon\":np.arange(100,104,1).tolist(),\n",
    "        \"lat\":np.arange(30,34,1).tolist(),\n",
    "        \"ec\":(np.random.rand(4)*100).astype(np.int16),\n",
    "        \"grapes\":(np.random.rand(4)*100).astype(np.int16),\n",
    "       \"ncep\":(np.random.rand(4)*100).astype(np.int16)}\n",
    "df = pd.DataFrame(data)\n",
    "sta_en = meb.sta_data(df)\n",
    "meb.set_stadata_coords(sta_en,level = 0,time = datetime.datetime(2019,1,2,8,0),dtime = 0)\n",
    "print(sta_en)"
   ]
  },
  {
   "cell_type": "markdown",
   "metadata": {},
   "source": [
    "# 计算站点数据平均值  \n",
    "**mean_of_sta(sta,used_coords = [\"member\"])**  \n",
    "计算站点数据的平均值  \n",
    "\n",
    "**参数说明：**  \n",
    " **sta**: 站点数据  \n",
    " **used_coords**: 平均操作使用的维度，默认参数是对member维度的平均  \n",
    " **return**: 站点数据      \n",
    "\n",
    "\n",
    "**调用示例**"
   ]
  },
  {
   "cell_type": "code",
   "execution_count": 3,
   "metadata": {},
   "outputs": [
    {
     "name": "stdout",
     "output_type": "stream",
     "text": [
      "   level                time  dtime     id  lon  lat       mean\n",
      "0      0 2019-01-02 08:00:00      0  54511  100   30  69.333336\n",
      "1      0 2019-01-02 08:00:00      0  54512  101   31  36.333332\n",
      "2      0 2019-01-02 08:00:00      0  54513  102   32  42.666668\n",
      "3      0 2019-01-02 08:00:00      0  54514  103   33  62.333332\n"
     ]
    },
    {
     "name": "stderr",
     "output_type": "stream",
     "text": [
      "h:\\task\\develop\\python\\git\\meteva\\meteva\\base\\fun\\diagnosing.py:164: SettingWithCopyWarning: \n",
      "A value is trying to be set on a copy of a slice from a DataFrame.\n",
      "Try using .loc[row_indexer,col_indexer] = value instead\n",
      "\n",
      "See the caveats in the documentation: http://pandas.pydata.org/pandas-docs/stable/user_guide/indexing.html#returning-a-view-versus-a-copy\n",
      "  sta_mean['mean'] =mean\n"
     ]
    }
   ],
   "source": [
    "sta_mean = meb.mean_of_sta(sta_en)\n",
    "print(sta_mean)"
   ]
  },
  {
   "cell_type": "markdown",
   "metadata": {},
   "source": [
    "# 计算站点数据方差  \n",
    "**var_of_sta(sta,used_coords = [\"member\"])**  \n",
    "计算站点数据的方差   \n",
    "\n",
    "**参数说明：**  \n",
    " **sta**: 站点数据  \n",
    " **used_coords**: 平均操作使用的维度，默认参数是对member维度的平均  \n",
    " **return**: 站点数据      \n",
    "\n",
    "\n",
    "**调用示例**"
   ]
  },
  {
   "cell_type": "code",
   "execution_count": 4,
   "metadata": {},
   "outputs": [
    {
     "name": "stdout",
     "output_type": "stream",
     "text": [
      "   level                time  dtime     id  lon  lat         var\n",
      "0      0 2019-01-02 08:00:00      0  54511  100   30  220.222229\n",
      "1      0 2019-01-02 08:00:00      0  54512  101   31   21.555555\n",
      "2      0 2019-01-02 08:00:00      0  54513  102   32  470.888885\n",
      "3      0 2019-01-02 08:00:00      0  54514  103   33   53.555553\n"
     ]
    },
    {
     "name": "stderr",
     "output_type": "stream",
     "text": [
      "h:\\task\\develop\\python\\git\\meteva\\meteva\\base\\fun\\diagnosing.py:180: SettingWithCopyWarning: \n",
      "A value is trying to be set on a copy of a slice from a DataFrame.\n",
      "Try using .loc[row_indexer,col_indexer] = value instead\n",
      "\n",
      "See the caveats in the documentation: http://pandas.pydata.org/pandas-docs/stable/user_guide/indexing.html#returning-a-view-versus-a-copy\n",
      "  sta_var['var'] = var\n"
     ]
    }
   ],
   "source": [
    "sta_var = meb.var_of_sta(sta_en)\n",
    "print(sta_var)"
   ]
  },
  {
   "cell_type": "markdown",
   "metadata": {},
   "source": [
    "# 计算站点数据标准差  \n",
    "**std_of_sta(sta,used_coords = [\"member\"])**  \n",
    "计算站点数据的标准差    \n",
    "\n",
    "**参数说明：**  \n",
    " **sta**: 站点数据  \n",
    " **used_coords**: 平均操作使用的维度，默认参数是对member维度的平均  \n",
    " **return**: 站点数据      \n",
    "\n",
    "\n",
    "**调用示例**"
   ]
  },
  {
   "cell_type": "code",
   "execution_count": 5,
   "metadata": {},
   "outputs": [
    {
     "name": "stdout",
     "output_type": "stream",
     "text": [
      "   level                time  dtime     id  lon  lat        std\n",
      "0      0 2019-01-02 08:00:00      0  54511  100   30  14.839887\n",
      "1      0 2019-01-02 08:00:00      0  54512  101   31   4.642796\n",
      "2      0 2019-01-02 08:00:00      0  54513  102   32  21.699974\n",
      "3      0 2019-01-02 08:00:00      0  54514  103   33   7.318166\n"
     ]
    },
    {
     "name": "stderr",
     "output_type": "stream",
     "text": [
      "h:\\task\\develop\\python\\git\\meteva\\meteva\\base\\fun\\diagnosing.py:172: SettingWithCopyWarning: \n",
      "A value is trying to be set on a copy of a slice from a DataFrame.\n",
      "Try using .loc[row_indexer,col_indexer] = value instead\n",
      "\n",
      "See the caveats in the documentation: http://pandas.pydata.org/pandas-docs/stable/user_guide/indexing.html#returning-a-view-versus-a-copy\n",
      "  sta_std['std'] = std\n"
     ]
    }
   ],
   "source": [
    "sta_std = meb.std_of_sta(sta_en)\n",
    "print(sta_std)"
   ]
  },
  {
   "cell_type": "markdown",
   "metadata": {},
   "source": [
    "# 计算站点数据最小值  \n",
    "**min_of_sta(sta,used_coords = [\"member\"])**  \n",
    "计算站点数据的最小值  \n",
    "\n",
    "**参数说明：**  \n",
    " **sta**: 站点数据  \n",
    " **used_coords**: 平均操作使用的维度，默认参数是对member维度的平均  \n",
    " **return**: 站点数据      \n",
    "\n",
    "\n",
    "**调用示例**"
   ]
  },
  {
   "cell_type": "code",
   "execution_count": 6,
   "metadata": {},
   "outputs": [
    {
     "name": "stdout",
     "output_type": "stream",
     "text": [
      "   level                time  dtime     id  lon  lat   min\n",
      "0      0 2019-01-02 08:00:00      0  54511  100   30  49.0\n",
      "1      0 2019-01-02 08:00:00      0  54512  101   31  30.0\n",
      "2      0 2019-01-02 08:00:00      0  54513  102   32  12.0\n",
      "3      0 2019-01-02 08:00:00      0  54514  103   33  52.0\n"
     ]
    },
    {
     "name": "stderr",
     "output_type": "stream",
     "text": [
      "h:\\task\\develop\\python\\git\\meteva\\meteva\\base\\fun\\diagnosing.py:196: SettingWithCopyWarning: \n",
      "A value is trying to be set on a copy of a slice from a DataFrame.\n",
      "Try using .loc[row_indexer,col_indexer] = value instead\n",
      "\n",
      "See the caveats in the documentation: http://pandas.pydata.org/pandas-docs/stable/user_guide/indexing.html#returning-a-view-versus-a-copy\n",
      "  sta_min['min'] = min1\n"
     ]
    }
   ],
   "source": [
    "sta_min = meb.min_of_sta(sta_en)\n",
    "print(sta_min)"
   ]
  },
  {
   "cell_type": "markdown",
   "metadata": {},
   "source": [
    "# 计算站点数据最大值  \n",
    "**min_of_sta(sta,used_coords = [\"member\"])**  \n",
    "计算站点数据的最大值  \n",
    "\n",
    "**参数说明：**  \n",
    " **sta**: 站点数据  \n",
    " **used_coords**: 平均操作使用的维度，默认参数是对member维度的平均  \n",
    " **return**: 站点数据      \n",
    "\n",
    "\n",
    "**调用示例**"
   ]
  },
  {
   "cell_type": "code",
   "execution_count": 7,
   "metadata": {},
   "outputs": [
    {
     "name": "stdout",
     "output_type": "stream",
     "text": [
      "   level                time  dtime     id  lon  lat   max\n",
      "0      0 2019-01-02 08:00:00      0  54511  100   30  84.0\n",
      "1      0 2019-01-02 08:00:00      0  54512  101   31  41.0\n",
      "2      0 2019-01-02 08:00:00      0  54513  102   32  59.0\n",
      "3      0 2019-01-02 08:00:00      0  54514  103   33  68.0\n"
     ]
    },
    {
     "name": "stderr",
     "output_type": "stream",
     "text": [
      "h:\\task\\develop\\python\\git\\meteva\\meteva\\base\\fun\\diagnosing.py:188: SettingWithCopyWarning: \n",
      "A value is trying to be set on a copy of a slice from a DataFrame.\n",
      "Try using .loc[row_indexer,col_indexer] = value instead\n",
      "\n",
      "See the caveats in the documentation: http://pandas.pydata.org/pandas-docs/stable/user_guide/indexing.html#returning-a-view-versus-a-copy\n",
      "  sta_max['max'] = max1\n"
     ]
    }
   ],
   "source": [
    "sta_max = meb.max_of_sta(sta_en)\n",
    "print(sta_max)"
   ]
  },
  {
   "cell_type": "markdown",
   "metadata": {},
   "source": [
    "# 计算网格数据平均值  \n",
    "**mean_of_grd(grd,used_coords = [\"member\"])**  \n",
    "计算网格数据的平均值  \n",
    "\n",
    "**参数说明：**  \n",
    " **sta**: 站点数据  \n",
    " **used_coords**: 平均操作使用的维度，默认参数是对member维度的平均  \n",
    " **return**: 站点数据      \n",
    "\n",
    "\n",
    "**调用示例**"
   ]
  },
  {
   "cell_type": "code",
   "execution_count": 8,
   "metadata": {},
   "outputs": [
    {
     "name": "stdout",
     "output_type": "stream",
     "text": [
      "<xarray.DataArray 'data0' (member: 3, level: 1, time: 1, dtime: 1, lat: 3, lon: 6)>\n",
      "array([[[[[[1., 1., 1., 1., 1., 1.],\n",
      "           [1., 1., 1., 1., 1., 1.],\n",
      "           [1., 1., 1., 1., 1., 1.]]]]],\n",
      "\n",
      "\n",
      "\n",
      "\n",
      "       [[[[[2., 2., 2., 2., 2., 2.],\n",
      "           [2., 2., 2., 2., 2., 2.],\n",
      "           [2., 2., 2., 2., 2., 2.]]]]],\n",
      "\n",
      "\n",
      "\n",
      "\n",
      "       [[[[[3., 3., 3., 3., 3., 3.],\n",
      "           [3., 3., 3., 3., 3., 3.],\n",
      "           [3., 3., 3., 3., 3., 3.]]]]]])\n",
      "Coordinates:\n",
      "  * member   (member) <U6 'GRAPES' 'EC' 'NCEP'\n",
      "  * level    (level) int32 0\n",
      "  * time     (time) datetime64[ns] 2099-01-01\n",
      "  * dtime    (dtime) int32 0\n",
      "  * lat      (lat) int32 20 21 22\n",
      "  * lon      (lon) int32 100 101 102 103 104 105\n"
     ]
    }
   ],
   "source": [
    "grid0 = meb.grid([100,105,1],[20,22,1],member_list = [\"GRAPES\",\"EC\",\"NCEP\"])\n",
    "grd = meb.grid_data(grid0)\n",
    "grd.values[0,...] = 1\n",
    "grd.values[1,...] = 2\n",
    "grd.values[2,...] = 3\n",
    "print(grd)"
   ]
  },
  {
   "cell_type": "code",
   "execution_count": 9,
   "metadata": {},
   "outputs": [
    {
     "name": "stdout",
     "output_type": "stream",
     "text": [
      "<xarray.DataArray 'data0' (member: 1, level: 1, time: 1, dtime: 1, lat: 3, lon: 6)>\n",
      "array([[[[[[2., 2., 2., 2., 2., 2.],\n",
      "           [2., 2., 2., 2., 2., 2.],\n",
      "           [2., 2., 2., 2., 2., 2.]]]]]])\n",
      "Coordinates:\n",
      "  * member   (member) <U4 'mean'\n",
      "  * level    (level) int32 0\n",
      "  * time     (time) datetime64[ns] 2099-01-01\n",
      "  * dtime    (dtime) int32 0\n",
      "  * lat      (lat) int32 20 21 22\n",
      "  * lon      (lon) int32 100 101 102 103 104 105\n"
     ]
    }
   ],
   "source": [
    "grd_mean = meb.mean_of_grd(grd)\n",
    "print(grd_mean)"
   ]
  },
  {
   "cell_type": "markdown",
   "metadata": {},
   "source": [
    "# 计算网格数据方差  \n",
    "**mean_of_grd(grd,used_coords = [\"member\"])**  \n",
    "计算网格数据的方差    \n",
    "\n",
    "**参数说明：**  \n",
    " **sta**: 站点数据  \n",
    " **used_coords**: 平均操作使用的维度，默认参数是对member维度的平均  \n",
    " **return**: 站点数据      \n",
    "\n",
    "\n",
    "**调用示例**   "
   ]
  },
  {
   "cell_type": "code",
   "execution_count": 10,
   "metadata": {},
   "outputs": [
    {
     "name": "stdout",
     "output_type": "stream",
     "text": [
      "<xarray.DataArray 'data0' (member: 1, level: 1, time: 1, dtime: 1, lat: 3, lon: 6)>\n",
      "array([[[[[[0.666667, 0.666667, 0.666667, 0.666667, 0.666667, 0.666667],\n",
      "           [0.666667, 0.666667, 0.666667, 0.666667, 0.666667, 0.666667],\n",
      "           [0.666667, 0.666667, 0.666667, 0.666667, 0.666667, 0.666667]]]]]])\n",
      "Coordinates:\n",
      "  * member   (member) <U3 'var'\n",
      "  * level    (level) int32 0\n",
      "  * time     (time) datetime64[ns] 2099-01-01\n",
      "  * dtime    (dtime) int32 0\n",
      "  * lat      (lat) int32 20 21 22\n",
      "  * lon      (lon) int32 100 101 102 103 104 105\n"
     ]
    }
   ],
   "source": [
    "grd_var = meb.var_of_grd(grd)\n",
    "print(grd_var)"
   ]
  },
  {
   "cell_type": "markdown",
   "metadata": {},
   "source": [
    "# 计算网格数据标准差  \n",
    "**mean_of_grd(grd,used_coords = [\"member\"])**  \n",
    "计算网格数据的标准差    \n",
    "\n",
    "**参数说明：**  \n",
    " **sta**: 站点数据  \n",
    " **used_coords**: 平均操作使用的维度，默认参数是对member维度的平均  \n",
    " **return**: 站点数据      \n",
    "\n",
    "\n",
    "**调用示例**  "
   ]
  },
  {
   "cell_type": "code",
   "execution_count": 11,
   "metadata": {},
   "outputs": [
    {
     "name": "stdout",
     "output_type": "stream",
     "text": [
      "<xarray.DataArray 'data0' (member: 1, level: 1, time: 1, dtime: 1, lat: 3, lon: 6)>\n",
      "array([[[[[[0.816497, 0.816497, 0.816497, 0.816497, 0.816497, 0.816497],\n",
      "           [0.816497, 0.816497, 0.816497, 0.816497, 0.816497, 0.816497],\n",
      "           [0.816497, 0.816497, 0.816497, 0.816497, 0.816497, 0.816497]]]]]])\n",
      "Coordinates:\n",
      "  * member   (member) <U3 'std'\n",
      "  * level    (level) int32 0\n",
      "  * time     (time) datetime64[ns] 2099-01-01\n",
      "  * dtime    (dtime) int32 0\n",
      "  * lat      (lat) int32 20 21 22\n",
      "  * lon      (lon) int32 100 101 102 103 104 105\n"
     ]
    }
   ],
   "source": [
    "grd_std = meb.std_of_grd(grd)\n",
    "print(grd_std)"
   ]
  },
  {
   "cell_type": "markdown",
   "metadata": {},
   "source": [
    "# 计算网格数据最小值  \n",
    "**mean_of_grd(grd,used_coords = [\"member\"])**  \n",
    "计算网格数据的最小值    \n",
    "\n",
    "**参数说明：**  \n",
    " **sta**: 站点数据  \n",
    " **used_coords**: 平均操作使用的维度，默认参数是对member维度的平均  \n",
    " **return**: 站点数据      \n",
    "\n",
    "\n",
    "**调用示例**  "
   ]
  },
  {
   "cell_type": "code",
   "execution_count": 12,
   "metadata": {},
   "outputs": [
    {
     "name": "stdout",
     "output_type": "stream",
     "text": [
      "<xarray.DataArray 'data0' (member: 1, level: 1, time: 1, dtime: 1, lat: 3, lon: 6)>\n",
      "array([[[[[[1., 1., 1., 1., 1., 1.],\n",
      "           [1., 1., 1., 1., 1., 1.],\n",
      "           [1., 1., 1., 1., 1., 1.]]]]]])\n",
      "Coordinates:\n",
      "  * member   (member) <U3 'min'\n",
      "  * level    (level) int32 0\n",
      "  * time     (time) datetime64[ns] 2099-01-01\n",
      "  * dtime    (dtime) int32 0\n",
      "  * lat      (lat) int32 20 21 22\n",
      "  * lon      (lon) int32 100 101 102 103 104 105\n"
     ]
    }
   ],
   "source": [
    "grd_min = meb.min_of_grd(grd)\n",
    "print(grd_min)"
   ]
  },
  {
   "cell_type": "markdown",
   "metadata": {},
   "source": [
    "# 计算网格数据最大值  \n",
    "**mean_of_grd(grd,used_coords = [\"member\"])**  \n",
    "计算网格数据的最大值      \n",
    "\n",
    "**参数说明：**  \n",
    " **sta**: 站点数据  \n",
    " **used_coords**: 平均操作使用的维度，默认参数是对member维度的平均  \n",
    " **return**: 站点数据      \n",
    "\n",
    "\n",
    "**调用示例**  "
   ]
  },
  {
   "cell_type": "code",
   "execution_count": 13,
   "metadata": {},
   "outputs": [
    {
     "name": "stdout",
     "output_type": "stream",
     "text": [
      "<xarray.DataArray 'data0' (member: 1, level: 1, time: 1, dtime: 1, lat: 3, lon: 6)>\n",
      "array([[[[[[3., 3., 3., 3., 3., 3.],\n",
      "           [3., 3., 3., 3., 3., 3.],\n",
      "           [3., 3., 3., 3., 3., 3.]]]]]])\n",
      "Coordinates:\n",
      "  * member   (member) <U3 'max'\n",
      "  * level    (level) int32 0\n",
      "  * time     (time) datetime64[ns] 2099-01-01\n",
      "  * dtime    (dtime) int32 0\n",
      "  * lat      (lat) int32 20 21 22\n",
      "  * lon      (lon) int32 100 101 102 103 104 105\n"
     ]
    }
   ],
   "source": [
    "grd_max = meb.max_of_grd(grd)\n",
    "print(grd_max)"
   ]
  }
 ],
 "metadata": {
  "kernelspec": {
   "display_name": "Python 3",
   "language": "python",
   "name": "python3"
  },
  "language_info": {
   "codemirror_mode": {
    "name": "ipython",
    "version": 3
   },
   "file_extension": ".py",
   "mimetype": "text/x-python",
   "name": "python",
   "nbconvert_exporter": "python",
   "pygments_lexer": "ipython3",
   "version": "3.7.1"
  }
 },
 "nbformat": 4,
 "nbformat_minor": 2
}
